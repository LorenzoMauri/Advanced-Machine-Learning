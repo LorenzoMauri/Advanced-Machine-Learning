{
 "cells": [
  {
   "cell_type": "markdown",
   "metadata": {
    "id": "ie_er8do7etE"
   },
   "source": [
    "# Generator\n",
    "Dataset generator for the task of automatic detection of canonical orientation of a photo by convolutional neural networks."
   ]
  },
  {
   "cell_type": "code",
   "execution_count": null,
   "metadata": {
    "colab": {
     "base_uri": "https://localhost:8080/"
    },
    "id": "n6isBDJ1uwAU",
    "outputId": "d54091e4-c376-4cea-8aa0-ed8301aa9080"
   },
   "outputs": [
    {
     "name": "stdout",
     "output_type": "stream",
     "text": [
      "Mounted at /content/drive\n"
     ]
    }
   ],
   "source": [
    "from google.colab import drive\n",
    "\n",
    "drive.mount('/content/drive', force_remount=True)"
   ]
  },
  {
   "cell_type": "markdown",
   "metadata": {
    "id": "fc1_NLQB9OPF"
   },
   "source": [
    "## Import modules"
   ]
  },
  {
   "cell_type": "code",
   "execution_count": null,
   "metadata": {
    "id": "f10Twewjqtda"
   },
   "outputs": [],
   "source": [
    "root_dir = '/content'\n",
    "project_dir = '/drive/My Drive/AML project 2021-2-F1801Q151'\n",
    "data_dir = root_dir + project_dir + '/datasets'"
   ]
  },
  {
   "cell_type": "code",
   "execution_count": null,
   "metadata": {
    "cellView": "form",
    "id": "dVRoJAuH60gt"
   },
   "outputs": [],
   "source": [
    "#@title Imports\n",
    "from time import time\n",
    "from PIL import Image\n",
    "import os\n",
    "import requests\n",
    "from shutil import copyfile, copyfileobj\n",
    "import tarfile"
   ]
  },
  {
   "cell_type": "code",
   "execution_count": null,
   "metadata": {
    "cellView": "form",
    "id": "RKICNiZS7PTt"
   },
   "outputs": [],
   "source": [
    "#@title Define helper functions\n",
    "\n",
    "def createFolder(name) :\n",
    "  if not os.path.exists(name):\n",
    "    os.mkdir(name)\n",
    "\n",
    "def transfer(filename, remote_dir, local_dir):\n",
    "  t0 = time()\n",
    "  filename = '/' + filename\n",
    "  if not os.path.isdir(local_dir + '/Images'):\n",
    "    ds_source = remote_dir + filename\n",
    "    ds_destination = local_dir + filename\n",
    "    copyfile(ds_source, ds_destination)\n",
    "    print('File transfer completed in %0.3f seconds' % (time() - t0))\n",
    "    extract(local_dir, ds_destination)\n",
    "  else:\n",
    "    print('File already transfered!')\n",
    "\n",
    "def extract(local_dir, ds_destination, root_dir='/content'):\n",
    "  t1 = time()\n",
    "  os.chdir(local_dir)\n",
    "  tar = tarfile.open(ds_destination)\n",
    "  tar.extractall()\n",
    "  tar.close()\n",
    "  os.remove(ds_destination)\n",
    "  os.chdir(root_dir)\n",
    "  print('File extraction completed in %0.3f seconds' % (time() - t1))\n",
    "\n",
    "def download(url):\n",
    "  filename = url.split('/')[-1]\n",
    "  if not os.path.isfile(data_dir + '/' + filename):\n",
    "    os.chdir(data_dir)\n",
    "    with requests.get(url, stream=True) as r:\n",
    "      with open(filename, 'wb') as f:\n",
    "        copyfileobj(r.raw, f)\n",
    "    os.chdir(root_dir)\n",
    "  return filename\n",
    "\n",
    "def download_txt(url):\n",
    "  filename = url.split('/')[-1]\n",
    "  if not os.path.isfile(data_dir + '/' + filename):\n",
    "    os.chdir(data_dir)\n",
    "    with requests.get(url) as r:\n",
    "      with open(filename, 'wb') as f:\n",
    "        f.write(r.content)\n",
    "    os.chdir(root_dir)\n",
    "  return filename\n",
    "\n",
    "def get_image_paths(filename):\n",
    "  \"\"\"\n",
    "  Return a list of images' paths\n",
    "  :param filename: string\n",
    "\n",
    "  :return: collection of images' paths \n",
    "  :rtype: list\n",
    "  \"\"\"\n",
    "  path = data_dir + '/' + filename\n",
    "  image_paths = []\n",
    "  with open(path, mode='r') as paths:\n",
    "    lines = paths.readlines()\n",
    "    for line in lines:\n",
    "      image_paths.append(line.replace('\\n', ''))\n",
    "  return image_paths\n",
    "\n",
    "def generate(local_dir,\n",
    "             train_image_paths,\n",
    "             source_ds_dir,\n",
    "             destination_ds_dir,\n",
    "             root_dir='/content',\n",
    "             new_width=224,\n",
    "             new_height=224,\n",
    "             resample=Image.BICUBIC):\n",
    "  dir = os.listdir(local_dir + '/' + destination_ds_dir + '0')\n",
    "  if len(dir) == 0:\n",
    "    new_dim = (new_width, new_height)\n",
    "    rotate = [Image.ROTATE_90, Image.ROTATE_180, Image.ROTATE_270]\n",
    "    os.chdir(local_dir)\n",
    "    for image_path in train_image_paths:\n",
    "      original_image = Image.open(source_ds_dir + image_path, mode='r')\n",
    "      image_name = image_path.split('/')[1]\n",
    "      for i, angle in enumerate([0, 90, 180, 270]):\n",
    "        final_image = original_image.resize(size=new_dim, resample=resample)\n",
    "        if i != 0:\n",
    "          final_image = final_image.transpose(method=rotate[i - 1])\n",
    "        if final_image.mode != 'RGB':\n",
    "          final_image = final_image.convert('RGB')\n",
    "        final_image.save(destination_ds_dir + '{}/'.format(angle) + image_name)\n",
    "    os.chdir(root_dir)\n",
    "  else:\n",
    "    print('Generation process already done!')\n",
    "\n",
    "def backup(local_dir, remote_dir, filename):\n",
    "  os.chdir(local_dir)\n",
    "  ds_source = filename\n",
    "  tar = tarfile.open(ds_source, 'w')\n",
    "  tar.add(filename.split('.')[0])\n",
    "  tar.close()\n",
    "  ds_destination = remote_dir + '/' + filename\n",
    "  copyfile(ds_source, ds_destination)\n",
    "  os.remove(ds_source)"
   ]
  },
  {
   "cell_type": "markdown",
   "metadata": {
    "id": "sh6vRw2FYOgF"
   },
   "source": [
    "## Generate dataset"
   ]
  },
  {
   "cell_type": "markdown",
   "metadata": {
    "id": "BmD8zJJ_908V"
   },
   "source": [
    "### indoorCVPR_09"
   ]
  },
  {
   "cell_type": "code",
   "execution_count": null,
   "metadata": {
    "id": "UuDfSe8M48xA"
   },
   "outputs": [],
   "source": [
    "# Download the Indoor Scene Recognition database.\n",
    "# The database contains 67 Indoor categories, and a total of 15620 images.\n",
    "# The number of images varies across categories, but there are at least 100 images per category.\n",
    "# All images are in jpg format.\n",
    "\n",
    "indoor_url = 'http://groups.csail.mit.edu/vision/LabelMe/NewImages/indoorCVPR_09.tar'\n",
    "indoor_filename = download(indoor_url)\n",
    "\n",
    "# A subset of the Indoor Scene Recognition database is considered,\n",
    "# containing 80 training images and 20 testing images per category.\n",
    "\n",
    "indoor_train_url = 'https://web.mit.edu/torralba/www/TrainImages.txt'\n",
    "indoor_train_filename = download_txt(indoor_train_url)\n",
    "\n",
    "indoor_test_url = 'https://web.mit.edu/torralba/www/TestImages.txt'\n",
    "indoor_test_filename = download_txt(indoor_test_url)"
   ]
  },
  {
   "cell_type": "markdown",
   "metadata": {
    "id": "e-Td4ofvjIUp"
   },
   "source": [
    "#### Generate indoorCVPR_09 dataset"
   ]
  },
  {
   "cell_type": "code",
   "execution_count": null,
   "metadata": {
    "id": "-msqPz7E9yhx"
   },
   "outputs": [],
   "source": [
    "indoor_train_image_paths = get_image_paths(indoor_train_filename)\n",
    "indoor_test_image_paths = get_image_paths(indoor_test_filename)"
   ]
  },
  {
   "cell_type": "code",
   "execution_count": null,
   "metadata": {
    "id": "phrFvtmg6sT0"
   },
   "outputs": [],
   "source": [
    "local_indoor_dir = root_dir + '/indoor'\n",
    "createFolder(local_indoor_dir)\n",
    "CLASS_NAMES = [0, 180, 270, 90]\n",
    "\n",
    "rotated_dataset = local_indoor_dir + '/RotatedImages'\n",
    "createFolder(rotated_dataset)\n",
    "for name in CLASS_NAMES:\n",
    "  createFolder(rotated_dataset + '/{}'.format(name))\n",
    "\n",
    "rotated_test_dataset = local_indoor_dir + '/RotatedTestImages'\n",
    "createFolder(rotated_test_dataset)\n",
    "for name in CLASS_NAMES:\n",
    "  createFolder(rotated_test_dataset + '/{}'.format(name))"
   ]
  },
  {
   "cell_type": "code",
   "execution_count": null,
   "metadata": {
    "colab": {
     "base_uri": "https://localhost:8080/"
    },
    "id": "Bv1ugYH3crW3",
    "outputId": "1f29b042-d2a4-4637-cd85-d51741b295d0"
   },
   "outputs": [
    {
     "name": "stdout",
     "output_type": "stream",
     "text": [
      "File transfer completed in 67.833 seconds\n",
      "File extraction completed in 43.478 seconds\n"
     ]
    }
   ],
   "source": [
    "transfer(indoor_filename, data_dir, local_indoor_dir)  # transfer original dataset from GoogleDrive to GoogleColaboratory and extract it"
   ]
  },
  {
   "cell_type": "code",
   "execution_count": null,
   "metadata": {
    "colab": {
     "base_uri": "https://localhost:8080/"
    },
    "id": "954dUntMZjMB",
    "outputId": "6fe239fb-bd76-490f-9a97-5f428a650c84"
   },
   "outputs": [
    {
     "name": "stdout",
     "output_type": "stream",
     "text": [
      "Rotation of train set completed in 162.443 seconds\n"
     ]
    }
   ],
   "source": [
    "t0 = time()\n",
    "generate(local_indoor_dir, indoor_train_image_paths, source_ds_dir='Images/', destination_ds_dir='RotatedImages/')\n",
    "print('Rotation of train set completed in %0.3f seconds' % (time() - t0))"
   ]
  },
  {
   "cell_type": "code",
   "execution_count": null,
   "metadata": {
    "colab": {
     "base_uri": "https://localhost:8080/"
    },
    "id": "vHQJCWN4RgPH",
    "outputId": "0eb6ab71-ec1f-4bb0-ed0f-b32dbf8555ca"
   },
   "outputs": [
    {
     "name": "stdout",
     "output_type": "stream",
     "text": [
      "Rotation of test set completed in 40.770 seconds\n"
     ]
    }
   ],
   "source": [
    "t0 = time()\n",
    "generate(local_indoor_dir, indoor_test_image_paths, source_ds_dir='Images/', destination_ds_dir='RotatedTestImages/')\n",
    "print('Rotation of test set completed in %0.3f seconds' % (time() - t0))"
   ]
  },
  {
   "cell_type": "markdown",
   "metadata": {
    "id": "UltB9gOgoLZh"
   },
   "source": [
    "#### Backup indoorCVPR_09 to Google Drive"
   ]
  },
  {
   "cell_type": "code",
   "execution_count": null,
   "metadata": {
    "id": "bR-01fp7HYlu"
   },
   "outputs": [],
   "source": [
    "remote_indoor_dir = data_dir + '/indoor'\n",
    "createFolder(remote_indoor_dir)"
   ]
  },
  {
   "cell_type": "code",
   "execution_count": null,
   "metadata": {
    "colab": {
     "base_uri": "https://localhost:8080/"
    },
    "id": "r6cpXpOHDLp9",
    "outputId": "da948022-a091-4075-a685-a3274a63dd57"
   },
   "outputs": [
    {
     "name": "stdout",
     "output_type": "stream",
     "text": [
      "Train dataset transfer completed in 8.838 seconds\n"
     ]
    }
   ],
   "source": [
    "# Backup generated train dataset from GoogleColaboratory to GoogleDrive\n",
    "t0 = time()\n",
    "backup(local_indoor_dir, remote_indoor_dir, filename='RotatedImages.tar')\n",
    "print('Train dataset transfer completed in %0.3f seconds' % (time() - t0))"
   ]
  },
  {
   "cell_type": "code",
   "execution_count": null,
   "metadata": {
    "colab": {
     "base_uri": "https://localhost:8080/"
    },
    "id": "nNKfCZZpb2M8",
    "outputId": "e66d122e-6b47-4c91-8a50-ea84488ac649"
   },
   "outputs": [
    {
     "name": "stdout",
     "output_type": "stream",
     "text": [
      "Test dataset transfer completed in 2.431 seconds\n"
     ]
    }
   ],
   "source": [
    "# Backup generated test dataset from GoogleColaboratory to GoogleDrive\n",
    "t0 = time()\n",
    "backup(local_indoor_dir, remote_indoor_dir, filename='RotatedTestImages.tar')\n",
    "print('Test dataset transfer completed in %0.3f seconds' % (time() - t0))"
   ]
  }
 ],
 "metadata": {
  "colab": {
   "collapsed_sections": [
    "ie_er8do7etE",
    "fc1_NLQB9OPF",
    "sh6vRw2FYOgF",
    "BmD8zJJ_908V"
   ],
   "name": "generator_executed_successfully.ipynb",
   "provenance": [],
   "toc_visible": true
  },
  "kernelspec": {
   "display_name": "Python 3",
   "language": "python",
   "name": "python3"
  },
  "language_info": {
   "codemirror_mode": {
    "name": "ipython",
    "version": 3
   },
   "file_extension": ".py",
   "mimetype": "text/x-python",
   "name": "python",
   "nbconvert_exporter": "python",
   "pygments_lexer": "ipython3",
   "version": "3.7.4"
  }
 },
 "nbformat": 4,
 "nbformat_minor": 1
}
