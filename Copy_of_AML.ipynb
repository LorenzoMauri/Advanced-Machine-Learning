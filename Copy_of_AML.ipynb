{
  "nbformat": 4,
  "nbformat_minor": 0,
  "metadata": {
    "colab": {
      "name": "Copy of AML.ipynb",
      "provenance": [],
      "collapsed_sections": [],
      "toc_visible": true,
      "mount_file_id": "1gqYPNz3OEz1qotspkbfCodDwPHY4RaOX",
      "authorship_tag": "ABX9TyOYtKzqemf7ikgoMGjSyvJ/",
      "include_colab_link": true
    },
    "kernelspec": {
      "name": "python3",
      "display_name": "Python 3"
    },
    "accelerator": "GPU"
  },
  "cells": [
    {
      "cell_type": "markdown",
      "metadata": {
        "id": "view-in-github",
        "colab_type": "text"
      },
      "source": [
        "<a href=\"https://colab.research.google.com/github/LorenzoMauri/Advanced-Machine-Learning/blob/main/Copy_of_AML.ipynb\" target=\"_parent\"><img src=\"https://colab.research.google.com/assets/colab-badge.svg\" alt=\"Open In Colab\"/></a>"
      ]
    },
    {
      "cell_type": "code",
      "metadata": {
        "id": "iogtWt_tVtrr"
      },
      "source": [
        "from shutil import copyfile\r\n",
        "import tarfile\r\n",
        "from skimage import transform\r\n",
        "import keras\r\n",
        "import skimage\r\n",
        "from sklearn.metrics import classification_report, confusion_matrix\r\n",
        "import numpy as np \r\n",
        "from matplotlib import pyplot as plt\r\n",
        "import seaborn as sns\r\n",
        "from keras import Model\r\n",
        "from keras.layers import Conv2D,Input,MaxPooling2D,Dense,Flatten,Dropout"
      ],
      "execution_count": 100,
      "outputs": []
    },
    {
      "cell_type": "code",
      "metadata": {
        "id": "HHHtWJoVUnJl"
      },
      "source": [
        "copyfile('/content/drive/MyDrive/indoorCVPR_09/dataset_new.tar', 'dataset_new.tar')\r\n",
        "tar = tarfile.open('dataset_new.tar')\r\n",
        "tar.extractall()\r\n",
        "tar.close()"
      ],
      "execution_count": 2,
      "outputs": []
    },
    {
      "cell_type": "code",
      "metadata": {
        "id": "FfHWmIdxRz5_"
      },
      "source": [
        "def trainModel(model,training,validation,\r\n",
        "               epochs=12,batch_size = 128,\r\n",
        "               loss_func = keras.optimizers.Adam()):\r\n",
        "  \r\n",
        "  model.compile(loss=keras.losses.categorical_crossentropy,\r\n",
        "            optimizer=loss_func,\r\n",
        "            metrics=['accuracy'])\r\n",
        "\r\n",
        "  # training\r\n",
        "  modello = model.fit(x = training, validation_data = validation, epochs = epochs,batch_size = batch_size)\r\n",
        "  \r\n",
        "  return modello\r\n",
        "\r\n",
        "def plotPerformance(modello):\r\n",
        "  fig = plt.figure(figsize = [8,5])\r\n",
        "  plt.subplot(1, 2, 1)\r\n",
        "  plt.title('accuracy')\r\n",
        "  plt.plot(modello.history['accuracy'],label='training',marker='.')\r\n",
        "  plt.plot(modello.history['val_accuracy'],label='validation',marker='.')\r\n",
        "  plt.legend()\r\n",
        "  plt.subplot(1, 2, 2)\r\n",
        "  plt.title('loss')\r\n",
        "  plt.plot(modello.history['loss'],label='training',marker='.')\r\n",
        "  plt.plot(modello.history['val_loss'],label='validation',marker='.')\r\n",
        "  plt.legend()\r\n",
        "    \r\n",
        "  plt.show()\r\n",
        "\r\n",
        "def confMatrixHeatmap(y_true,y_pred,report = True):\r\n",
        "  conf_matrix = confusion_matrix(y_true, y_pred)\r\n",
        "  heatmap = sns.heatmap(conf_matrix, annot=True, fmt=\"d\")\r\n",
        "  if report : \r\n",
        "      print(\"\\n\"*3)\r\n",
        "      print(\"------------- classification report -------------\")\r\n",
        "      print(classification_report(y_true=y_true,y_pred=y_pred))\r\n",
        "      print(\"-------------------------------------------------\")\r\n",
        "      print(\"\\n\"*3)\r\n",
        "  return conf_matrix, heatmap\r\n",
        "  \r\n",
        "def predicted_labels(modello,test):\r\n",
        "  categories = [0,90,180,270]\r\n",
        "  predictions = modello.predict(test)\r\n",
        "  return [np.argmax(prob) for prob in predictions]\r\n",
        "\r\n",
        "def buildModel(model_type,\r\n",
        "               input_shape = (224,224,3),units_final_layer=4):\r\n",
        "  if model_type == 'mobilenet' : \r\n",
        "    base_model = mobilenet_v2.MobileNetV2(input_shape=input_shape, weights='imagenet', include_top=False, pooling='avg')\r\n",
        "  else :  base_model = VGG16(input_shape=input_shape, weights='imagenet', include_top=False)\r\n",
        "    \r\n",
        "    \r\n",
        "  # blocco i layer pre-allenati in modo tale che durante le epoch rimangano fissi\r\n",
        "  for layer in base_model.layers:\r\n",
        "      layer.trainable = False\r\n",
        "\r\n",
        "  # parte finale del modello di base\r\n",
        "  x = base_model.output\r\n",
        "  x = Flatten()(x)\r\n",
        "  x = Dense(10, activation='relu', name='fullyConnected_0')(x)\r\n",
        "  x = Dropout(0.5)(x)\r\n",
        "  \r\n",
        "  x = Dense(10, activation='relu', name='fullyConnected_1')(x)\r\n",
        "  x = Dense(units_final_layer, activation='softmax', name='predictions')(x)\r\n",
        "\r\n",
        "  # Modello\r\n",
        "  model = Model(inputs=base_model.input, outputs=x)\r\n",
        "  return model"
      ],
      "execution_count": 104,
      "outputs": []
    },
    {
      "cell_type": "code",
      "metadata": {
        "id": "i-2Fj8bzJ8Zr"
      },
      "source": [
        "def DataLoader(preprocessing_function,dataAugmentation=False,\r\n",
        "               base_path='/content/dataset_new/',validation_split=0.1):\r\n",
        " \r\n",
        "  # decido se fare data augmentation o meno  \r\n",
        "  if dataAugmentation == False : \r\n",
        "    train_datagen = keras.preprocessing.image.ImageDataGenerator(preprocessing_function=preprocessing_function,\r\n",
        "                                                                 validation_split = validation_split                                                              \r\n",
        "                                                                 )\r\n",
        "    \r\n",
        "    test_datagen = keras.preprocessing.image.ImageDataGenerator(preprocessing_function=preprocessing_function,\r\n",
        "                                                                validation_split = validation_split\r\n",
        "                                                               )\r\n",
        "  else : \r\n",
        "    train_datagen = keras.preprocessing.image.ImageDataGenerator(preprocessing_function=preprocessing_function ,                                  \r\n",
        "                                      zoom_range=0.6\r\n",
        "                                      )\r\n",
        "    \r\n",
        "    test_datagen = keras.preprocessing.image.ImageDataGenerator(preprocessing_function=preprocessing_function,\r\n",
        "                                     zoom_range=0.6                                 \r\n",
        "                                      )\r\n",
        "  \r\n",
        "  # importo i dati \r\n",
        "  training = train_datagen.flow_from_directory(directory=base_path+ 'training',\r\n",
        "                                                  target_size=(224, 224),\r\n",
        "                                                  color_mode=\"rgb\",\r\n",
        "                                                  batch_size=128,\r\n",
        "                                                  class_mode=\"categorical\",\r\n",
        "                                                  subset = 'training',\r\n",
        "                                                  shuffle=True,\r\n",
        "                                                  seed=1)\r\n",
        "  \r\n",
        "  validation = train_datagen.flow_from_directory(directory=base_path+ 'training',\r\n",
        "                                                  target_size=(224, 224),\r\n",
        "                                                  color_mode=\"rgb\",\r\n",
        "                                                  batch_size=128,\r\n",
        "                                                  class_mode=\"categorical\",\r\n",
        "                                                  subset = 'validation',\r\n",
        "                                                  shuffle=True,\r\n",
        "                                                  seed=1)\r\n",
        "\r\n",
        "   \r\n",
        "  test = test_datagen.flow_from_directory(directory=base_path+'test',\r\n",
        "                                             target_size=(224, 224),\r\n",
        "                                             color_mode=\"rgb\",\r\n",
        "                                             batch_size=128,\r\n",
        "                                             class_mode=\"categorical\",\r\n",
        "                                             shuffle=True,                                            \r\n",
        "                                             seed = 1)\r\n",
        "  return training,validation,test"
      ],
      "execution_count": 16,
      "outputs": []
    },
    {
      "cell_type": "markdown",
      "metadata": {
        "id": "ik1dKYKMJOx5"
      },
      "source": [
        "# Dataset indoorCVPR_09 \r\n",
        "\r\n",
        "\r\n",
        "\r\n",
        "\r\n",
        "---\r\n",
        "\r\n"
      ]
    },
    {
      "cell_type": "markdown",
      "metadata": {
        "id": "sBJahlT12sZH"
      },
      "source": [
        "## Costruzione modello : fine tuning "
      ]
    },
    {
      "cell_type": "code",
      "metadata": {
        "id": "6b_hH6yQSHSF",
        "colab": {
          "base_uri": "https://localhost:8080/"
        },
        "outputId": "a20fe9db-509d-4669-c9e8-a2c1e27d4a40"
      },
      "source": [
        "from tensorflow.keras.applications import mobilenet_v2\r\n",
        "model_built = buildModel(model_type='mobilenet',units_final_layer=4)\r\n"
      ],
      "execution_count": 5,
      "outputs": [
        {
          "output_type": "stream",
          "text": [
            "Downloading data from https://storage.googleapis.com/tensorflow/keras-applications/mobilenet_v2/mobilenet_v2_weights_tf_dim_ordering_tf_kernels_1.0_224_no_top.h5\n",
            "9412608/9406464 [==============================] - 0s 0us/step\n"
          ],
          "name": "stdout"
        }
      ]
    },
    {
      "cell_type": "code",
      "metadata": {
        "id": "Kan2e5LLVA7X"
      },
      "source": [
        "model_built.summary()"
      ],
      "execution_count": null,
      "outputs": []
    },
    {
      "cell_type": "markdown",
      "metadata": {
        "id": "bh4QIKxj2RBH"
      },
      "source": [
        "## Splitting training,validation,test\r\n",
        "\r\n",
        ">ripartizione : 60 | 22 | 18  %"
      ]
    },
    {
      "cell_type": "code",
      "metadata": {
        "id": "jlVVHZy8QVBM",
        "colab": {
          "base_uri": "https://localhost:8080/"
        },
        "outputId": "dffe3ddc-737c-437f-d7e3-62b9da388e9d"
      },
      "source": [
        "training,validation,test = DataLoader(preprocessing_function = mobilenet_v2.preprocess_input,validation_split=0.275)"
      ],
      "execution_count": 32,
      "outputs": [
        {
          "output_type": "stream",
          "text": [
            "Found 3107 images belonging to 4 classes.\n",
            "Found 1175 images belonging to 4 classes.\n",
            "Found 920 images belonging to 4 classes.\n"
          ],
          "name": "stdout"
        }
      ]
    },
    {
      "cell_type": "markdown",
      "metadata": {
        "id": "R-NP2_Nm2y-3"
      },
      "source": [
        "## Training e Validation : performances"
      ]
    },
    {
      "cell_type": "code",
      "metadata": {
        "id": "Hl_TSJweSZGo",
        "colab": {
          "base_uri": "https://localhost:8080/"
        },
        "outputId": "4508704a-513a-41d2-c4d8-025b1b04de09"
      },
      "source": [
        "model_trained_mobnet= trainModel(model_built,training,validation)"
      ],
      "execution_count": 36,
      "outputs": [
        {
          "output_type": "stream",
          "text": [
            "Epoch 1/12\n",
            "25/25 [==============================] - 19s 420ms/step - loss: 1.3710 - accuracy: 0.3080 - val_loss: 1.2301 - val_accuracy: 0.4443\n",
            "Epoch 2/12\n",
            "25/25 [==============================] - 9s 373ms/step - loss: 1.2602 - accuracy: 0.3623 - val_loss: 1.1289 - val_accuracy: 0.4749\n",
            "Epoch 3/12\n",
            "25/25 [==============================] - 10s 380ms/step - loss: 1.1939 - accuracy: 0.3966 - val_loss: 1.0663 - val_accuracy: 0.5064\n",
            "Epoch 4/12\n",
            "25/25 [==============================] - 10s 380ms/step - loss: 1.1287 - accuracy: 0.4377 - val_loss: 1.0342 - val_accuracy: 0.5506\n",
            "Epoch 5/12\n",
            "25/25 [==============================] - 9s 378ms/step - loss: 1.0923 - accuracy: 0.4333 - val_loss: 0.9790 - val_accuracy: 0.5745\n",
            "Epoch 6/12\n",
            "25/25 [==============================] - 9s 378ms/step - loss: 1.0716 - accuracy: 0.4687 - val_loss: 0.9234 - val_accuracy: 0.5702\n",
            "Epoch 7/12\n",
            "25/25 [==============================] - 9s 376ms/step - loss: 1.0386 - accuracy: 0.4535 - val_loss: 0.8799 - val_accuracy: 0.5770\n",
            "Epoch 8/12\n",
            "25/25 [==============================] - 10s 382ms/step - loss: 1.0127 - accuracy: 0.4940 - val_loss: 0.8802 - val_accuracy: 0.5855\n",
            "Epoch 9/12\n",
            "25/25 [==============================] - 9s 374ms/step - loss: 1.0038 - accuracy: 0.4822 - val_loss: 0.8627 - val_accuracy: 0.5957\n",
            "Epoch 10/12\n",
            "25/25 [==============================] - 9s 376ms/step - loss: 0.9576 - accuracy: 0.5109 - val_loss: 0.8465 - val_accuracy: 0.5898\n",
            "Epoch 11/12\n",
            "25/25 [==============================] - 9s 374ms/step - loss: 0.9317 - accuracy: 0.5146 - val_loss: 0.8509 - val_accuracy: 0.5779\n",
            "Epoch 12/12\n",
            "25/25 [==============================] - 9s 376ms/step - loss: 0.9020 - accuracy: 0.5449 - val_loss: 0.8463 - val_accuracy: 0.5847\n"
          ],
          "name": "stdout"
        }
      ]
    },
    {
      "cell_type": "code",
      "metadata": {
        "colab": {
          "base_uri": "https://localhost:8080/",
          "height": 335
        },
        "id": "73jNPc8Pj-zw",
        "outputId": "cdb4fdb9-e673-4a1f-8ba7-8b2cb06cf97f"
      },
      "source": [
        "plotPerformance(model_trained_mobnet)"
      ],
      "execution_count": 43,
      "outputs": [
        {
          "output_type": "display_data",
          "data": {
            "image/png": "[encoded data removed]",
            "text/plain": [
              "<Figure size 576x360 with 2 Axes>"
            ]
          },
          "metadata": {
            "tags": [],
            "needs_background": "light"
          }
        }
      ]
    },
    {
      "cell_type": "code",
      "metadata": {
        "colab": {
          "base_uri": "https://localhost:8080/"
        },
        "id": "JfcII4wp7jwf",
        "outputId": "2c91b796-0f1d-4ae5-8015-d046a9a0bad2"
      },
      "source": [
        "predictions = model_built.predict(test)\r\n",
        "predictions"
      ],
      "execution_count": 66,
      "outputs": [
        {
          "output_type": "execute_result",
          "data": {
            "text/plain": [
              "array([[2.3421862e-03, 2.9583851e-02, 4.7244844e-01, 4.9562556e-01],\n",
              "       [8.9864784e-01, 5.4260716e-02, 3.3652168e-02, 1.3439226e-02],\n",
              "       [8.5219604e-01, 5.1320698e-02, 6.4451225e-02, 3.2032091e-02],\n",
              "       ...,\n",
              "       [3.4754559e-01, 5.7265979e-01, 2.7969556e-02, 5.1825091e-02],\n",
              "       [9.9480397e-01, 3.9460282e-03, 1.0481633e-03, 2.0173394e-04],\n",
              "       [2.4795467e-03, 2.0622877e-02, 4.8734829e-01, 4.8954928e-01]],\n",
              "      dtype=float32)"
            ]
          },
          "metadata": {
            "tags": []
          },
          "execution_count": 66
        }
      ]
    },
    {
      "cell_type": "code",
      "metadata": {
        "id": "gVL8SAVW50KR"
      },
      "source": [
        "predictions = predicted_labels(model_built,test)"
      ],
      "execution_count": 97,
      "outputs": []
    },
    {
      "cell_type": "code",
      "metadata": {
        "colab": {
          "base_uri": "https://localhost:8080/",
          "height": 615
        },
        "id": "yB_c29gbiuv-",
        "outputId": "b0d0aff9-051c-4733-d346-57e73b4c56d0"
      },
      "source": [
        "conf_matrix, heatmap = confMatrixHeatmap(y_pred = predictions,y_true = test.labels )"
      ],
      "execution_count": 105,
      "outputs": [
        {
          "output_type": "stream",
          "text": [
            "\n",
            "\n",
            "\n",
            "\n",
            "------------- classification report -------------\n",
            "              precision    recall  f1-score   support\n",
            "\n",
            "           0       0.28      0.27      0.28       241\n",
            "           1       0.20      0.19      0.20       224\n",
            "           2       0.29      0.18      0.23       224\n",
            "           3       0.23      0.33      0.27       231\n",
            "\n",
            "    accuracy                           0.25       920\n",
            "   macro avg       0.25      0.24      0.24       920\n",
            "weighted avg       0.25      0.25      0.24       920\n",
            "\n",
            "-------------------------------------------------\n",
            "\n",
            "\n",
            "\n",
            "\n"
          ],
          "name": "stdout"
        },
        {
          "output_type": "display_data",
          "data": {
            "image/png": "[encoded data removed]",
            "text/plain": [
              "<Figure size 432x288 with 2 Axes>"
            ]
          },
          "metadata": {
            "tags": [],
            "needs_background": "light"
          }
        }
      ]
    },
    {
      "cell_type": "markdown",
      "metadata": {
        "id": "88pEtO2vHwpV"
      },
      "source": [
        "\r\n",
        "\r\n",
        "---\r\n",
        "\r\n",
        "\r\n",
        "## Test zone \r\n",
        "\r\n",
        "\r\n",
        "\r\n",
        "---\r\n",
        "\r\n"
      ]
    }
  ]
}