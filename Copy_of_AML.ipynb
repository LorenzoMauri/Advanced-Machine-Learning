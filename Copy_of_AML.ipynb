{
  "nbformat": 4,
  "nbformat_minor": 0,
  "metadata": {
    "colab": {
      "name": "Copy of AML.ipynb",
      "provenance": [],
      "collapsed_sections": [],
      "toc_visible": true,
      "mount_file_id": "1gqYPNz3OEz1qotspkbfCodDwPHY4RaOX",
      "authorship_tag": "ABX9TyNt1RD4gtcVpTlrwvuD/qjd",
      "include_colab_link": true
    },
    "kernelspec": {
      "name": "python3",
      "display_name": "Python 3"
    },
    "accelerator": "GPU"
  },
  "cells": [
    {
      "cell_type": "markdown",
      "metadata": {
        "id": "view-in-github",
        "colab_type": "text"
      },
      "source": [
        "<a href=\"https://colab.research.google.com/github/LorenzoMauri/Advanced-Machine-Learning/blob/main/Copy_of_AML.ipynb\" target=\"_parent\"><img src=\"https://colab.research.google.com/assets/colab-badge.svg\" alt=\"Open In Colab\"/></a>"
      ]
    },
    {
      "cell_type": "code",
      "metadata": {
        "id": "iogtWt_tVtrr"
      },
      "source": [
        "from shutil import copyfile\r\n",
        "import tarfile\r\n",
        "from skimage import transform\r\n",
        "import keras\r\n",
        "import skimage\r\n",
        "from tensorflow.keras.applications.vgg16 import VGG16\r\n",
        "from tensorflow.keras.applications import mobilenet_v2\r\n",
        "from sklearn.metrics import classification_report, confusion_matrix\r\n",
        "import numpy as np \r\n",
        "from keras.utils import to_categorical\r\n",
        "from matplotlib import pyplot as plt\r\n",
        "import seaborn as sns\r\n",
        "from keras import Model\r\n",
        "from keras.layers import Conv2D,Input,MaxPooling2D,Dense,Flatten,Dropout"
      ],
      "execution_count": 180,
      "outputs": []
    },
    {
      "cell_type": "code",
      "metadata": {
        "id": "HHHtWJoVUnJl"
      },
      "source": [
        "copyfile('/content/drive/MyDrive/indoorCVPR_09/dataset_new.tar', 'dataset_new.tar')\r\n",
        "tar = tarfile.open('dataset_new.tar')\r\n",
        "tar.extractall()\r\n",
        "tar.close()"
      ],
      "execution_count": 60,
      "outputs": []
    },
    {
      "cell_type": "markdown",
      "metadata": {
        "id": "nz28aJ4RCO8X"
      },
      "source": [
        "# Funzioni"
      ]
    },
    {
      "cell_type": "markdown",
      "metadata": {
        "id": "4cPOypHUGiKH"
      },
      "source": [
        "## data loader"
      ]
    },
    {
      "cell_type": "code",
      "metadata": {
        "id": "i-2Fj8bzJ8Zr"
      },
      "source": [
        "def DataLoader(preprocessing_function,dataAugmentation=False,\r\n",
        "               base_path='/content/dataset_new/',validation_split=0.1,batch_size = 64):\r\n",
        " \r\n",
        "  # decido se fare data augmentation o meno  \r\n",
        "  if dataAugmentation == False : \r\n",
        "    train_datagen = keras.preprocessing.image.ImageDataGenerator(preprocessing_function=preprocessing_function,\r\n",
        "                                                                 validation_split = validation_split                                                              \r\n",
        "                                                                 )\r\n",
        "    \r\n",
        "    test_datagen = keras.preprocessing.image.ImageDataGenerator(preprocessing_function=preprocessing_function,\r\n",
        "                                                                validation_split = validation_split\r\n",
        "                                                               )\r\n",
        "  else : \r\n",
        "    train_datagen = keras.preprocessing.image.ImageDataGenerator(preprocessing_function=preprocessing_function ,                                  \r\n",
        "                                      zoom_range=0.6\r\n",
        "                                      )\r\n",
        "    \r\n",
        "    test_datagen = keras.preprocessing.image.ImageDataGenerator(preprocessing_function=preprocessing_function,\r\n",
        "                                     zoom_range=0.6                                 \r\n",
        "                                      )\r\n",
        "  \r\n",
        "  # importo i dati \r\n",
        "  training = train_datagen.flow_from_directory(directory=base_path+ 'training',\r\n",
        "                                                  target_size=(224, 224),\r\n",
        "                                                  color_mode=\"rgb\",\r\n",
        "                                                  class_mode=\"categorical\",\r\n",
        "                                                  subset = 'training',\r\n",
        "                                                  shuffle=True,\r\n",
        "                                                  batch_size = batch_size,\r\n",
        "                                                  seed=1)\r\n",
        "  \r\n",
        "  validation = train_datagen.flow_from_directory(directory=base_path+ 'training',\r\n",
        "                                                  target_size=(224, 224),\r\n",
        "                                                  color_mode=\"rgb\",\r\n",
        "                                                  class_mode=\"categorical\",\r\n",
        "                                                  subset = 'validation',\r\n",
        "                                                  batch_size = batch_size,\r\n",
        "                                                  shuffle=True,\r\n",
        "                                                  seed=1)\r\n",
        "\r\n",
        "   \r\n",
        "  test = test_datagen.flow_from_directory(directory=base_path+'test',\r\n",
        "                                             target_size=(224, 224),\r\n",
        "                                             color_mode=\"rgb\",\r\n",
        "                                             class_mode=\"categorical\",\r\n",
        "                                             shuffle=True,   \r\n",
        "                                             batch_size = batch_size,                                         \r\n",
        "                                             seed = 1)\r\n",
        "  return training,validation,test"
      ],
      "execution_count": 152,
      "outputs": []
    },
    {
      "cell_type": "markdown",
      "metadata": {
        "id": "VB5DHXZBGpEA"
      },
      "source": [
        "## modello"
      ]
    },
    {
      "cell_type": "code",
      "metadata": {
        "id": "GkJccGthGouA"
      },
      "source": [
        "def buildModel(model_type,\r\n",
        "               input_shape = (224,224,3),units_final_layer=4):\r\n",
        "  if model_type == 'mobilenet' : \r\n",
        "    base_model = mobilenet_v2.MobileNetV2(input_shape=input_shape, weights='imagenet', include_top=False, pooling='avg')\r\n",
        "  else :  base_model = VGG16(input_shape=input_shape, weights='imagenet', include_top=False)\r\n",
        "    \r\n",
        "    \r\n",
        "  # blocco i layer pre-allenati in modo tale che durante le epoch rimangano fissi\r\n",
        "  for layer in base_model.layers:\r\n",
        "      layer.trainable = False\r\n",
        "\r\n",
        "  # parte finale del modello di base\r\n",
        "  x = base_model.output\r\n",
        "  x = Flatten()(x)\r\n",
        "  x = Dense(128, activation='relu', name='fullyConnected_0')(x)\r\n",
        "  x = Dense(128, activation='relu', name='fullyConnected_1')(x)\r\n",
        "  x = Dense(64, activation='relu', name='fullyConnected_2')(x)\r\n",
        "  x = Dropout(0.5)(x)\r\n",
        "  x = Dense(64, activation='relu', name='fullyConnected_3')(x)\r\n",
        "  x = Dense(32, activation='relu', name='fullyConnected_4')(x)\r\n",
        "  x = Dense(32, activation='relu', name='fullyConnected_5')(x)\r\n",
        "  x = Dense(units_final_layer, activation='softmax', name='predictions')(x)\r\n",
        "\r\n",
        "  # Modello\r\n",
        "  model = Model(inputs=base_model.input, outputs=x)\r\n",
        "  return model"
      ],
      "execution_count": 191,
      "outputs": []
    },
    {
      "cell_type": "code",
      "metadata": {
        "id": "FfHWmIdxRz5_"
      },
      "source": [
        "def trainModel(model,training,\r\n",
        "               validation,epochs=12,loss=keras.losses.categorical_crossentropy,\r\n",
        "               opt = keras.optimizers.Adam()):\r\n",
        "  \r\n",
        "  model.compile(loss=loss,\r\n",
        "            optimizer=opt,\r\n",
        "            metrics=['accuracy'])\r\n",
        "\r\n",
        "  # training\r\n",
        "  modello = model.fit(x = training, validation_data = validation, epochs = epochs)\r\n",
        "  \r\n",
        "  return modello\r\n",
        "\r\n",
        "def plotPerformance(modello):\r\n",
        "  fig = plt.figure(figsize = [8,5])\r\n",
        "  plt.subplot(1, 2, 1)\r\n",
        "  plt.title('accuracy')\r\n",
        "  plt.plot(modello.history['accuracy'],label='training',marker='.')\r\n",
        "  plt.plot(modello.history['val_accuracy'],label='validation',marker='.')\r\n",
        "  plt.legend()\r\n",
        "  plt.subplot(1, 2, 2)\r\n",
        "  plt.title('loss')\r\n",
        "  plt.plot(modello.history['loss'],label='training',marker='.')\r\n",
        "  plt.plot(modello.history['val_loss'],label='validation',marker='.')\r\n",
        "  plt.legend()\r\n",
        "    \r\n",
        "  plt.show()\r\n",
        "\r\n",
        "def confMatrixHeatmap(y_true,y_pred,report = True):\r\n",
        "  conf_matrix = confusion_matrix(y_true, y_pred)\r\n",
        "  heatmap = sns.heatmap(conf_matrix, annot=True, fmt=\"d\")\r\n",
        "  if report : \r\n",
        "      print(\"\\n\"*3)\r\n",
        "      print(\"------------- classification report -------------\")\r\n",
        "      print(classification_report(y_true=y_true,y_pred=y_pred))\r\n",
        "      print(\"-------------------------------------------------\")\r\n",
        "      print(\"\\n\"*3)\r\n",
        "  return conf_matrix, heatmap\r\n",
        "  \r\n",
        "def predicted_labels(modello,test):\r\n",
        "  categories = [0,90,180,270]\r\n",
        "  predictions = modello.predict(test)\r\n",
        "  return [np.argmax(prob) for prob in predictions]"
      ],
      "execution_count": 190,
      "outputs": []
    },
    {
      "cell_type": "markdown",
      "metadata": {
        "id": "Z-deLKNhCURJ"
      },
      "source": [
        "# Costanti"
      ]
    },
    {
      "cell_type": "code",
      "metadata": {
        "id": "O8vRGoxGCH8h"
      },
      "source": [
        "BATCH_SIZE = 8\r\n",
        "VALIDATION_SPLIT = 0.275"
      ],
      "execution_count": 206,
      "outputs": []
    },
    {
      "cell_type": "markdown",
      "metadata": {
        "id": "ik1dKYKMJOx5"
      },
      "source": [
        "# Dataset indoorCVPR_09 \r\n",
        "\r\n",
        "\r\n",
        "\r\n",
        "\r\n",
        "---\r\n",
        "\r\n"
      ]
    },
    {
      "cell_type": "markdown",
      "metadata": {
        "id": "sBJahlT12sZH"
      },
      "source": [
        "## Costruzione modelli\r\n",
        "\r\n",
        "* MobileNet\r\n",
        "* VGG16"
      ]
    },
    {
      "cell_type": "code",
      "metadata": {
        "id": "6b_hH6yQSHSF"
      },
      "source": [
        "model_built_vgg16 = buildModel(model_type='vgg16',units_final_layer=4)\r\n",
        "model_built_mobnet = buildModel(model_type='mobilenet',units_final_layer=4)\r\n"
      ],
      "execution_count": 211,
      "outputs": []
    },
    {
      "cell_type": "markdown",
      "metadata": {
        "id": "gfVd0tlf_bGh"
      },
      "source": [
        "#MobileNet fine tuning"
      ]
    },
    {
      "cell_type": "markdown",
      "metadata": {
        "id": "bh4QIKxj2RBH"
      },
      "source": [
        "## Splitting training,validation,test\r\n",
        "\r\n",
        ">ripartizione : 60 | 22 | 18  %"
      ]
    },
    {
      "cell_type": "code",
      "metadata": {
        "id": "jlVVHZy8QVBM",
        "colab": {
          "base_uri": "https://localhost:8080/"
        },
        "outputId": "8d24c24a-feff-4cc2-bf0b-b3a87e584756"
      },
      "source": [
        "training,validation,test = DataLoader(preprocessing_function = mobilenet_v2.preprocess_input,\r\n",
        "                                      validation_split=VALIDATION_SPLIT,batch_size = BATCH_SIZE)"
      ],
      "execution_count": 207,
      "outputs": [
        {
          "output_type": "stream",
          "text": [
            "Found 3107 images belonging to 4 classes.\n",
            "Found 1175 images belonging to 4 classes.\n",
            "Found 920 images belonging to 4 classes.\n"
          ],
          "name": "stdout"
        }
      ]
    },
    {
      "cell_type": "markdown",
      "metadata": {
        "id": "R-NP2_Nm2y-3"
      },
      "source": [
        "## Training e Validation "
      ]
    },
    {
      "cell_type": "code",
      "metadata": {
        "id": "Hl_TSJweSZGo"
      },
      "source": [
        "opt = keras.optimizers.SGD(momentum = 0.9 , learning_rate = 0.01)\r\n",
        "model_trained_mobnet= trainModel(model_built_mobnet,training=training,\r\n",
        "                                 validation=validation, opt = opt)"
      ],
      "execution_count": null,
      "outputs": []
    },
    {
      "cell_type": "code",
      "metadata": {
        "id": "eKa8MbtUHE7Y"
      },
      "source": [
        ""
      ],
      "execution_count": 159,
      "outputs": []
    },
    {
      "cell_type": "markdown",
      "metadata": {
        "id": "AaEg48M7_-Xa"
      },
      "source": [
        "## Performances : accuracy e loss"
      ]
    },
    {
      "cell_type": "code",
      "metadata": {
        "colab": {
          "base_uri": "https://localhost:8080/",
          "height": 335
        },
        "id": "73jNPc8Pj-zw",
        "outputId": "f37ba7bf-3fa1-4dfb-d79d-179253ca3db7"
      },
      "source": [
        "plotPerformance(model_trained_mobnet)"
      ],
      "execution_count": 195,
      "outputs": [
        {
          "output_type": "display_data",
          "data": {
            "image/png": "[encoded data removed]",
            "text/plain": [
              "<Figure size 576x360 with 2 Axes>"
            ]
          },
          "metadata": {
            "tags": [],
            "needs_background": "light"
          }
        }
      ]
    },
    {
      "cell_type": "markdown",
      "metadata": {
        "id": "povIatTIAD2z"
      },
      "source": [
        "## Test"
      ]
    },
    {
      "cell_type": "code",
      "metadata": {
        "id": "JfcII4wp7jwf"
      },
      "source": [
        "predictions = model_built_mobnet.predict(test)"
      ],
      "execution_count": 196,
      "outputs": []
    },
    {
      "cell_type": "code",
      "metadata": {
        "id": "gVL8SAVW50KR"
      },
      "source": [
        "predictions =predicted_labels(model_built_mobnet,test)"
      ],
      "execution_count": 197,
      "outputs": []
    },
    {
      "cell_type": "code",
      "metadata": {
        "colab": {
          "base_uri": "https://localhost:8080/",
          "height": 618
        },
        "id": "yB_c29gbiuv-",
        "outputId": "f3b12cd8-8e57-42bb-ede6-5637bec387bc"
      },
      "source": [
        "conf_matrix, heatmap = confMatrixHeatmap(y_pred = predictions,y_true = test.labels )"
      ],
      "execution_count": 198,
      "outputs": [
        {
          "output_type": "stream",
          "text": [
            "\n",
            "\n",
            "\n",
            "\n",
            "------------- classification report -------------\n",
            "              precision    recall  f1-score   support\n",
            "\n",
            "           0       0.26      0.30      0.28       241\n",
            "           1       0.24      0.29      0.27       224\n",
            "           2       0.25      0.22      0.23       224\n",
            "           3       0.23      0.17      0.20       231\n",
            "\n",
            "    accuracy                           0.25       920\n",
            "   macro avg       0.25      0.25      0.24       920\n",
            "weighted avg       0.25      0.25      0.24       920\n",
            "\n",
            "-------------------------------------------------\n",
            "\n",
            "\n",
            "\n",
            "\n"
          ],
          "name": "stdout"
        },
        {
          "output_type": "display_data",
          "data": {
            "image/png": "[encoded data removed]",
            "text/plain": [
              "<Figure size 432x288 with 2 Axes>"
            ]
          },
          "metadata": {
            "tags": [],
            "needs_background": "light"
          }
        }
      ]
    },
    {
      "cell_type": "markdown",
      "metadata": {
        "id": "YraAn3LF_x8n"
      },
      "source": [
        "# VGG16 fine tuning "
      ]
    },
    {
      "cell_type": "markdown",
      "metadata": {
        "id": "JRGGv02jASd5"
      },
      "source": [
        "## Splitting training, validation, test"
      ]
    },
    {
      "cell_type": "code",
      "metadata": {
        "colab": {
          "base_uri": "https://localhost:8080/"
        },
        "id": "_9xO0dvCAPTy",
        "outputId": "90282987-f36d-4381-efbe-93d9097c6265"
      },
      "source": [
        "training,validation,test = DataLoader(preprocessing_function = keras.applications.vgg16.preprocess_input,\r\n",
        "                                      validation_split=VALIDATION_SPLIT,batch_size = BATCH_SIZE)"
      ],
      "execution_count": 209,
      "outputs": [
        {
          "output_type": "stream",
          "text": [
            "Found 3107 images belonging to 4 classes.\n",
            "Found 1175 images belonging to 4 classes.\n",
            "Found 920 images belonging to 4 classes.\n"
          ],
          "name": "stdout"
        }
      ]
    },
    {
      "cell_type": "markdown",
      "metadata": {
        "id": "RP7GpLvAAXYt"
      },
      "source": [
        "## Training e Validation"
      ]
    },
    {
      "cell_type": "code",
      "metadata": {
        "id": "in5z4u3JAPQ_"
      },
      "source": [
        "opt = keras.optimizers.SGD(momentum = 0.9 , learning_rate = 0.01)\r\n",
        "model_trained_vgg16= trainModel(model_built_vgg16,training=training,\r\n",
        "                                 validation=validation, opt = opt)"
      ],
      "execution_count": null,
      "outputs": []
    },
    {
      "cell_type": "markdown",
      "metadata": {
        "id": "Hqwb_73aAc8n"
      },
      "source": [
        "## Performances : accuracy e loss"
      ]
    },
    {
      "cell_type": "code",
      "metadata": {
        "id": "yjAPgpikAArv"
      },
      "source": [
        "plotPerformance(model_trained_vgg16)"
      ],
      "execution_count": null,
      "outputs": []
    },
    {
      "cell_type": "markdown",
      "metadata": {
        "id": "utUcaJlMAjC6"
      },
      "source": [
        "# Test"
      ]
    },
    {
      "cell_type": "code",
      "metadata": {
        "id": "MR9G4VEoADjI"
      },
      "source": [
        "predictions = model_built_vgg16.predict(test)"
      ],
      "execution_count": null,
      "outputs": []
    },
    {
      "cell_type": "code",
      "metadata": {
        "id": "bZ5dfLdRADgb"
      },
      "source": [
        "predictions =predicted_labels(model_built_vgg16,test)"
      ],
      "execution_count": null,
      "outputs": []
    },
    {
      "cell_type": "code",
      "metadata": {
        "id": "pvN9z2k9ADdT"
      },
      "source": [
        "conf_matrix, heatmap = confMatrixHeatmap(y_pred = predictions,y_true = test.labels )"
      ],
      "execution_count": null,
      "outputs": []
    },
    {
      "cell_type": "markdown",
      "metadata": {
        "id": "88pEtO2vHwpV"
      },
      "source": [
        "\r\n",
        "\r\n",
        "---\r\n",
        "\r\n",
        "\r\n",
        "# Test zone \r\n",
        "\r\n",
        "\r\n",
        "\r\n",
        "---\r\n",
        "\r\n"
      ]
    }
  ]
}