{
  "nbformat": 4,
  "nbformat_minor": 0,
  "metadata": {
    "colab": {
      "name": "assignment1.ipynb",
      "provenance": [],
      "collapsed_sections": [],
      "mount_file_id": "1tEVHFaCLiK0t64wspbE4CB42jhrhPmmk",
      "authorship_tag": "ABX9TyPj4xqrzNgz4Y5TNEnj2nUB",
      "include_colab_link": true
    },
    "kernelspec": {
      "name": "python3",
      "display_name": "Python 3"
    }
  },
  "cells": [
    {
      "cell_type": "markdown",
      "metadata": {
        "id": "view-in-github",
        "colab_type": "text"
      },
      "source": [
        "<a href=\"https://colab.research.google.com/github/LorenzoMauri/Advanced-Machine-Learning/blob/main/assignment1.ipynb\" target=\"_parent\"><img src=\"https://colab.research.google.com/assets/colab-badge.svg\" alt=\"Open In Colab\"/></a>"
      ]
    },
    {
      "cell_type": "markdown",
      "metadata": {
        "id": "LomcbN2sR9jJ"
      },
      "source": [
        "<h1><center>Advanced Machine Learning</center></h1> \n",
        "\n",
        "\n",
        "---\n",
        "\n",
        "\n",
        "<h3><center>Assignment 1</center></h3> \n",
        "<h6><center>Lorenzo Mauri matr. 807306</center></h6> \n",
        "\n",
        "---\n",
        "\n",
        "\n",
        " "
      ]
    },
    {
      "cell_type": "markdown",
      "metadata": {
        "id": "6h0AY-V7YvDn"
      },
      "source": [
        "* Importazione librerie e dati "
      ]
    },
    {
      "cell_type": "code",
      "metadata": {
        "id": "4aTCqNpiREFs"
      },
      "source": [
        "#!apt update\n",
        "#!apt install python3-rtree \n",
        "#!pip install git+git://github.com/geopandas/geopandas.git"
      ],
      "execution_count": 55,
      "outputs": []
    },
    {
      "cell_type": "code",
      "metadata": {
        "id": "5aIK7odKc3W5"
      },
      "source": [
        "import os \n",
        "import pandas as pd\n",
        "import sklearn\n",
        "import seaborn as sns\n",
        "import matplotlib.pyplot as plt\n",
        "import math\n",
        "import statistics \n",
        "from sklearn.model_selection import train_test_split\n",
        "import numpy\n",
        "import shapely\n",
        "import geopandas as gdp\n",
        "from shapely.geometry import Point,Polygon\n",
        "from tensorflow import keras\n",
        "import keras\n",
        "from keras.models import Sequential\n",
        "from keras.layers import Dense\n",
        "from sklearn.preprocessing import StandardScaler\n",
        "from sklearn.metrics import mean_squared_error\n",
        "from keras import backend as K\n",
        "from sklearn.preprocessing import OneHotEncoder \n",
        "from sklearn.compose import ColumnTransformer \n"
      ],
      "execution_count": 56,
      "outputs": []
    },
    {
      "cell_type": "code",
      "metadata": {
        "id": "eV1uR-eDc5F0"
      },
      "source": [
        "os.chdir('/content/drive/My Drive/Advanced Machine Learning /assignment1/data')\n",
        "test_set=pd.read_csv('X_test.csv').iloc[:, 1:]\n",
        "x_train=pd.read_csv('X_train.csv').iloc[:, 1:]\n",
        "y_train=pd.read_csv('y_train.csv').iloc[:, 1:]\n",
        "\n",
        "df = x_train.copy() \n",
        "df['y'] = y_train "
      ],
      "execution_count": 57,
      "outputs": []
    },
    {
      "cell_type": "code",
      "metadata": {
        "id": "0MX7bzJzaNku"
      },
      "source": [
        "#model = keras.models.load_model('neural_network')\n"
      ],
      "execution_count": 58,
      "outputs": []
    },
    {
      "cell_type": "markdown",
      "metadata": {
        "id": "HWltyhNaZRCw"
      },
      "source": [
        "\n",
        "\n",
        "---\n",
        "\n",
        "\n",
        "<h1><center>Analisi esplorativa</center></h1>\n",
        "\n",
        "\n",
        "---\n",
        "\n"
      ]
    },
    {
      "cell_type": "code",
      "metadata": {
        "id": "-5mBxb5Kc8SA",
        "outputId": "1cb51360-0004-41e3-f705-ee3c3360dda9",
        "colab": {
          "base_uri": "https://localhost:8080/"
        }
      },
      "source": [
        "print(test_set[['latitude','longitude']].min())\n",
        "df[['latitude','longitude']].max()"
      ],
      "execution_count": 59,
      "outputs": [
        {
          "output_type": "stream",
          "text": [
            "latitude        40.50708\n",
            "longitude   -74124.00000\n",
            "dtype: float64\n"
          ],
          "name": "stdout"
        },
        {
          "output_type": "execute_result",
          "data": {
            "text/plain": [
              "latitude     40894.00000\n",
              "longitude      -73.71299\n",
              "dtype: float64"
            ]
          },
          "metadata": {
            "tags": []
          },
          "execution_count": 59
        }
      ]
    },
    {
      "cell_type": "code",
      "metadata": {
        "id": "GwbzJ6DfsiQI"
      },
      "source": [
        "def unbias(row):\n",
        "  if abs(row) > 1000 :\n",
        "    return row/1000.0\n",
        "  else : return row\n",
        "\n",
        "df['latitude']=df['latitude'].apply(unbias)\n",
        "df['longitude']=df['longitude'].apply(unbias)"
      ],
      "execution_count": 60,
      "outputs": []
    },
    {
      "cell_type": "code",
      "metadata": {
        "id": "frPEekl4BcAF",
        "outputId": "54344b9b-af6d-4f6d-b937-be3d5be6f149",
        "colab": {
          "base_uri": "https://localhost:8080/"
        }
      },
      "source": [
        "gdf = gdp.GeoDataFrame(df, \n",
        "                       geometry=gdp.points_from_xy(df.longitude, df.latitude),\n",
        "                       crs=4326)\n",
        "gdf.geometry = gdf.geometry.to_crs({'init': 'epsg:2263'})"
      ],
      "execution_count": 61,
      "outputs": [
        {
          "output_type": "stream",
          "text": [
            "/usr/local/lib/python3.6/dist-packages/pyproj/crs/crs.py:53: FutureWarning: '+init=<authority>:<code>' syntax is deprecated. '<authority>:<code>' is the preferred initialization method. When making the change, be mindful of axis order changes: https://pyproj4.github.io/pyproj/stable/gotchas.html#axis-order-changes-in-proj-6\n",
            "  return _prepare_from_string(\" \".join(pjargs))\n"
          ],
          "name": "stderr"
        }
      ]
    },
    {
      "cell_type": "code",
      "metadata": {
        "id": "f05UlmfHxmH-"
      },
      "source": [
        "boroughs = gdp.read_file(gdp.datasets.get_path(\"nybb\"))\n",
        "boroughs=boroughs.to_crs(epsg=2263)"
      ],
      "execution_count": 62,
      "outputs": []
    },
    {
      "cell_type": "code",
      "metadata": {
        "id": "TENQ3yryh_f0",
        "outputId": "325d2366-3bb8-4a8a-a5ef-5b29745f2343",
        "colab": {
          "base_uri": "https://localhost:8080/",
          "height": 394
        }
      },
      "source": [
        "data = gdp.sjoin(right_df=boroughs[['BoroName','geometry']],\n",
        "                 left_df=gdf,how=\"left\",op=\"intersects\")\n",
        "data.head()"
      ],
      "execution_count": 63,
      "outputs": [
        {
          "output_type": "execute_result",
          "data": {
            "text/html": [
              "<div>\n",
              "<style scoped>\n",
              "    .dataframe tbody tr th:only-of-type {\n",
              "        vertical-align: middle;\n",
              "    }\n",
              "\n",
              "    .dataframe tbody tr th {\n",
              "        vertical-align: top;\n",
              "    }\n",
              "\n",
              "    .dataframe thead th {\n",
              "        text-align: right;\n",
              "    }\n",
              "</style>\n",
              "<table border=\"1\" class=\"dataframe\">\n",
              "  <thead>\n",
              "    <tr style=\"text-align: right;\">\n",
              "      <th></th>\n",
              "      <th>latitude</th>\n",
              "      <th>longitude</th>\n",
              "      <th>minimum_nights</th>\n",
              "      <th>number_of_reviews</th>\n",
              "      <th>reviews_per_month</th>\n",
              "      <th>calculated_host_listings_count</th>\n",
              "      <th>availability_365</th>\n",
              "      <th>Private_room</th>\n",
              "      <th>Entire_home/apt</th>\n",
              "      <th>y</th>\n",
              "      <th>geometry</th>\n",
              "      <th>index_right</th>\n",
              "      <th>BoroName</th>\n",
              "    </tr>\n",
              "  </thead>\n",
              "  <tbody>\n",
              "    <tr>\n",
              "      <th>0</th>\n",
              "      <td>40.71239</td>\n",
              "      <td>-73.95271</td>\n",
              "      <td>4</td>\n",
              "      <td>2</td>\n",
              "      <td>0.19</td>\n",
              "      <td>1</td>\n",
              "      <td>0</td>\n",
              "      <td>1</td>\n",
              "      <td>0</td>\n",
              "      <td>65</td>\n",
              "      <td>POINT (997360.173 198822.927)</td>\n",
              "      <td>2.0</td>\n",
              "      <td>Brooklyn</td>\n",
              "    </tr>\n",
              "    <tr>\n",
              "      <th>1</th>\n",
              "      <td>40.69600</td>\n",
              "      <td>-73.91303</td>\n",
              "      <td>4</td>\n",
              "      <td>17</td>\n",
              "      <td>0.66</td>\n",
              "      <td>2</td>\n",
              "      <td>307</td>\n",
              "      <td>1</td>\n",
              "      <td>0</td>\n",
              "      <td>57</td>\n",
              "      <td>POINT (1008366.557 192859.992)</td>\n",
              "      <td>2.0</td>\n",
              "      <td>Brooklyn</td>\n",
              "    </tr>\n",
              "    <tr>\n",
              "      <th>2</th>\n",
              "      <td>40.62707</td>\n",
              "      <td>-74.02817</td>\n",
              "      <td>3</td>\n",
              "      <td>1</td>\n",
              "      <td>0.04</td>\n",
              "      <td>1</td>\n",
              "      <td>87</td>\n",
              "      <td>0</td>\n",
              "      <td>0</td>\n",
              "      <td>225</td>\n",
              "      <td>POINT (976430.455 167736.146)</td>\n",
              "      <td>2.0</td>\n",
              "      <td>Brooklyn</td>\n",
              "    </tr>\n",
              "    <tr>\n",
              "      <th>3</th>\n",
              "      <td>40.77910</td>\n",
              "      <td>-73.98565</td>\n",
              "      <td>1</td>\n",
              "      <td>4</td>\n",
              "      <td>0.08</td>\n",
              "      <td>1</td>\n",
              "      <td>0</td>\n",
              "      <td>0</td>\n",
              "      <td>1</td>\n",
              "      <td>175</td>\n",
              "      <td>POINT (988224.259 223124.302)</td>\n",
              "      <td>3.0</td>\n",
              "      <td>Manhattan</td>\n",
              "    </tr>\n",
              "    <tr>\n",
              "      <th>4</th>\n",
              "      <td>40.75777</td>\n",
              "      <td>-73.93509</td>\n",
              "      <td>1</td>\n",
              "      <td>0</td>\n",
              "      <td>0.00</td>\n",
              "      <td>1</td>\n",
              "      <td>358</td>\n",
              "      <td>1</td>\n",
              "      <td>0</td>\n",
              "      <td>125</td>\n",
              "      <td>POINT (1002232.701 215359.412)</td>\n",
              "      <td>1.0</td>\n",
              "      <td>Queens</td>\n",
              "    </tr>\n",
              "  </tbody>\n",
              "</table>\n",
              "</div>"
            ],
            "text/plain": [
              "   latitude  longitude  ...  index_right   BoroName\n",
              "0  40.71239  -73.95271  ...          2.0   Brooklyn\n",
              "1  40.69600  -73.91303  ...          2.0   Brooklyn\n",
              "2  40.62707  -74.02817  ...          2.0   Brooklyn\n",
              "3  40.77910  -73.98565  ...          3.0  Manhattan\n",
              "4  40.75777  -73.93509  ...          1.0     Queens\n",
              "\n",
              "[5 rows x 13 columns]"
            ]
          },
          "metadata": {
            "tags": []
          },
          "execution_count": 63
        }
      ]
    },
    {
      "cell_type": "markdown",
      "metadata": {
        "id": "WT6AJ09Tap0O"
      },
      "source": [
        "* Rimozione degli outlier\n",
        "\n",
        "> sfrutto il range interquartile della variabile `price` per determinare gli outlier\n",
        "\n",
        "$$\n",
        "IQR = Q_3-Q_1\n",
        "$$\n",
        "\n",
        ">Condizione : l'osservazione $x$ è un outlier se \n",
        "\n",
        "$$\n",
        "x < Q_1 - \\frac{3}{2} IQR  \n",
        "$$\n",
        "\n",
        "<h5><center>oppure</center></h5> \n",
        "\n",
        "\n",
        "$$\n",
        "x > Q_3 +  \\frac{3}{2} IQR  \n",
        "$$\n",
        "\n",
        "\n",
        "\n",
        "\n",
        "\n",
        "\n"
      ]
    },
    {
      "cell_type": "code",
      "metadata": {
        "id": "LMvAivUCUOHQ"
      },
      "source": [
        "iqr = data.y.quantile(q=.75)-data.y.quantile(q=.25)\n",
        "upper = data.y.quantile(q=.75)+(1.5*iqr) \n",
        "lower = data.y.quantile(q=.25)-(1.5*iqr) \n",
        "df = data[(data['y']>0) & (data['y']<upper)]"
      ],
      "execution_count": 64,
      "outputs": []
    },
    {
      "cell_type": "code",
      "metadata": {
        "id": "SFp-VjT4Z7N5",
        "outputId": "be267e72-9e29-4a2c-ce80-b310a39ffb1d",
        "colab": {
          "base_uri": "https://localhost:8080/"
        }
      },
      "source": [
        "def label_pricing(x):\n",
        "  if x <= 117.67:\n",
        "    return 'low'\n",
        "  if x > 117.67 and x <= 235.33 :\n",
        "    return 'medium' \n",
        "  if x > 235.33 : return 'high'\n",
        "\n",
        "df['pricing']=df.y.apply(label_pricing)\n",
        "data['pricing']=data.y.apply(label_pricing)"
      ],
      "execution_count": 65,
      "outputs": [
        {
          "output_type": "stream",
          "text": [
            "/usr/local/lib/python3.6/dist-packages/geopandas/geodataframe.py:1109: SettingWithCopyWarning: \n",
            "A value is trying to be set on a copy of a slice from a DataFrame.\n",
            "Try using .loc[row_indexer,col_indexer] = value instead\n",
            "\n",
            "See the caveats in the documentation: https://pandas.pydata.org/pandas-docs/stable/user_guide/indexing.html#returning-a-view-versus-a-copy\n",
            "  super(GeoDataFrame, self).__setitem__(key, value)\n"
          ],
          "name": "stderr"
        }
      ]
    },
    {
      "cell_type": "code",
      "metadata": {
        "id": "DCYRSmmcjAJf",
        "outputId": "f95f1d75-bfa0-4a14-973a-aae663496047",
        "colab": {
          "base_uri": "https://localhost:8080/",
          "height": 282
        }
      },
      "source": [
        "sns.barplot(x=['low','medium','high'],y=list(df.groupby(by='pricing').size()),palette='Set1')"
      ],
      "execution_count": 86,
      "outputs": [
        {
          "output_type": "execute_result",
          "data": {
            "text/plain": [
              "<matplotlib.axes._subplots.AxesSubplot at 0x7f3a58985198>"
            ]
          },
          "metadata": {
            "tags": []
          },
          "execution_count": 86
        },
        {
          "output_type": "display_data",
          "data": {
            "image/png": "[encoded data removed]",
            "text/plain": [
              "<Figure size 432x288 with 1 Axes>"
            ]
          },
          "metadata": {
            "tags": [],
            "needs_background": "light"
          }
        }
      ]
    },
    {
      "cell_type": "code",
      "metadata": {
        "id": "qyj8gFXuT7op",
        "outputId": "9491386b-b61f-4faf-cbf1-d8a07b8ebb64",
        "colab": {
          "base_uri": "https://localhost:8080/",
          "height": 296
        }
      },
      "source": [
        "sns.boxplot(x=df.y)"
      ],
      "execution_count": 68,
      "outputs": [
        {
          "output_type": "execute_result",
          "data": {
            "text/plain": [
              "<matplotlib.axes._subplots.AxesSubplot at 0x7f3a586a5dd8>"
            ]
          },
          "metadata": {
            "tags": []
          },
          "execution_count": 68
        },
        {
          "output_type": "display_data",
          "data": {
            "image/png": "[encoded data removed]",
            "text/plain": [
              "<Figure size 432x288 with 1 Axes>"
            ]
          },
          "metadata": {
            "tags": [],
            "needs_background": "light"
          }
        }
      ]
    },
    {
      "cell_type": "code",
      "metadata": {
        "id": "TLKvOTP1jpCD"
      },
      "source": [
        "data=df.copy()\n",
        "data_selected =  data[['y','minimum_nights', 'number_of_reviews','reviews_per_month','calculated_host_listings_count',\n",
        "'availability_365', 'Private_room', 'Entire_home/apt','BoroName']]\n",
        "data_selected = data_selected.dropna()\n",
        "data_selected = data_selected.reset_index()"
      ],
      "execution_count": 69,
      "outputs": []
    },
    {
      "cell_type": "markdown",
      "metadata": {
        "id": "fspCoYC_fmSn"
      },
      "source": [
        "\n",
        "\n",
        "---\n",
        "\n",
        "<h1><center>Encoding coordinate geografiche</center></h1> \n",
        "\n",
        "\n",
        "\n",
        "---\n",
        "\n",
        "\n"
      ]
    },
    {
      "cell_type": "code",
      "metadata": {
        "id": "wRWxDfk2zn8g",
        "outputId": "b75f6b80-b151-4e21-aa80-1f883de139cf",
        "colab": {
          "base_uri": "https://localhost:8080/",
          "height": 204
        }
      },
      "source": [
        "columnTransformer = ColumnTransformer([('encoder', \n",
        "                                        OneHotEncoder(), \n",
        "                                        [-1])], \n",
        "                                      remainder='passthrough') \n",
        "  \n",
        "data_encoded = columnTransformer.fit_transform(data_selected)\n",
        "\n",
        "data_encoded = pd.DataFrame(data_encoded)\n",
        "one_hot_encoding=data_encoded.iloc[:,0:5]\n",
        "one_hot_encoding.head()"
      ],
      "execution_count": 70,
      "outputs": [
        {
          "output_type": "execute_result",
          "data": {
            "text/html": [
              "<div>\n",
              "<style scoped>\n",
              "    .dataframe tbody tr th:only-of-type {\n",
              "        vertical-align: middle;\n",
              "    }\n",
              "\n",
              "    .dataframe tbody tr th {\n",
              "        vertical-align: top;\n",
              "    }\n",
              "\n",
              "    .dataframe thead th {\n",
              "        text-align: right;\n",
              "    }\n",
              "</style>\n",
              "<table border=\"1\" class=\"dataframe\">\n",
              "  <thead>\n",
              "    <tr style=\"text-align: right;\">\n",
              "      <th></th>\n",
              "      <th>0</th>\n",
              "      <th>1</th>\n",
              "      <th>2</th>\n",
              "      <th>3</th>\n",
              "      <th>4</th>\n",
              "    </tr>\n",
              "  </thead>\n",
              "  <tbody>\n",
              "    <tr>\n",
              "      <th>0</th>\n",
              "      <td>0.0</td>\n",
              "      <td>1.0</td>\n",
              "      <td>0.0</td>\n",
              "      <td>0.0</td>\n",
              "      <td>0.0</td>\n",
              "    </tr>\n",
              "    <tr>\n",
              "      <th>1</th>\n",
              "      <td>0.0</td>\n",
              "      <td>1.0</td>\n",
              "      <td>0.0</td>\n",
              "      <td>0.0</td>\n",
              "      <td>0.0</td>\n",
              "    </tr>\n",
              "    <tr>\n",
              "      <th>2</th>\n",
              "      <td>0.0</td>\n",
              "      <td>1.0</td>\n",
              "      <td>0.0</td>\n",
              "      <td>0.0</td>\n",
              "      <td>0.0</td>\n",
              "    </tr>\n",
              "    <tr>\n",
              "      <th>3</th>\n",
              "      <td>0.0</td>\n",
              "      <td>0.0</td>\n",
              "      <td>1.0</td>\n",
              "      <td>0.0</td>\n",
              "      <td>0.0</td>\n",
              "    </tr>\n",
              "    <tr>\n",
              "      <th>4</th>\n",
              "      <td>0.0</td>\n",
              "      <td>0.0</td>\n",
              "      <td>0.0</td>\n",
              "      <td>1.0</td>\n",
              "      <td>0.0</td>\n",
              "    </tr>\n",
              "  </tbody>\n",
              "</table>\n",
              "</div>"
            ],
            "text/plain": [
              "     0    1    2    3    4\n",
              "0  0.0  1.0  0.0  0.0  0.0\n",
              "1  0.0  1.0  0.0  0.0  0.0\n",
              "2  0.0  1.0  0.0  0.0  0.0\n",
              "3  0.0  0.0  1.0  0.0  0.0\n",
              "4  0.0  0.0  0.0  1.0  0.0"
            ]
          },
          "metadata": {
            "tags": []
          },
          "execution_count": 70
        }
      ]
    },
    {
      "cell_type": "code",
      "metadata": {
        "id": "wzDD1_upk8gH",
        "outputId": "3ef99fd9-c8c8-41b8-8b36-f63d3e92cd2b",
        "colab": {
          "base_uri": "https://localhost:8080/",
          "height": 224
        }
      },
      "source": [
        "data_selected_encoded = data_selected.join(one_hot_encoding)\n",
        "data_selected_encoded=data_selected_encoded.drop(columns=['BoroName'])\n",
        "data_selected_encoded1=data_selected_encoded.iloc[:,1:]\n",
        "data_selected_encoded1.head()"
      ],
      "execution_count": 71,
      "outputs": [
        {
          "output_type": "execute_result",
          "data": {
            "text/html": [
              "<div>\n",
              "<style scoped>\n",
              "    .dataframe tbody tr th:only-of-type {\n",
              "        vertical-align: middle;\n",
              "    }\n",
              "\n",
              "    .dataframe tbody tr th {\n",
              "        vertical-align: top;\n",
              "    }\n",
              "\n",
              "    .dataframe thead th {\n",
              "        text-align: right;\n",
              "    }\n",
              "</style>\n",
              "<table border=\"1\" class=\"dataframe\">\n",
              "  <thead>\n",
              "    <tr style=\"text-align: right;\">\n",
              "      <th></th>\n",
              "      <th>y</th>\n",
              "      <th>minimum_nights</th>\n",
              "      <th>number_of_reviews</th>\n",
              "      <th>reviews_per_month</th>\n",
              "      <th>calculated_host_listings_count</th>\n",
              "      <th>availability_365</th>\n",
              "      <th>Private_room</th>\n",
              "      <th>Entire_home/apt</th>\n",
              "      <th>0</th>\n",
              "      <th>1</th>\n",
              "      <th>2</th>\n",
              "      <th>3</th>\n",
              "      <th>4</th>\n",
              "    </tr>\n",
              "  </thead>\n",
              "  <tbody>\n",
              "    <tr>\n",
              "      <th>0</th>\n",
              "      <td>65</td>\n",
              "      <td>4</td>\n",
              "      <td>2</td>\n",
              "      <td>0.19</td>\n",
              "      <td>1</td>\n",
              "      <td>0</td>\n",
              "      <td>1</td>\n",
              "      <td>0</td>\n",
              "      <td>0.0</td>\n",
              "      <td>1.0</td>\n",
              "      <td>0.0</td>\n",
              "      <td>0.0</td>\n",
              "      <td>0.0</td>\n",
              "    </tr>\n",
              "    <tr>\n",
              "      <th>1</th>\n",
              "      <td>57</td>\n",
              "      <td>4</td>\n",
              "      <td>17</td>\n",
              "      <td>0.66</td>\n",
              "      <td>2</td>\n",
              "      <td>307</td>\n",
              "      <td>1</td>\n",
              "      <td>0</td>\n",
              "      <td>0.0</td>\n",
              "      <td>1.0</td>\n",
              "      <td>0.0</td>\n",
              "      <td>0.0</td>\n",
              "      <td>0.0</td>\n",
              "    </tr>\n",
              "    <tr>\n",
              "      <th>2</th>\n",
              "      <td>225</td>\n",
              "      <td>3</td>\n",
              "      <td>1</td>\n",
              "      <td>0.04</td>\n",
              "      <td>1</td>\n",
              "      <td>87</td>\n",
              "      <td>0</td>\n",
              "      <td>0</td>\n",
              "      <td>0.0</td>\n",
              "      <td>1.0</td>\n",
              "      <td>0.0</td>\n",
              "      <td>0.0</td>\n",
              "      <td>0.0</td>\n",
              "    </tr>\n",
              "    <tr>\n",
              "      <th>3</th>\n",
              "      <td>175</td>\n",
              "      <td>1</td>\n",
              "      <td>4</td>\n",
              "      <td>0.08</td>\n",
              "      <td>1</td>\n",
              "      <td>0</td>\n",
              "      <td>0</td>\n",
              "      <td>1</td>\n",
              "      <td>0.0</td>\n",
              "      <td>0.0</td>\n",
              "      <td>1.0</td>\n",
              "      <td>0.0</td>\n",
              "      <td>0.0</td>\n",
              "    </tr>\n",
              "    <tr>\n",
              "      <th>4</th>\n",
              "      <td>125</td>\n",
              "      <td>1</td>\n",
              "      <td>0</td>\n",
              "      <td>0.00</td>\n",
              "      <td>1</td>\n",
              "      <td>358</td>\n",
              "      <td>1</td>\n",
              "      <td>0</td>\n",
              "      <td>0.0</td>\n",
              "      <td>0.0</td>\n",
              "      <td>0.0</td>\n",
              "      <td>1.0</td>\n",
              "      <td>0.0</td>\n",
              "    </tr>\n",
              "  </tbody>\n",
              "</table>\n",
              "</div>"
            ],
            "text/plain": [
              "     y  minimum_nights  number_of_reviews  ...    2    3    4\n",
              "0   65               4                  2  ...  0.0  0.0  0.0\n",
              "1   57               4                 17  ...  0.0  0.0  0.0\n",
              "2  225               3                  1  ...  0.0  0.0  0.0\n",
              "3  175               1                  4  ...  1.0  0.0  0.0\n",
              "4  125               1                  0  ...  0.0  1.0  0.0\n",
              "\n",
              "[5 rows x 13 columns]"
            ]
          },
          "metadata": {
            "tags": []
          },
          "execution_count": 71
        }
      ]
    },
    {
      "cell_type": "code",
      "metadata": {
        "id": "UF57piy3o3MW"
      },
      "source": [
        "data_selected_encoded1 = data_selected_encoded1[data_selected_encoded1['y']!=0]"
      ],
      "execution_count": 72,
      "outputs": []
    },
    {
      "cell_type": "markdown",
      "metadata": {
        "id": "r-EuVacQe7rK"
      },
      "source": [
        "\n",
        "\n",
        "---\n",
        "\n",
        "<h1><center>Normalizzazione</center></h1> \n",
        "\n",
        "\n",
        "\n",
        "---\n",
        "\n"
      ]
    },
    {
      "cell_type": "code",
      "metadata": {
        "id": "clOybvZ6vASS"
      },
      "source": [
        "def normalizzazione(x):\n",
        "  min=numpy.min(x)\n",
        "  max = numpy.max(x)\n",
        "  return (x-min)/(max-min)\n",
        "  \n",
        "df_normalized = data_selected_encoded1.apply(normalizzazione,axis=0)\n",
        "minY = numpy.min(data_selected_encoded1.y)\n",
        "maxY = numpy.max(data_selected_encoded1.y)"
      ],
      "execution_count": 73,
      "outputs": []
    },
    {
      "cell_type": "code",
      "metadata": {
        "id": "Mvvdv_cF6wcQ",
        "outputId": "abbe8bad-979e-4f6a-a535-8c59d66667e4",
        "colab": {
          "base_uri": "https://localhost:8080/",
          "height": 224
        }
      },
      "source": [
        "df_normalized.head()"
      ],
      "execution_count": 74,
      "outputs": [
        {
          "output_type": "execute_result",
          "data": {
            "text/html": [
              "<div>\n",
              "<style scoped>\n",
              "    .dataframe tbody tr th:only-of-type {\n",
              "        vertical-align: middle;\n",
              "    }\n",
              "\n",
              "    .dataframe tbody tr th {\n",
              "        vertical-align: top;\n",
              "    }\n",
              "\n",
              "    .dataframe thead th {\n",
              "        text-align: right;\n",
              "    }\n",
              "</style>\n",
              "<table border=\"1\" class=\"dataframe\">\n",
              "  <thead>\n",
              "    <tr style=\"text-align: right;\">\n",
              "      <th></th>\n",
              "      <th>y</th>\n",
              "      <th>minimum_nights</th>\n",
              "      <th>number_of_reviews</th>\n",
              "      <th>reviews_per_month</th>\n",
              "      <th>calculated_host_listings_count</th>\n",
              "      <th>availability_365</th>\n",
              "      <th>Private_room</th>\n",
              "      <th>Entire_home/apt</th>\n",
              "      <th>0</th>\n",
              "      <th>1</th>\n",
              "      <th>2</th>\n",
              "      <th>3</th>\n",
              "      <th>4</th>\n",
              "    </tr>\n",
              "  </thead>\n",
              "  <tbody>\n",
              "    <tr>\n",
              "      <th>0</th>\n",
              "      <td>0.170279</td>\n",
              "      <td>0.003006</td>\n",
              "      <td>0.003180</td>\n",
              "      <td>0.003248</td>\n",
              "      <td>0.000000</td>\n",
              "      <td>0.000000</td>\n",
              "      <td>1.0</td>\n",
              "      <td>0.0</td>\n",
              "      <td>0.0</td>\n",
              "      <td>1.0</td>\n",
              "      <td>0.0</td>\n",
              "      <td>0.0</td>\n",
              "      <td>0.0</td>\n",
              "    </tr>\n",
              "    <tr>\n",
              "      <th>1</th>\n",
              "      <td>0.145511</td>\n",
              "      <td>0.003006</td>\n",
              "      <td>0.027027</td>\n",
              "      <td>0.011282</td>\n",
              "      <td>0.003067</td>\n",
              "      <td>0.841096</td>\n",
              "      <td>1.0</td>\n",
              "      <td>0.0</td>\n",
              "      <td>0.0</td>\n",
              "      <td>1.0</td>\n",
              "      <td>0.0</td>\n",
              "      <td>0.0</td>\n",
              "      <td>0.0</td>\n",
              "    </tr>\n",
              "    <tr>\n",
              "      <th>2</th>\n",
              "      <td>0.665635</td>\n",
              "      <td>0.002004</td>\n",
              "      <td>0.001590</td>\n",
              "      <td>0.000684</td>\n",
              "      <td>0.000000</td>\n",
              "      <td>0.238356</td>\n",
              "      <td>0.0</td>\n",
              "      <td>0.0</td>\n",
              "      <td>0.0</td>\n",
              "      <td>1.0</td>\n",
              "      <td>0.0</td>\n",
              "      <td>0.0</td>\n",
              "      <td>0.0</td>\n",
              "    </tr>\n",
              "    <tr>\n",
              "      <th>3</th>\n",
              "      <td>0.510836</td>\n",
              "      <td>0.000000</td>\n",
              "      <td>0.006359</td>\n",
              "      <td>0.001368</td>\n",
              "      <td>0.000000</td>\n",
              "      <td>0.000000</td>\n",
              "      <td>0.0</td>\n",
              "      <td>1.0</td>\n",
              "      <td>0.0</td>\n",
              "      <td>0.0</td>\n",
              "      <td>1.0</td>\n",
              "      <td>0.0</td>\n",
              "      <td>0.0</td>\n",
              "    </tr>\n",
              "    <tr>\n",
              "      <th>4</th>\n",
              "      <td>0.356037</td>\n",
              "      <td>0.000000</td>\n",
              "      <td>0.000000</td>\n",
              "      <td>0.000000</td>\n",
              "      <td>0.000000</td>\n",
              "      <td>0.980822</td>\n",
              "      <td>1.0</td>\n",
              "      <td>0.0</td>\n",
              "      <td>0.0</td>\n",
              "      <td>0.0</td>\n",
              "      <td>0.0</td>\n",
              "      <td>1.0</td>\n",
              "      <td>0.0</td>\n",
              "    </tr>\n",
              "  </tbody>\n",
              "</table>\n",
              "</div>"
            ],
            "text/plain": [
              "          y  minimum_nights  number_of_reviews  ...    2    3    4\n",
              "0  0.170279        0.003006           0.003180  ...  0.0  0.0  0.0\n",
              "1  0.145511        0.003006           0.027027  ...  0.0  0.0  0.0\n",
              "2  0.665635        0.002004           0.001590  ...  0.0  0.0  0.0\n",
              "3  0.510836        0.000000           0.006359  ...  1.0  0.0  0.0\n",
              "4  0.356037        0.000000           0.000000  ...  0.0  1.0  0.0\n",
              "\n",
              "[5 rows x 13 columns]"
            ]
          },
          "metadata": {
            "tags": []
          },
          "execution_count": 74
        }
      ]
    },
    {
      "cell_type": "markdown",
      "metadata": {
        "id": "3pwqg0Yecare"
      },
      "source": [
        "\n",
        "\n",
        "---\n",
        "\n",
        "\n",
        "\n",
        "<h1><center>Data Modelling</center></h1> \n",
        "\n",
        "\n",
        "\n",
        "---\n",
        "\n"
      ]
    },
    {
      "cell_type": "code",
      "metadata": {
        "id": "qYvpNvLKrty-"
      },
      "source": [
        "df_to_split=df_normalized.copy()\n",
        "x_train, x_test, y_train, y_test = train_test_split(df_to_split.iloc[:,1:], df_to_split.iloc[:,0], test_size=0.1,random_state=28102020)"
      ],
      "execution_count": 75,
      "outputs": []
    },
    {
      "cell_type": "code",
      "metadata": {
        "id": "SB4nS9kVxbGH",
        "outputId": "d477e383-e3de-42db-cccf-221d3974a7ca",
        "colab": {
          "base_uri": "https://localhost:8080/"
        }
      },
      "source": [
        "hidden_units = 32\n",
        "activation='relu'\n",
        "batch=32\n",
        "valmin_weights=-0.03\n",
        "valmax_weights=0.03\n",
        "model = Sequential()\n",
        "model.add(Dense(units =12,\n",
        "                input_dim=12,\n",
        "                activation= activation,\n",
        "                kernel_initializer = keras.initializers.RandomUniform(minval=valmin_weights, maxval=valmax_weights, seed=None),\n",
        "                bias_initializer='zero'))\n",
        "  \n",
        "model.add(Dense(units = hidden_units,\n",
        "                activation=activation,\n",
        "                kernel_initializer =  keras.initializers.RandomUniform(minval=valmin_weights, maxval=valmax_weights, seed=None),\n",
        "                bias_initializer='zero'))\n",
        "\n",
        "model.add(Dense(units = 1,activation=activation))   \n",
        "opt = keras.optimizers.Adam(learning_rate=0.001,decay = 0.01)\n",
        "model.compile(loss='mean_squared_error', optimizer= opt, metrics=[keras.metrics.RootMeanSquaredError()])\n",
        "modello = model.fit(x_train, y_train, epochs=30,validation_data=(x_test,y_test),batch_size = batch )"
      ],
      "execution_count": 76,
      "outputs": [
        {
          "output_type": "stream",
          "text": [
            "Epoch 1/30\n",
            "894/894 [==============================] - 1s 1ms/step - loss: 0.0291 - root_mean_squared_error: 0.1707 - val_loss: 0.0237 - val_root_mean_squared_error: 0.1538\n",
            "Epoch 2/30\n",
            "894/894 [==============================] - 1s 1ms/step - loss: 0.0242 - root_mean_squared_error: 0.1555 - val_loss: 0.0235 - val_root_mean_squared_error: 0.1532\n",
            "Epoch 3/30\n",
            "894/894 [==============================] - 1s 1ms/step - loss: 0.0240 - root_mean_squared_error: 0.1551 - val_loss: 0.0234 - val_root_mean_squared_error: 0.1530\n",
            "Epoch 4/30\n",
            "894/894 [==============================] - 1s 992us/step - loss: 0.0240 - root_mean_squared_error: 0.1548 - val_loss: 0.0233 - val_root_mean_squared_error: 0.1528\n",
            "Epoch 5/30\n",
            "894/894 [==============================] - 1s 988us/step - loss: 0.0239 - root_mean_squared_error: 0.1547 - val_loss: 0.0233 - val_root_mean_squared_error: 0.1526\n",
            "Epoch 6/30\n",
            "894/894 [==============================] - 1s 981us/step - loss: 0.0239 - root_mean_squared_error: 0.1546 - val_loss: 0.0233 - val_root_mean_squared_error: 0.1526\n",
            "Epoch 7/30\n",
            "894/894 [==============================] - 1s 995us/step - loss: 0.0239 - root_mean_squared_error: 0.1545 - val_loss: 0.0233 - val_root_mean_squared_error: 0.1525\n",
            "Epoch 8/30\n",
            "894/894 [==============================] - 1s 1ms/step - loss: 0.0238 - root_mean_squared_error: 0.1544 - val_loss: 0.0232 - val_root_mean_squared_error: 0.1525\n",
            "Epoch 9/30\n",
            "894/894 [==============================] - 1s 1ms/step - loss: 0.0238 - root_mean_squared_error: 0.1543 - val_loss: 0.0232 - val_root_mean_squared_error: 0.1524\n",
            "Epoch 10/30\n",
            "894/894 [==============================] - 1s 975us/step - loss: 0.0238 - root_mean_squared_error: 0.1543 - val_loss: 0.0232 - val_root_mean_squared_error: 0.1524\n",
            "Epoch 11/30\n",
            "894/894 [==============================] - 1s 1ms/step - loss: 0.0238 - root_mean_squared_error: 0.1543 - val_loss: 0.0232 - val_root_mean_squared_error: 0.1523\n",
            "Epoch 12/30\n",
            "894/894 [==============================] - 1s 1ms/step - loss: 0.0238 - root_mean_squared_error: 0.1542 - val_loss: 0.0232 - val_root_mean_squared_error: 0.1523\n",
            "Epoch 13/30\n",
            "894/894 [==============================] - 1s 1ms/step - loss: 0.0238 - root_mean_squared_error: 0.1542 - val_loss: 0.0232 - val_root_mean_squared_error: 0.1523\n",
            "Epoch 14/30\n",
            "894/894 [==============================] - 1s 979us/step - loss: 0.0238 - root_mean_squared_error: 0.1542 - val_loss: 0.0232 - val_root_mean_squared_error: 0.1523\n",
            "Epoch 15/30\n",
            "894/894 [==============================] - 1s 967us/step - loss: 0.0238 - root_mean_squared_error: 0.1541 - val_loss: 0.0232 - val_root_mean_squared_error: 0.1522\n",
            "Epoch 16/30\n",
            "894/894 [==============================] - 1s 1ms/step - loss: 0.0237 - root_mean_squared_error: 0.1541 - val_loss: 0.0232 - val_root_mean_squared_error: 0.1522\n",
            "Epoch 17/30\n",
            "894/894 [==============================] - 1s 1ms/step - loss: 0.0237 - root_mean_squared_error: 0.1541 - val_loss: 0.0232 - val_root_mean_squared_error: 0.1522\n",
            "Epoch 18/30\n",
            "894/894 [==============================] - 1s 1ms/step - loss: 0.0237 - root_mean_squared_error: 0.1541 - val_loss: 0.0232 - val_root_mean_squared_error: 0.1522\n",
            "Epoch 19/30\n",
            "894/894 [==============================] - 1s 977us/step - loss: 0.0237 - root_mean_squared_error: 0.1540 - val_loss: 0.0232 - val_root_mean_squared_error: 0.1522\n",
            "Epoch 20/30\n",
            "894/894 [==============================] - 1s 1ms/step - loss: 0.0237 - root_mean_squared_error: 0.1540 - val_loss: 0.0231 - val_root_mean_squared_error: 0.1521\n",
            "Epoch 21/30\n",
            "894/894 [==============================] - 1s 1ms/step - loss: 0.0237 - root_mean_squared_error: 0.1540 - val_loss: 0.0231 - val_root_mean_squared_error: 0.1521\n",
            "Epoch 22/30\n",
            "894/894 [==============================] - 1s 1ms/step - loss: 0.0237 - root_mean_squared_error: 0.1540 - val_loss: 0.0231 - val_root_mean_squared_error: 0.1521\n",
            "Epoch 23/30\n",
            "894/894 [==============================] - 1s 999us/step - loss: 0.0237 - root_mean_squared_error: 0.1540 - val_loss: 0.0231 - val_root_mean_squared_error: 0.1521\n",
            "Epoch 24/30\n",
            "894/894 [==============================] - 1s 989us/step - loss: 0.0237 - root_mean_squared_error: 0.1540 - val_loss: 0.0231 - val_root_mean_squared_error: 0.1521\n",
            "Epoch 25/30\n",
            "894/894 [==============================] - 1s 1ms/step - loss: 0.0237 - root_mean_squared_error: 0.1540 - val_loss: 0.0231 - val_root_mean_squared_error: 0.1521\n",
            "Epoch 26/30\n",
            "894/894 [==============================] - 1s 999us/step - loss: 0.0237 - root_mean_squared_error: 0.1539 - val_loss: 0.0231 - val_root_mean_squared_error: 0.1521\n",
            "Epoch 27/30\n",
            "894/894 [==============================] - 1s 998us/step - loss: 0.0237 - root_mean_squared_error: 0.1539 - val_loss: 0.0231 - val_root_mean_squared_error: 0.1521\n",
            "Epoch 28/30\n",
            "894/894 [==============================] - 1s 1ms/step - loss: 0.0237 - root_mean_squared_error: 0.1539 - val_loss: 0.0231 - val_root_mean_squared_error: 0.1521\n",
            "Epoch 29/30\n",
            "894/894 [==============================] - 1s 995us/step - loss: 0.0237 - root_mean_squared_error: 0.1539 - val_loss: 0.0231 - val_root_mean_squared_error: 0.1521\n",
            "Epoch 30/30\n",
            "894/894 [==============================] - 1s 1ms/step - loss: 0.0237 - root_mean_squared_error: 0.1539 - val_loss: 0.0231 - val_root_mean_squared_error: 0.1520\n"
          ],
          "name": "stdout"
        }
      ]
    },
    {
      "cell_type": "code",
      "metadata": {
        "id": "ypwkhjCAxbKO",
        "outputId": "0125cf4d-ecea-4e5c-fc38-ca9ceee396e2",
        "colab": {
          "base_uri": "https://localhost:8080/",
          "height": 336
        }
      },
      "source": [
        "plt.figure(figsize = (10,5))\n",
        "plt.subplot(1,2,1)\n",
        "plt.plot(modello.history['root_mean_squared_error'],label='training',color='blue')\n",
        "plt.title('Training RMSE Plot')\n",
        "plt.subplot(1,2,2)\n",
        "plt.plot(modello.history['val_root_mean_squared_error'],label='test',color='orange')\n",
        "plt.title('Validation RMSE Plot')\n",
        "plt.legend()\n",
        "plt.show()"
      ],
      "execution_count": 77,
      "outputs": [
        {
          "output_type": "display_data",
          "data": {
            "image/png": "[encoded data removed]",
            "text/plain": [
              "<Figure size 720x360 with 2 Axes>"
            ]
          },
          "metadata": {
            "tags": [],
            "needs_background": "light"
          }
        }
      ]
    },
    {
      "cell_type": "code",
      "metadata": {
        "id": "FcRhE4J9xbPr",
        "outputId": "fd755e24-e0f7-4c83-9e9a-fd538060134c",
        "colab": {
          "base_uri": "https://localhost:8080/",
          "height": 238
        }
      },
      "source": [
        "a = model.predict(x_test)\n",
        "a=[i[0] for i in a.tolist()]\n",
        "mediaY= numpy.mean(data_selected_encoded1.y)\n",
        "stdY = numpy.std(data_selected_encoded1.y)\n",
        "predicted_scaled = pd.DataFrame(a)\n",
        "actual = pd.DataFrame(y_test)\n",
        "test = pd.DataFrame({'actual_scaled':y_test.to_list(),'predicted_scaled':a})\n",
        "diff = maxY-minY\n",
        "test['predicted']=test['predicted_scaled'].apply(lambda x : (x*diff)+minY)\n",
        "test['actual']=test['actual_scaled'].apply(lambda x : (x*diff)+minY)\n",
        "test['MAE']=abs(test.predicted-test.actual)\n",
        "test['RMSE'] = (test.predicted-test.actual)**2\n",
        "print(f\"MAE : {round(sklearn.metrics.mean_absolute_error(y_true=test.actual,y_pred=test.predicted),3)}\")\n",
        "print(f\"RMSE : {round(math.sqrt(sklearn.metrics.mean_squared_error(y_true=test.actual,y_pred=test.predicted)),3)}\")\n",
        "test.head()"
      ],
      "execution_count": 78,
      "outputs": [
        {
          "output_type": "stream",
          "text": [
            "MAE : 36.164\n",
            "RMSE : 49.11\n"
          ],
          "name": "stdout"
        },
        {
          "output_type": "execute_result",
          "data": {
            "text/html": [
              "<div>\n",
              "<style scoped>\n",
              "    .dataframe tbody tr th:only-of-type {\n",
              "        vertical-align: middle;\n",
              "    }\n",
              "\n",
              "    .dataframe tbody tr th {\n",
              "        vertical-align: top;\n",
              "    }\n",
              "\n",
              "    .dataframe thead th {\n",
              "        text-align: right;\n",
              "    }\n",
              "</style>\n",
              "<table border=\"1\" class=\"dataframe\">\n",
              "  <thead>\n",
              "    <tr style=\"text-align: right;\">\n",
              "      <th></th>\n",
              "      <th>actual_scaled</th>\n",
              "      <th>predicted_scaled</th>\n",
              "      <th>predicted</th>\n",
              "      <th>actual</th>\n",
              "      <th>MAE</th>\n",
              "      <th>RMSE</th>\n",
              "    </tr>\n",
              "  </thead>\n",
              "  <tbody>\n",
              "    <tr>\n",
              "      <th>0</th>\n",
              "      <td>0.216718</td>\n",
              "      <td>0.256812</td>\n",
              "      <td>92.950163</td>\n",
              "      <td>80.0</td>\n",
              "      <td>12.950163</td>\n",
              "      <td>167.706709</td>\n",
              "    </tr>\n",
              "    <tr>\n",
              "      <th>1</th>\n",
              "      <td>0.588235</td>\n",
              "      <td>0.515502</td>\n",
              "      <td>176.507061</td>\n",
              "      <td>200.0</td>\n",
              "      <td>23.492939</td>\n",
              "      <td>551.918171</td>\n",
              "    </tr>\n",
              "    <tr>\n",
              "      <th>2</th>\n",
              "      <td>0.402477</td>\n",
              "      <td>0.414495</td>\n",
              "      <td>143.881747</td>\n",
              "      <td>140.0</td>\n",
              "      <td>3.881747</td>\n",
              "      <td>15.067963</td>\n",
              "    </tr>\n",
              "    <tr>\n",
              "      <th>3</th>\n",
              "      <td>0.433437</td>\n",
              "      <td>0.564050</td>\n",
              "      <td>192.188214</td>\n",
              "      <td>150.0</td>\n",
              "      <td>42.188214</td>\n",
              "      <td>1779.845386</td>\n",
              "    </tr>\n",
              "    <tr>\n",
              "      <th>4</th>\n",
              "      <td>0.743034</td>\n",
              "      <td>0.447307</td>\n",
              "      <td>154.480245</td>\n",
              "      <td>250.0</td>\n",
              "      <td>95.519755</td>\n",
              "      <td>9124.023670</td>\n",
              "    </tr>\n",
              "  </tbody>\n",
              "</table>\n",
              "</div>"
            ],
            "text/plain": [
              "   actual_scaled  predicted_scaled   predicted  actual        MAE         RMSE\n",
              "0       0.216718          0.256812   92.950163    80.0  12.950163   167.706709\n",
              "1       0.588235          0.515502  176.507061   200.0  23.492939   551.918171\n",
              "2       0.402477          0.414495  143.881747   140.0   3.881747    15.067963\n",
              "3       0.433437          0.564050  192.188214   150.0  42.188214  1779.845386\n",
              "4       0.743034          0.447307  154.480245   250.0  95.519755  9124.023670"
            ]
          },
          "metadata": {
            "tags": []
          },
          "execution_count": 78
        }
      ]
    },
    {
      "cell_type": "code",
      "metadata": {
        "id": "z5ntHiahdZQc"
      },
      "source": [
        ""
      ],
      "execution_count": 78,
      "outputs": []
    },
    {
      "cell_type": "code",
      "metadata": {
        "id": "XRKFKlQydZX4"
      },
      "source": [
        ""
      ],
      "execution_count": 78,
      "outputs": []
    },
    {
      "cell_type": "code",
      "metadata": {
        "id": "oRrpAep6dZl0"
      },
      "source": [
        ""
      ],
      "execution_count": 78,
      "outputs": []
    },
    {
      "cell_type": "markdown",
      "metadata": {
        "id": "f0XXY4JXdFVO"
      },
      "source": [
        "\n",
        "\n",
        "\n",
        "\n",
        "\n",
        "\n",
        "\n",
        "\n",
        "\n",
        "\n",
        "\n",
        "---\n",
        "\n",
        "\n",
        "* ripeto le stesse operazioni sul test set fornito in modo tale da poter ottenere le previsioni"
      ]
    },
    {
      "cell_type": "code",
      "metadata": {
        "id": "UBUwteYju6eF"
      },
      "source": [
        "def geo_coordinates_transformer(df):\n",
        "  df['latitude']=df['latitude'].apply(unbias)\n",
        "  df['longitude']=df['longitude'].apply(unbias)\n",
        "  gdf = gdp.GeoDataFrame(\n",
        "  df, geometry=gdp.points_from_xy(df.longitude, df.latitude),crs=4326)\n",
        "  gdf.geometry = gdf.geometry.to_crs({'init': 'epsg:2263'})\n",
        "  boroughs = gdp.read_file(gdp.datasets.get_path(\"nybb\"))\n",
        "  boroughs=boroughs.to_crs(epsg=2263)\n",
        "  data = gdp.sjoin(right_df=boroughs[['BoroName','geometry']],\n",
        "                 left_df=gdf,            how=\"left\",                 op=\"intersects\")\n",
        "  data_selected =  data[['minimum_nights', 'number_of_reviews','reviews_per_month','calculated_host_listings_count','availability_365',\n",
        "                         'Private_room', 'Entire_home/apt','BoroName']]\n",
        "  data_selected = data_selected.dropna()\n",
        "  data_selected = data_selected.reset_index()\n",
        "  columnTransformer = ColumnTransformer([('encoder', \n",
        "                                        OneHotEncoder(), \n",
        "                                        [-1])], \n",
        "                                      remainder='passthrough') \n",
        "  \n",
        "  data_encoded = columnTransformer.fit_transform(data_selected)\n",
        "\n",
        "  data_encoded = pd.DataFrame(data_encoded)\n",
        "  one_hot_encoding=data_encoded.iloc[:,0:5]\n",
        "  data_selected_encoded = data_selected.join(one_hot_encoding)\n",
        "  data_selected_encoded=data_selected_encoded.drop(columns=['BoroName'])\n",
        "  data_selected_encoded1=data_selected_encoded.iloc[:,1:]\n",
        "  df_normalized = data_selected_encoded1.apply(normalizzazione,axis=0)\n",
        "  return df_normalized\n"
      ],
      "execution_count": 81,
      "outputs": []
    },
    {
      "cell_type": "code",
      "metadata": {
        "id": "x0wJH_EvB090",
        "outputId": "d1ed6a19-5947-42c0-ed12-bbbfd0a92aef",
        "colab": {
          "base_uri": "https://localhost:8080/"
        }
      },
      "source": [
        "test_set=pd.read_csv('X_test.csv').iloc[:, 1:]\n",
        "test_set_normalized = geo_coordinates_transformer(test_set)"
      ],
      "execution_count": 82,
      "outputs": [
        {
          "output_type": "stream",
          "text": [
            "/usr/local/lib/python3.6/dist-packages/pyproj/crs/crs.py:53: FutureWarning: '+init=<authority>:<code>' syntax is deprecated. '<authority>:<code>' is the preferred initialization method. When making the change, be mindful of axis order changes: https://pyproj4.github.io/pyproj/stable/gotchas.html#axis-order-changes-in-proj-6\n",
            "  return _prepare_from_string(\" \".join(pjargs))\n"
          ],
          "name": "stderr"
        }
      ]
    },
    {
      "cell_type": "markdown",
      "metadata": {
        "id": "v5G9VGEaetO9"
      },
      "source": [
        "\n",
        "\n",
        "---\n",
        "<h1><center>Risultati</center></h1> \n",
        "\n",
        "\n",
        "---\n",
        "\n"
      ]
    },
    {
      "cell_type": "code",
      "metadata": {
        "id": "qgf8unIgGy8a",
        "outputId": "f80da6ac-1659-4b71-871e-ee53adf52e0e",
        "colab": {
          "base_uri": "https://localhost:8080/",
          "height": 419
        }
      },
      "source": [
        "predictions = model.predict(test_set_normalized)\n",
        "predictions=[i[0] for i in predictions.tolist()]\n",
        "df_predictions = pd.DataFrame([(i*stdY)+mediaY for i in a ])\n",
        "df_predictions"
      ],
      "execution_count": 89,
      "outputs": [
        {
          "output_type": "execute_result",
          "data": {
            "text/html": [
              "<div>\n",
              "<style scoped>\n",
              "    .dataframe tbody tr th:only-of-type {\n",
              "        vertical-align: middle;\n",
              "    }\n",
              "\n",
              "    .dataframe tbody tr th {\n",
              "        vertical-align: top;\n",
              "    }\n",
              "\n",
              "    .dataframe thead th {\n",
              "        text-align: right;\n",
              "    }\n",
              "</style>\n",
              "<table border=\"1\" class=\"dataframe\">\n",
              "  <thead>\n",
              "    <tr style=\"text-align: right;\">\n",
              "      <th></th>\n",
              "      <th>0</th>\n",
              "    </tr>\n",
              "  </thead>\n",
              "  <tbody>\n",
              "    <tr>\n",
              "      <th>0</th>\n",
              "      <td>137.203740</td>\n",
              "    </tr>\n",
              "    <tr>\n",
              "      <th>1</th>\n",
              "      <td>154.772366</td>\n",
              "    </tr>\n",
              "    <tr>\n",
              "      <th>2</th>\n",
              "      <td>147.912586</td>\n",
              "    </tr>\n",
              "    <tr>\n",
              "      <th>3</th>\n",
              "      <td>158.069476</td>\n",
              "    </tr>\n",
              "    <tr>\n",
              "      <th>4</th>\n",
              "      <td>150.141020</td>\n",
              "    </tr>\n",
              "    <tr>\n",
              "      <th>...</th>\n",
              "      <td>...</td>\n",
              "    </tr>\n",
              "    <tr>\n",
              "      <th>3172</th>\n",
              "      <td>131.693617</td>\n",
              "    </tr>\n",
              "    <tr>\n",
              "      <th>3173</th>\n",
              "      <td>147.949967</td>\n",
              "    </tr>\n",
              "    <tr>\n",
              "      <th>3174</th>\n",
              "      <td>155.817565</td>\n",
              "    </tr>\n",
              "    <tr>\n",
              "      <th>3175</th>\n",
              "      <td>159.980226</td>\n",
              "    </tr>\n",
              "    <tr>\n",
              "      <th>3176</th>\n",
              "      <td>153.979861</td>\n",
              "    </tr>\n",
              "  </tbody>\n",
              "</table>\n",
              "<p>3177 rows × 1 columns</p>\n",
              "</div>"
            ],
            "text/plain": [
              "               0\n",
              "0     137.203740\n",
              "1     154.772366\n",
              "2     147.912586\n",
              "3     158.069476\n",
              "4     150.141020\n",
              "...          ...\n",
              "3172  131.693617\n",
              "3173  147.949967\n",
              "3174  155.817565\n",
              "3175  159.980226\n",
              "3176  153.979861\n",
              "\n",
              "[3177 rows x 1 columns]"
            ]
          },
          "metadata": {
            "tags": []
          },
          "execution_count": 89
        }
      ]
    },
    {
      "cell_type": "code",
      "metadata": {
        "id": "aPUrnPINvf5b"
      },
      "source": [
        "#df_predictions.to_csv(\"Lorenzo_Mauri_807306_score1.txt\",header = False, index=False ) "
      ],
      "execution_count": 91,
      "outputs": []
    }
  ]
}