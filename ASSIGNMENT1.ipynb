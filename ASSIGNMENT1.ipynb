{
  "nbformat": 4,
  "nbformat_minor": 0,
  "metadata": {
    "colab": {
      "name": "ASSIGNMENT1.ipynb",
      "provenance": [],
      "collapsed_sections": [],
      "mount_file_id": "1OVH3rfFvHaRjpIPPqVQiNZWTeuiPvLPb",
      "authorship_tag": "ABX9TyMG/ir3tx6oBq7e8msflMhg",
      "include_colab_link": true
    },
    "kernelspec": {
      "name": "python3",
      "display_name": "Python 3"
    }
  },
  "cells": [
    {
      "cell_type": "markdown",
      "metadata": {
        "id": "view-in-github",
        "colab_type": "text"
      },
      "source": [
        "<a href=\"https://colab.research.google.com/github/LorenzoMauri/Advanced-Machine-Learning/blob/main/ASSIGNMENT1.ipynb\" target=\"_parent\"><img src=\"https://colab.research.google.com/assets/colab-badge.svg\" alt=\"Open In Colab\"/></a>"
      ]
    },
    {
      "cell_type": "markdown",
      "metadata": {
        "id": "SXWcAORceq8r"
      },
      "source": [
        "#**Assignment 1**"
      ]
    },
    {
      "cell_type": "markdown",
      "metadata": {
        "id": "HDYg7lOmemmt"
      },
      "source": [
        "## Import libraries \n",
        "\n"
      ]
    },
    {
      "cell_type": "code",
      "metadata": {
        "id": "EnBGOjIJKoXj",
        "outputId": "77b8bc3a-76e1-4053-d11b-53861cfb51e5",
        "colab": {
          "base_uri": "https://localhost:8080/",
          "height": 272
        }
      },
      "source": [
        "!pip install geopandas"
      ],
      "execution_count": 5,
      "outputs": [
        {
          "output_type": "stream",
          "text": [
            "Requirement already satisfied: geopandas in /usr/local/lib/python3.6/dist-packages (0.8.1)\n",
            "Requirement already satisfied: pandas>=0.23.0 in /usr/local/lib/python3.6/dist-packages (from geopandas) (1.1.3)\n",
            "Requirement already satisfied: fiona in /usr/local/lib/python3.6/dist-packages (from geopandas) (1.8.17)\n",
            "Requirement already satisfied: pyproj>=2.2.0 in /usr/local/lib/python3.6/dist-packages (from geopandas) (2.6.1.post1)\n",
            "Requirement already satisfied: shapely in /usr/local/lib/python3.6/dist-packages (from geopandas) (1.7.1)\n",
            "Requirement already satisfied: pytz>=2017.2 in /usr/local/lib/python3.6/dist-packages (from pandas>=0.23.0->geopandas) (2018.9)\n",
            "Requirement already satisfied: numpy>=1.15.4 in /usr/local/lib/python3.6/dist-packages (from pandas>=0.23.0->geopandas) (1.18.5)\n",
            "Requirement already satisfied: python-dateutil>=2.7.3 in /usr/local/lib/python3.6/dist-packages (from pandas>=0.23.0->geopandas) (2.8.1)\n",
            "Requirement already satisfied: click-plugins>=1.0 in /usr/local/lib/python3.6/dist-packages (from fiona->geopandas) (1.1.1)\n",
            "Requirement already satisfied: attrs>=17 in /usr/local/lib/python3.6/dist-packages (from fiona->geopandas) (20.2.0)\n",
            "Requirement already satisfied: six>=1.7 in /usr/local/lib/python3.6/dist-packages (from fiona->geopandas) (1.15.0)\n",
            "Requirement already satisfied: munch in /usr/local/lib/python3.6/dist-packages (from fiona->geopandas) (2.5.0)\n",
            "Requirement already satisfied: click<8,>=4.0 in /usr/local/lib/python3.6/dist-packages (from fiona->geopandas) (7.1.2)\n",
            "Requirement already satisfied: cligj>=0.5 in /usr/local/lib/python3.6/dist-packages (from fiona->geopandas) (0.7.0)\n"
          ],
          "name": "stdout"
        }
      ]
    },
    {
      "cell_type": "code",
      "metadata": {
        "id": "ySKvALBjSUJs"
      },
      "source": [
        "import os \n",
        "import pandas as pd\n",
        "import seaborn as sns\n",
        "import matplotlib.pyplot as plt\n",
        "import geopandas\n",
        "from time import sleep\n",
        "import math\n",
        "import statistics \n",
        "import numpy\n",
        "import shapely\n",
        "import geopy.distance\n",
        "from shapely.geometry import Point,Polygon\n",
        "from tensorflow import keras\n",
        "import keras\n",
        "from keras.models import Sequential\n",
        "from keras.layers import Dense\n",
        "from sklearn.preprocessing import StandardScaler\n",
        "from sklearn.metrics import mean_squared_error\n",
        "from keras import backend as K\n"
      ],
      "execution_count": 6,
      "outputs": []
    },
    {
      "cell_type": "markdown",
      "metadata": {
        "id": "xXhDsDmdee5M"
      },
      "source": [
        "## Import data from Google Drive\n"
      ]
    },
    {
      "cell_type": "code",
      "metadata": {
        "id": "swKy8epCRGQu",
        "outputId": "cf501636-c3af-4d5c-f989-7a27f9b56c48",
        "colab": {
          "base_uri": "https://localhost:8080/",
          "height": 218
        }
      },
      "source": [
        "os.chdir('/content/drive/My Drive/Advanced Machine Learning /assignment1/data')\n",
        "x_train=pd.read_csv('X_train.csv').iloc[:, 1:]\n",
        "y_train=pd.read_csv('y_train.csv').iloc[:, 1:]\n",
        "x_test=pd.read_csv('X_test.csv').iloc[:, 1:]\n",
        "\n",
        "training_set = x_train.copy()\n",
        "test_set = x_test.copy()\n",
        "\n",
        "df_complessivo = x_train.copy() \n",
        "df_complessivo['y'] = y_train\n",
        "df_complessivo.head() \n",
        "\n"
      ],
      "execution_count": 7,
      "outputs": [
        {
          "output_type": "execute_result",
          "data": {
            "text/html": [
              "<div>\n",
              "<style scoped>\n",
              "    .dataframe tbody tr th:only-of-type {\n",
              "        vertical-align: middle;\n",
              "    }\n",
              "\n",
              "    .dataframe tbody tr th {\n",
              "        vertical-align: top;\n",
              "    }\n",
              "\n",
              "    .dataframe thead th {\n",
              "        text-align: right;\n",
              "    }\n",
              "</style>\n",
              "<table border=\"1\" class=\"dataframe\">\n",
              "  <thead>\n",
              "    <tr style=\"text-align: right;\">\n",
              "      <th></th>\n",
              "      <th>latitude</th>\n",
              "      <th>longitude</th>\n",
              "      <th>minimum_nights</th>\n",
              "      <th>number_of_reviews</th>\n",
              "      <th>reviews_per_month</th>\n",
              "      <th>calculated_host_listings_count</th>\n",
              "      <th>availability_365</th>\n",
              "      <th>Private_room</th>\n",
              "      <th>Entire_home/apt</th>\n",
              "      <th>y</th>\n",
              "    </tr>\n",
              "  </thead>\n",
              "  <tbody>\n",
              "    <tr>\n",
              "      <th>0</th>\n",
              "      <td>40.71239</td>\n",
              "      <td>-73.95271</td>\n",
              "      <td>4</td>\n",
              "      <td>2</td>\n",
              "      <td>0.19</td>\n",
              "      <td>1</td>\n",
              "      <td>0</td>\n",
              "      <td>1</td>\n",
              "      <td>0</td>\n",
              "      <td>65</td>\n",
              "    </tr>\n",
              "    <tr>\n",
              "      <th>1</th>\n",
              "      <td>40696.00000</td>\n",
              "      <td>-73.91303</td>\n",
              "      <td>4</td>\n",
              "      <td>17</td>\n",
              "      <td>0.66</td>\n",
              "      <td>2</td>\n",
              "      <td>307</td>\n",
              "      <td>1</td>\n",
              "      <td>0</td>\n",
              "      <td>57</td>\n",
              "    </tr>\n",
              "    <tr>\n",
              "      <th>2</th>\n",
              "      <td>40.62707</td>\n",
              "      <td>-74.02817</td>\n",
              "      <td>3</td>\n",
              "      <td>1</td>\n",
              "      <td>0.04</td>\n",
              "      <td>1</td>\n",
              "      <td>87</td>\n",
              "      <td>0</td>\n",
              "      <td>0</td>\n",
              "      <td>225</td>\n",
              "    </tr>\n",
              "    <tr>\n",
              "      <th>3</th>\n",
              "      <td>40.77910</td>\n",
              "      <td>-73.98565</td>\n",
              "      <td>1</td>\n",
              "      <td>4</td>\n",
              "      <td>0.08</td>\n",
              "      <td>1</td>\n",
              "      <td>0</td>\n",
              "      <td>0</td>\n",
              "      <td>1</td>\n",
              "      <td>175</td>\n",
              "    </tr>\n",
              "    <tr>\n",
              "      <th>4</th>\n",
              "      <td>40.75777</td>\n",
              "      <td>-73.93509</td>\n",
              "      <td>1</td>\n",
              "      <td>0</td>\n",
              "      <td>0.00</td>\n",
              "      <td>1</td>\n",
              "      <td>358</td>\n",
              "      <td>1</td>\n",
              "      <td>0</td>\n",
              "      <td>125</td>\n",
              "    </tr>\n",
              "  </tbody>\n",
              "</table>\n",
              "</div>"
            ],
            "text/plain": [
              "      latitude  longitude  minimum_nights  ...  Private_room  Entire_home/apt    y\n",
              "0     40.71239  -73.95271               4  ...             1                0   65\n",
              "1  40696.00000  -73.91303               4  ...             1                0   57\n",
              "2     40.62707  -74.02817               3  ...             0                0  225\n",
              "3     40.77910  -73.98565               1  ...             0                1  175\n",
              "4     40.75777  -73.93509               1  ...             1                0  125\n",
              "\n",
              "[5 rows x 10 columns]"
            ]
          },
          "metadata": {
            "tags": []
          },
          "execution_count": 7
        }
      ]
    },
    {
      "cell_type": "markdown",
      "metadata": {
        "id": "nn8JM1oK26A-"
      },
      "source": [
        "## Exploratory analysis"
      ]
    },
    {
      "cell_type": "code",
      "metadata": {
        "id": "asyMT16QTQFy",
        "outputId": "bca3b4cb-42ca-4e67-fb89-b2fd0f2329c7",
        "colab": {
          "base_uri": "https://localhost:8080/",
          "height": 236
        }
      },
      "source": [
        "print(training_set.shape)\n",
        "training_set.head()"
      ],
      "execution_count": 8,
      "outputs": [
        {
          "output_type": "stream",
          "text": [
            "(33884, 9)\n"
          ],
          "name": "stdout"
        },
        {
          "output_type": "execute_result",
          "data": {
            "text/html": [
              "<div>\n",
              "<style scoped>\n",
              "    .dataframe tbody tr th:only-of-type {\n",
              "        vertical-align: middle;\n",
              "    }\n",
              "\n",
              "    .dataframe tbody tr th {\n",
              "        vertical-align: top;\n",
              "    }\n",
              "\n",
              "    .dataframe thead th {\n",
              "        text-align: right;\n",
              "    }\n",
              "</style>\n",
              "<table border=\"1\" class=\"dataframe\">\n",
              "  <thead>\n",
              "    <tr style=\"text-align: right;\">\n",
              "      <th></th>\n",
              "      <th>latitude</th>\n",
              "      <th>longitude</th>\n",
              "      <th>minimum_nights</th>\n",
              "      <th>number_of_reviews</th>\n",
              "      <th>reviews_per_month</th>\n",
              "      <th>calculated_host_listings_count</th>\n",
              "      <th>availability_365</th>\n",
              "      <th>Private_room</th>\n",
              "      <th>Entire_home/apt</th>\n",
              "    </tr>\n",
              "  </thead>\n",
              "  <tbody>\n",
              "    <tr>\n",
              "      <th>0</th>\n",
              "      <td>40.71239</td>\n",
              "      <td>-73.95271</td>\n",
              "      <td>4</td>\n",
              "      <td>2</td>\n",
              "      <td>0.19</td>\n",
              "      <td>1</td>\n",
              "      <td>0</td>\n",
              "      <td>1</td>\n",
              "      <td>0</td>\n",
              "    </tr>\n",
              "    <tr>\n",
              "      <th>1</th>\n",
              "      <td>40696.00000</td>\n",
              "      <td>-73.91303</td>\n",
              "      <td>4</td>\n",
              "      <td>17</td>\n",
              "      <td>0.66</td>\n",
              "      <td>2</td>\n",
              "      <td>307</td>\n",
              "      <td>1</td>\n",
              "      <td>0</td>\n",
              "    </tr>\n",
              "    <tr>\n",
              "      <th>2</th>\n",
              "      <td>40.62707</td>\n",
              "      <td>-74.02817</td>\n",
              "      <td>3</td>\n",
              "      <td>1</td>\n",
              "      <td>0.04</td>\n",
              "      <td>1</td>\n",
              "      <td>87</td>\n",
              "      <td>0</td>\n",
              "      <td>0</td>\n",
              "    </tr>\n",
              "    <tr>\n",
              "      <th>3</th>\n",
              "      <td>40.77910</td>\n",
              "      <td>-73.98565</td>\n",
              "      <td>1</td>\n",
              "      <td>4</td>\n",
              "      <td>0.08</td>\n",
              "      <td>1</td>\n",
              "      <td>0</td>\n",
              "      <td>0</td>\n",
              "      <td>1</td>\n",
              "    </tr>\n",
              "    <tr>\n",
              "      <th>4</th>\n",
              "      <td>40.75777</td>\n",
              "      <td>-73.93509</td>\n",
              "      <td>1</td>\n",
              "      <td>0</td>\n",
              "      <td>0.00</td>\n",
              "      <td>1</td>\n",
              "      <td>358</td>\n",
              "      <td>1</td>\n",
              "      <td>0</td>\n",
              "    </tr>\n",
              "  </tbody>\n",
              "</table>\n",
              "</div>"
            ],
            "text/plain": [
              "      latitude  longitude  ...  Private_room  Entire_home/apt\n",
              "0     40.71239  -73.95271  ...             1                0\n",
              "1  40696.00000  -73.91303  ...             1                0\n",
              "2     40.62707  -74.02817  ...             0                0\n",
              "3     40.77910  -73.98565  ...             0                1\n",
              "4     40.75777  -73.93509  ...             1                0\n",
              "\n",
              "[5 rows x 9 columns]"
            ]
          },
          "metadata": {
            "tags": []
          },
          "execution_count": 8
        }
      ]
    },
    {
      "cell_type": "code",
      "metadata": {
        "id": "gDvp6ymf_wPe",
        "outputId": "57964324-b555-4844-d197-b91de80b50dd",
        "colab": {
          "base_uri": "https://localhost:8080/",
          "height": 236
        }
      },
      "source": [
        "print(test_set.shape)\n",
        "test_set.head()"
      ],
      "execution_count": 9,
      "outputs": [
        {
          "output_type": "stream",
          "text": [
            "(3765, 9)\n"
          ],
          "name": "stdout"
        },
        {
          "output_type": "execute_result",
          "data": {
            "text/html": [
              "<div>\n",
              "<style scoped>\n",
              "    .dataframe tbody tr th:only-of-type {\n",
              "        vertical-align: middle;\n",
              "    }\n",
              "\n",
              "    .dataframe tbody tr th {\n",
              "        vertical-align: top;\n",
              "    }\n",
              "\n",
              "    .dataframe thead th {\n",
              "        text-align: right;\n",
              "    }\n",
              "</style>\n",
              "<table border=\"1\" class=\"dataframe\">\n",
              "  <thead>\n",
              "    <tr style=\"text-align: right;\">\n",
              "      <th></th>\n",
              "      <th>latitude</th>\n",
              "      <th>longitude</th>\n",
              "      <th>minimum_nights</th>\n",
              "      <th>number_of_reviews</th>\n",
              "      <th>reviews_per_month</th>\n",
              "      <th>calculated_host_listings_count</th>\n",
              "      <th>availability_365</th>\n",
              "      <th>Private_room</th>\n",
              "      <th>Entire_home/apt</th>\n",
              "    </tr>\n",
              "  </thead>\n",
              "  <tbody>\n",
              "    <tr>\n",
              "      <th>0</th>\n",
              "      <td>40.68579</td>\n",
              "      <td>-73.97455</td>\n",
              "      <td>2</td>\n",
              "      <td>4</td>\n",
              "      <td>0.17</td>\n",
              "      <td>1</td>\n",
              "      <td>0</td>\n",
              "      <td>0</td>\n",
              "      <td>1</td>\n",
              "    </tr>\n",
              "    <tr>\n",
              "      <th>1</th>\n",
              "      <td>40.67085</td>\n",
              "      <td>-73.92316</td>\n",
              "      <td>1</td>\n",
              "      <td>9</td>\n",
              "      <td>0.61</td>\n",
              "      <td>1</td>\n",
              "      <td>0</td>\n",
              "      <td>1</td>\n",
              "      <td>0</td>\n",
              "    </tr>\n",
              "    <tr>\n",
              "      <th>2</th>\n",
              "      <td>40.68817</td>\n",
              "      <td>-73.91523</td>\n",
              "      <td>2</td>\n",
              "      <td>31</td>\n",
              "      <td>1.35</td>\n",
              "      <td>5</td>\n",
              "      <td>0</td>\n",
              "      <td>1</td>\n",
              "      <td>0</td>\n",
              "    </tr>\n",
              "    <tr>\n",
              "      <th>3</th>\n",
              "      <td>40.67201</td>\n",
              "      <td>-73.86944</td>\n",
              "      <td>3</td>\n",
              "      <td>0</td>\n",
              "      <td>0.00</td>\n",
              "      <td>2</td>\n",
              "      <td>363</td>\n",
              "      <td>1</td>\n",
              "      <td>0</td>\n",
              "    </tr>\n",
              "    <tr>\n",
              "      <th>4</th>\n",
              "      <td>40.68696</td>\n",
              "      <td>-73.92905</td>\n",
              "      <td>1</td>\n",
              "      <td>7</td>\n",
              "      <td>0.19</td>\n",
              "      <td>1</td>\n",
              "      <td>0</td>\n",
              "      <td>1</td>\n",
              "      <td>0</td>\n",
              "    </tr>\n",
              "  </tbody>\n",
              "</table>\n",
              "</div>"
            ],
            "text/plain": [
              "   latitude  longitude  ...  Private_room  Entire_home/apt\n",
              "0  40.68579  -73.97455  ...             0                1\n",
              "1  40.67085  -73.92316  ...             1                0\n",
              "2  40.68817  -73.91523  ...             1                0\n",
              "3  40.67201  -73.86944  ...             1                0\n",
              "4  40.68696  -73.92905  ...             1                0\n",
              "\n",
              "[5 rows x 9 columns]"
            ]
          },
          "metadata": {
            "tags": []
          },
          "execution_count": 9
        }
      ]
    },
    {
      "cell_type": "code",
      "metadata": {
        "id": "o4YLgt3H0Kpq",
        "outputId": "ece775af-103e-4172-f3c0-efa7682a216c",
        "colab": {
          "base_uri": "https://localhost:8080/",
          "height": 236
        }
      },
      "source": [
        "print(test_set.shape)\n",
        "test_set.head()"
      ],
      "execution_count": 10,
      "outputs": [
        {
          "output_type": "stream",
          "text": [
            "(3765, 9)\n"
          ],
          "name": "stdout"
        },
        {
          "output_type": "execute_result",
          "data": {
            "text/html": [
              "<div>\n",
              "<style scoped>\n",
              "    .dataframe tbody tr th:only-of-type {\n",
              "        vertical-align: middle;\n",
              "    }\n",
              "\n",
              "    .dataframe tbody tr th {\n",
              "        vertical-align: top;\n",
              "    }\n",
              "\n",
              "    .dataframe thead th {\n",
              "        text-align: right;\n",
              "    }\n",
              "</style>\n",
              "<table border=\"1\" class=\"dataframe\">\n",
              "  <thead>\n",
              "    <tr style=\"text-align: right;\">\n",
              "      <th></th>\n",
              "      <th>latitude</th>\n",
              "      <th>longitude</th>\n",
              "      <th>minimum_nights</th>\n",
              "      <th>number_of_reviews</th>\n",
              "      <th>reviews_per_month</th>\n",
              "      <th>calculated_host_listings_count</th>\n",
              "      <th>availability_365</th>\n",
              "      <th>Private_room</th>\n",
              "      <th>Entire_home/apt</th>\n",
              "    </tr>\n",
              "  </thead>\n",
              "  <tbody>\n",
              "    <tr>\n",
              "      <th>0</th>\n",
              "      <td>40.68579</td>\n",
              "      <td>-73.97455</td>\n",
              "      <td>2</td>\n",
              "      <td>4</td>\n",
              "      <td>0.17</td>\n",
              "      <td>1</td>\n",
              "      <td>0</td>\n",
              "      <td>0</td>\n",
              "      <td>1</td>\n",
              "    </tr>\n",
              "    <tr>\n",
              "      <th>1</th>\n",
              "      <td>40.67085</td>\n",
              "      <td>-73.92316</td>\n",
              "      <td>1</td>\n",
              "      <td>9</td>\n",
              "      <td>0.61</td>\n",
              "      <td>1</td>\n",
              "      <td>0</td>\n",
              "      <td>1</td>\n",
              "      <td>0</td>\n",
              "    </tr>\n",
              "    <tr>\n",
              "      <th>2</th>\n",
              "      <td>40.68817</td>\n",
              "      <td>-73.91523</td>\n",
              "      <td>2</td>\n",
              "      <td>31</td>\n",
              "      <td>1.35</td>\n",
              "      <td>5</td>\n",
              "      <td>0</td>\n",
              "      <td>1</td>\n",
              "      <td>0</td>\n",
              "    </tr>\n",
              "    <tr>\n",
              "      <th>3</th>\n",
              "      <td>40.67201</td>\n",
              "      <td>-73.86944</td>\n",
              "      <td>3</td>\n",
              "      <td>0</td>\n",
              "      <td>0.00</td>\n",
              "      <td>2</td>\n",
              "      <td>363</td>\n",
              "      <td>1</td>\n",
              "      <td>0</td>\n",
              "    </tr>\n",
              "    <tr>\n",
              "      <th>4</th>\n",
              "      <td>40.68696</td>\n",
              "      <td>-73.92905</td>\n",
              "      <td>1</td>\n",
              "      <td>7</td>\n",
              "      <td>0.19</td>\n",
              "      <td>1</td>\n",
              "      <td>0</td>\n",
              "      <td>1</td>\n",
              "      <td>0</td>\n",
              "    </tr>\n",
              "  </tbody>\n",
              "</table>\n",
              "</div>"
            ],
            "text/plain": [
              "   latitude  longitude  ...  Private_room  Entire_home/apt\n",
              "0  40.68579  -73.97455  ...             0                1\n",
              "1  40.67085  -73.92316  ...             1                0\n",
              "2  40.68817  -73.91523  ...             1                0\n",
              "3  40.67201  -73.86944  ...             1                0\n",
              "4  40.68696  -73.92905  ...             1                0\n",
              "\n",
              "[5 rows x 9 columns]"
            ]
          },
          "metadata": {
            "tags": []
          },
          "execution_count": 10
        }
      ]
    },
    {
      "cell_type": "markdown",
      "metadata": {
        "id": "LPW0-xGh2jo4"
      },
      "source": [
        "* checking columns types "
      ]
    },
    {
      "cell_type": "code",
      "metadata": {
        "id": "XSJY1LHZcTNO",
        "outputId": "5b387130-a292-4f18-ae6c-f5304415f346",
        "colab": {
          "base_uri": "https://localhost:8080/",
          "height": 199
        }
      },
      "source": [
        "training_set.dtypes"
      ],
      "execution_count": 11,
      "outputs": [
        {
          "output_type": "execute_result",
          "data": {
            "text/plain": [
              "latitude                          float64\n",
              "longitude                         float64\n",
              "minimum_nights                      int64\n",
              "number_of_reviews                   int64\n",
              "reviews_per_month                 float64\n",
              "calculated_host_listings_count      int64\n",
              "availability_365                    int64\n",
              "Private_room                        int64\n",
              "Entire_home/apt                     int64\n",
              "dtype: object"
            ]
          },
          "metadata": {
            "tags": []
          },
          "execution_count": 11
        }
      ]
    },
    {
      "cell_type": "code",
      "metadata": {
        "id": "7UoYuCfNeUKB",
        "outputId": "3084f8aa-2d5b-4f0b-a666-3d0e83fd48bb",
        "colab": {
          "base_uri": "https://localhost:8080/",
          "height": 199
        }
      },
      "source": [
        "test_set.dtypes"
      ],
      "execution_count": 12,
      "outputs": [
        {
          "output_type": "execute_result",
          "data": {
            "text/plain": [
              "latitude                          float64\n",
              "longitude                         float64\n",
              "minimum_nights                      int64\n",
              "number_of_reviews                   int64\n",
              "reviews_per_month                 float64\n",
              "calculated_host_listings_count      int64\n",
              "availability_365                    int64\n",
              "Private_room                        int64\n",
              "Entire_home/apt                     int64\n",
              "dtype: object"
            ]
          },
          "metadata": {
            "tags": []
          },
          "execution_count": 12
        }
      ]
    },
    {
      "cell_type": "markdown",
      "metadata": {
        "id": "8SG0x_6N2frP"
      },
      "source": [
        "* checking missing values "
      ]
    },
    {
      "cell_type": "code",
      "metadata": {
        "id": "8wxcujyw2dot",
        "outputId": "538805e0-a236-4185-9751-b7ef43ab01cd",
        "colab": {
          "base_uri": "https://localhost:8080/",
          "height": 199
        }
      },
      "source": [
        "training_set.isnull().sum()"
      ],
      "execution_count": 13,
      "outputs": [
        {
          "output_type": "execute_result",
          "data": {
            "text/plain": [
              "latitude                          0\n",
              "longitude                         0\n",
              "minimum_nights                    0\n",
              "number_of_reviews                 0\n",
              "reviews_per_month                 0\n",
              "calculated_host_listings_count    0\n",
              "availability_365                  0\n",
              "Private_room                      0\n",
              "Entire_home/apt                   0\n",
              "dtype: int64"
            ]
          },
          "metadata": {
            "tags": []
          },
          "execution_count": 13
        }
      ]
    },
    {
      "cell_type": "code",
      "metadata": {
        "id": "BErRYnrXeVT8",
        "outputId": "70678273-6933-4711-c7ed-b6d505815536",
        "colab": {
          "base_uri": "https://localhost:8080/",
          "height": 199
        }
      },
      "source": [
        "test_set.isnull().sum()"
      ],
      "execution_count": 14,
      "outputs": [
        {
          "output_type": "execute_result",
          "data": {
            "text/plain": [
              "latitude                          0\n",
              "longitude                         0\n",
              "minimum_nights                    0\n",
              "number_of_reviews                 0\n",
              "reviews_per_month                 0\n",
              "calculated_host_listings_count    0\n",
              "availability_365                  0\n",
              "Private_room                      0\n",
              "Entire_home/apt                   0\n",
              "dtype: int64"
            ]
          },
          "metadata": {
            "tags": []
          },
          "execution_count": 14
        }
      ]
    },
    {
      "cell_type": "code",
      "metadata": {
        "id": "Rnz6Hr2zDcTq",
        "outputId": "a0bc7a5b-1eef-474f-ba0c-50939e4632be",
        "colab": {
          "base_uri": "https://localhost:8080/",
          "height": 308
        }
      },
      "source": [
        "training_set.describe()"
      ],
      "execution_count": 15,
      "outputs": [
        {
          "output_type": "execute_result",
          "data": {
            "text/html": [
              "<div>\n",
              "<style scoped>\n",
              "    .dataframe tbody tr th:only-of-type {\n",
              "        vertical-align: middle;\n",
              "    }\n",
              "\n",
              "    .dataframe tbody tr th {\n",
              "        vertical-align: top;\n",
              "    }\n",
              "\n",
              "    .dataframe thead th {\n",
              "        text-align: right;\n",
              "    }\n",
              "</style>\n",
              "<table border=\"1\" class=\"dataframe\">\n",
              "  <thead>\n",
              "    <tr style=\"text-align: right;\">\n",
              "      <th></th>\n",
              "      <th>latitude</th>\n",
              "      <th>longitude</th>\n",
              "      <th>minimum_nights</th>\n",
              "      <th>number_of_reviews</th>\n",
              "      <th>reviews_per_month</th>\n",
              "      <th>calculated_host_listings_count</th>\n",
              "      <th>availability_365</th>\n",
              "      <th>Private_room</th>\n",
              "      <th>Entire_home/apt</th>\n",
              "    </tr>\n",
              "  </thead>\n",
              "  <tbody>\n",
              "    <tr>\n",
              "      <th>count</th>\n",
              "      <td>33884.000000</td>\n",
              "      <td>33884.000000</td>\n",
              "      <td>33884.000000</td>\n",
              "      <td>33884.000000</td>\n",
              "      <td>33884.000000</td>\n",
              "      <td>33884.000000</td>\n",
              "      <td>33884.000000</td>\n",
              "      <td>33884.000000</td>\n",
              "      <td>33884.000000</td>\n",
              "    </tr>\n",
              "    <tr>\n",
              "      <th>mean</th>\n",
              "      <td>393.742123</td>\n",
              "      <td>-767.324528</td>\n",
              "      <td>7.109904</td>\n",
              "      <td>23.391778</td>\n",
              "      <td>1.095455</td>\n",
              "      <td>7.101080</td>\n",
              "      <td>112.995839</td>\n",
              "      <td>0.456085</td>\n",
              "      <td>0.520127</td>\n",
              "    </tr>\n",
              "    <tr>\n",
              "      <th>std</th>\n",
              "      <td>3773.366411</td>\n",
              "      <td>7123.758128</td>\n",
              "      <td>20.234836</td>\n",
              "      <td>44.608022</td>\n",
              "      <td>1.610452</td>\n",
              "      <td>32.746915</td>\n",
              "      <td>131.641035</td>\n",
              "      <td>0.498075</td>\n",
              "      <td>0.499602</td>\n",
              "    </tr>\n",
              "    <tr>\n",
              "      <th>min</th>\n",
              "      <td>40.499790</td>\n",
              "      <td>-74142.000000</td>\n",
              "      <td>1.000000</td>\n",
              "      <td>0.000000</td>\n",
              "      <td>0.000000</td>\n",
              "      <td>1.000000</td>\n",
              "      <td>0.000000</td>\n",
              "      <td>0.000000</td>\n",
              "      <td>0.000000</td>\n",
              "    </tr>\n",
              "    <tr>\n",
              "      <th>25%</th>\n",
              "      <td>40.690427</td>\n",
              "      <td>-73.983503</td>\n",
              "      <td>1.000000</td>\n",
              "      <td>1.000000</td>\n",
              "      <td>0.040000</td>\n",
              "      <td>1.000000</td>\n",
              "      <td>0.000000</td>\n",
              "      <td>0.000000</td>\n",
              "      <td>0.000000</td>\n",
              "    </tr>\n",
              "    <tr>\n",
              "      <th>50%</th>\n",
              "      <td>40.723645</td>\n",
              "      <td>-73.956025</td>\n",
              "      <td>3.000000</td>\n",
              "      <td>5.000000</td>\n",
              "      <td>0.370000</td>\n",
              "      <td>1.000000</td>\n",
              "      <td>45.000000</td>\n",
              "      <td>0.000000</td>\n",
              "      <td>1.000000</td>\n",
              "    </tr>\n",
              "    <tr>\n",
              "      <th>75%</th>\n",
              "      <td>40.763910</td>\n",
              "      <td>-73.937005</td>\n",
              "      <td>5.000000</td>\n",
              "      <td>24.000000</td>\n",
              "      <td>1.590000</td>\n",
              "      <td>2.000000</td>\n",
              "      <td>227.000000</td>\n",
              "      <td>1.000000</td>\n",
              "      <td>1.000000</td>\n",
              "    </tr>\n",
              "    <tr>\n",
              "      <th>max</th>\n",
              "      <td>40894.000000</td>\n",
              "      <td>-73.712990</td>\n",
              "      <td>1000.000000</td>\n",
              "      <td>629.000000</td>\n",
              "      <td>58.500000</td>\n",
              "      <td>327.000000</td>\n",
              "      <td>365.000000</td>\n",
              "      <td>1.000000</td>\n",
              "      <td>1.000000</td>\n",
              "    </tr>\n",
              "  </tbody>\n",
              "</table>\n",
              "</div>"
            ],
            "text/plain": [
              "           latitude     longitude  ...  Private_room  Entire_home/apt\n",
              "count  33884.000000  33884.000000  ...  33884.000000     33884.000000\n",
              "mean     393.742123   -767.324528  ...      0.456085         0.520127\n",
              "std     3773.366411   7123.758128  ...      0.498075         0.499602\n",
              "min       40.499790 -74142.000000  ...      0.000000         0.000000\n",
              "25%       40.690427    -73.983503  ...      0.000000         0.000000\n",
              "50%       40.723645    -73.956025  ...      0.000000         1.000000\n",
              "75%       40.763910    -73.937005  ...      1.000000         1.000000\n",
              "max    40894.000000    -73.712990  ...      1.000000         1.000000\n",
              "\n",
              "[8 rows x 9 columns]"
            ]
          },
          "metadata": {
            "tags": []
          },
          "execution_count": 15
        }
      ]
    },
    {
      "cell_type": "code",
      "metadata": {
        "id": "LtYt5k1DAKVg",
        "outputId": "6a2cc4ab-a63c-493c-d1bb-2eac5b07124c",
        "colab": {
          "base_uri": "https://localhost:8080/",
          "height": 308
        }
      },
      "source": [
        "test_set.describe()"
      ],
      "execution_count": 16,
      "outputs": [
        {
          "output_type": "execute_result",
          "data": {
            "text/html": [
              "<div>\n",
              "<style scoped>\n",
              "    .dataframe tbody tr th:only-of-type {\n",
              "        vertical-align: middle;\n",
              "    }\n",
              "\n",
              "    .dataframe tbody tr th {\n",
              "        vertical-align: top;\n",
              "    }\n",
              "\n",
              "    .dataframe thead th {\n",
              "        text-align: right;\n",
              "    }\n",
              "</style>\n",
              "<table border=\"1\" class=\"dataframe\">\n",
              "  <thead>\n",
              "    <tr style=\"text-align: right;\">\n",
              "      <th></th>\n",
              "      <th>latitude</th>\n",
              "      <th>longitude</th>\n",
              "      <th>minimum_nights</th>\n",
              "      <th>number_of_reviews</th>\n",
              "      <th>reviews_per_month</th>\n",
              "      <th>calculated_host_listings_count</th>\n",
              "      <th>availability_365</th>\n",
              "      <th>Private_room</th>\n",
              "      <th>Entire_home/apt</th>\n",
              "    </tr>\n",
              "  </thead>\n",
              "  <tbody>\n",
              "    <tr>\n",
              "      <th>count</th>\n",
              "      <td>3765.000000</td>\n",
              "      <td>3765.000000</td>\n",
              "      <td>3765.000000</td>\n",
              "      <td>3765.000000</td>\n",
              "      <td>3765.000000</td>\n",
              "      <td>3765.000000</td>\n",
              "      <td>3765.000000</td>\n",
              "      <td>3765.000000</td>\n",
              "      <td>3765.000000</td>\n",
              "    </tr>\n",
              "    <tr>\n",
              "      <th>mean</th>\n",
              "      <td>397.429772</td>\n",
              "      <td>-623.385344</td>\n",
              "      <td>7.717663</td>\n",
              "      <td>22.546348</td>\n",
              "      <td>1.073421</td>\n",
              "      <td>8.124568</td>\n",
              "      <td>115.432669</td>\n",
              "      <td>0.451262</td>\n",
              "      <td>0.526959</td>\n",
              "    </tr>\n",
              "    <tr>\n",
              "      <th>std</th>\n",
              "      <td>3793.819578</td>\n",
              "      <td>6348.269973</td>\n",
              "      <td>31.688428</td>\n",
              "      <td>42.644924</td>\n",
              "      <td>1.553516</td>\n",
              "      <td>37.043267</td>\n",
              "      <td>132.790393</td>\n",
              "      <td>0.497685</td>\n",
              "      <td>0.499339</td>\n",
              "    </tr>\n",
              "    <tr>\n",
              "      <th>min</th>\n",
              "      <td>40.507080</td>\n",
              "      <td>-74124.000000</td>\n",
              "      <td>1.000000</td>\n",
              "      <td>0.000000</td>\n",
              "      <td>0.000000</td>\n",
              "      <td>1.000000</td>\n",
              "      <td>0.000000</td>\n",
              "      <td>0.000000</td>\n",
              "      <td>0.000000</td>\n",
              "    </tr>\n",
              "    <tr>\n",
              "      <th>25%</th>\n",
              "      <td>40.689430</td>\n",
              "      <td>-73.984260</td>\n",
              "      <td>1.000000</td>\n",
              "      <td>1.000000</td>\n",
              "      <td>0.040000</td>\n",
              "      <td>1.000000</td>\n",
              "      <td>0.000000</td>\n",
              "      <td>0.000000</td>\n",
              "      <td>0.000000</td>\n",
              "    </tr>\n",
              "    <tr>\n",
              "      <th>50%</th>\n",
              "      <td>40.723370</td>\n",
              "      <td>-73.956270</td>\n",
              "      <td>2.000000</td>\n",
              "      <td>5.000000</td>\n",
              "      <td>0.380000</td>\n",
              "      <td>1.000000</td>\n",
              "      <td>51.000000</td>\n",
              "      <td>0.000000</td>\n",
              "      <td>1.000000</td>\n",
              "    </tr>\n",
              "    <tr>\n",
              "      <th>75%</th>\n",
              "      <td>40.763420</td>\n",
              "      <td>-73.935150</td>\n",
              "      <td>5.000000</td>\n",
              "      <td>24.000000</td>\n",
              "      <td>1.550000</td>\n",
              "      <td>2.000000</td>\n",
              "      <td>231.000000</td>\n",
              "      <td>1.000000</td>\n",
              "      <td>1.000000</td>\n",
              "    </tr>\n",
              "    <tr>\n",
              "      <th>max</th>\n",
              "      <td>40833.000000</td>\n",
              "      <td>-73.724350</td>\n",
              "      <td>1250.000000</td>\n",
              "      <td>447.000000</td>\n",
              "      <td>20.940000</td>\n",
              "      <td>327.000000</td>\n",
              "      <td>365.000000</td>\n",
              "      <td>1.000000</td>\n",
              "      <td>1.000000</td>\n",
              "    </tr>\n",
              "  </tbody>\n",
              "</table>\n",
              "</div>"
            ],
            "text/plain": [
              "           latitude     longitude  ...  Private_room  Entire_home/apt\n",
              "count   3765.000000   3765.000000  ...   3765.000000      3765.000000\n",
              "mean     397.429772   -623.385344  ...      0.451262         0.526959\n",
              "std     3793.819578   6348.269973  ...      0.497685         0.499339\n",
              "min       40.507080 -74124.000000  ...      0.000000         0.000000\n",
              "25%       40.689430    -73.984260  ...      0.000000         0.000000\n",
              "50%       40.723370    -73.956270  ...      0.000000         1.000000\n",
              "75%       40.763420    -73.935150  ...      1.000000         1.000000\n",
              "max    40833.000000    -73.724350  ...      1.000000         1.000000\n",
              "\n",
              "[8 rows x 9 columns]"
            ]
          },
          "metadata": {
            "tags": []
          },
          "execution_count": 16
        }
      ]
    },
    {
      "cell_type": "code",
      "metadata": {
        "id": "UJlVwo_-eVf_",
        "outputId": "996e90b8-2e92-4f2b-99e2-e98c9d4058ec",
        "colab": {
          "base_uri": "https://localhost:8080/",
          "height": 126
        }
      },
      "source": [
        "print(test_set[['latitude','longitude']].min())\n",
        "training_set[['latitude','longitude']].min()"
      ],
      "execution_count": 17,
      "outputs": [
        {
          "output_type": "stream",
          "text": [
            "latitude        40.50708\n",
            "longitude   -74124.00000\n",
            "dtype: float64\n"
          ],
          "name": "stdout"
        },
        {
          "output_type": "execute_result",
          "data": {
            "text/plain": [
              "latitude        40.49979\n",
              "longitude   -74142.00000\n",
              "dtype: float64"
            ]
          },
          "metadata": {
            "tags": []
          },
          "execution_count": 17
        }
      ]
    },
    {
      "cell_type": "code",
      "metadata": {
        "id": "d7eM4WaJDY7u",
        "outputId": "c97433a7-a43b-495d-846f-ce77cd65623e",
        "colab": {
          "base_uri": "https://localhost:8080/",
          "height": 126
        }
      },
      "source": [
        "print(test_set[['latitude','longitude']].max())\n",
        "training_set[['latitude','longitude']].max()"
      ],
      "execution_count": 18,
      "outputs": [
        {
          "output_type": "stream",
          "text": [
            "latitude     40833.00000\n",
            "longitude      -73.72435\n",
            "dtype: float64\n"
          ],
          "name": "stdout"
        },
        {
          "output_type": "execute_result",
          "data": {
            "text/plain": [
              "latitude     40894.00000\n",
              "longitude      -73.71299\n",
              "dtype: float64"
            ]
          },
          "metadata": {
            "tags": []
          },
          "execution_count": 18
        }
      ]
    },
    {
      "cell_type": "markdown",
      "metadata": {
        "id": "SjpURfqy8h1y"
      },
      "source": [
        "* anomaly detection \n",
        "\n",
        "Dalle descrittive fornite da pandas notiamo subito alcune criticità:\n",
        "\n",
        "> `latitudine` e `longitudine` :\n",
        ">>le coordinate che identificano New York City sono (40.730610,-73.935242) pertanto le coordinate delle altre abitazioni non potranno discostarsi molto da quei valori. Osserviamo che il valore massimo per la è `latitudine` 40894.0 mentre il valore minimo per la `longitudine` è -74142.0 . \n",
        "**Soluzione proposta** : una più accurata analisi ci fa notare che il separatore virgola è erroneamente spostato di 3 cifre : basterà quindi dividere tutti i valori errati per 1000.\n",
        "\n",
        "> `price` : \n",
        ">> alcune abitazioni hanno prezzo nullo. **Soluzione proposta** : In questo caso non ha senso mantenere l'osservazione nel dataframe, perciò decidiamo di rimuoverla.\n",
        "\n"
      ]
    },
    {
      "cell_type": "code",
      "metadata": {
        "id": "Zm55e6vVeVaF",
        "outputId": "a25bdc51-a80f-4ec9-b432-dc964f5e3618",
        "colab": {
          "base_uri": "https://localhost:8080/",
          "height": 218
        }
      },
      "source": [
        "def unbias(row):\n",
        "  if abs(row) > 1000 :\n",
        "    return row/1000.0\n",
        "  else : return row\n",
        "\n",
        "df_complessivo['latitude']=df_complessivo['latitude'].apply(unbias)\n",
        "df_complessivo['longitude']=df_complessivo['longitude'].apply(unbias)\n",
        "\n",
        "df_complessivo.head()\n"
      ],
      "execution_count": 19,
      "outputs": [
        {
          "output_type": "execute_result",
          "data": {
            "text/html": [
              "<div>\n",
              "<style scoped>\n",
              "    .dataframe tbody tr th:only-of-type {\n",
              "        vertical-align: middle;\n",
              "    }\n",
              "\n",
              "    .dataframe tbody tr th {\n",
              "        vertical-align: top;\n",
              "    }\n",
              "\n",
              "    .dataframe thead th {\n",
              "        text-align: right;\n",
              "    }\n",
              "</style>\n",
              "<table border=\"1\" class=\"dataframe\">\n",
              "  <thead>\n",
              "    <tr style=\"text-align: right;\">\n",
              "      <th></th>\n",
              "      <th>latitude</th>\n",
              "      <th>longitude</th>\n",
              "      <th>minimum_nights</th>\n",
              "      <th>number_of_reviews</th>\n",
              "      <th>reviews_per_month</th>\n",
              "      <th>calculated_host_listings_count</th>\n",
              "      <th>availability_365</th>\n",
              "      <th>Private_room</th>\n",
              "      <th>Entire_home/apt</th>\n",
              "      <th>y</th>\n",
              "    </tr>\n",
              "  </thead>\n",
              "  <tbody>\n",
              "    <tr>\n",
              "      <th>0</th>\n",
              "      <td>40.71239</td>\n",
              "      <td>-73.95271</td>\n",
              "      <td>4</td>\n",
              "      <td>2</td>\n",
              "      <td>0.19</td>\n",
              "      <td>1</td>\n",
              "      <td>0</td>\n",
              "      <td>1</td>\n",
              "      <td>0</td>\n",
              "      <td>65</td>\n",
              "    </tr>\n",
              "    <tr>\n",
              "      <th>1</th>\n",
              "      <td>40.69600</td>\n",
              "      <td>-73.91303</td>\n",
              "      <td>4</td>\n",
              "      <td>17</td>\n",
              "      <td>0.66</td>\n",
              "      <td>2</td>\n",
              "      <td>307</td>\n",
              "      <td>1</td>\n",
              "      <td>0</td>\n",
              "      <td>57</td>\n",
              "    </tr>\n",
              "    <tr>\n",
              "      <th>2</th>\n",
              "      <td>40.62707</td>\n",
              "      <td>-74.02817</td>\n",
              "      <td>3</td>\n",
              "      <td>1</td>\n",
              "      <td>0.04</td>\n",
              "      <td>1</td>\n",
              "      <td>87</td>\n",
              "      <td>0</td>\n",
              "      <td>0</td>\n",
              "      <td>225</td>\n",
              "    </tr>\n",
              "    <tr>\n",
              "      <th>3</th>\n",
              "      <td>40.77910</td>\n",
              "      <td>-73.98565</td>\n",
              "      <td>1</td>\n",
              "      <td>4</td>\n",
              "      <td>0.08</td>\n",
              "      <td>1</td>\n",
              "      <td>0</td>\n",
              "      <td>0</td>\n",
              "      <td>1</td>\n",
              "      <td>175</td>\n",
              "    </tr>\n",
              "    <tr>\n",
              "      <th>4</th>\n",
              "      <td>40.75777</td>\n",
              "      <td>-73.93509</td>\n",
              "      <td>1</td>\n",
              "      <td>0</td>\n",
              "      <td>0.00</td>\n",
              "      <td>1</td>\n",
              "      <td>358</td>\n",
              "      <td>1</td>\n",
              "      <td>0</td>\n",
              "      <td>125</td>\n",
              "    </tr>\n",
              "  </tbody>\n",
              "</table>\n",
              "</div>"
            ],
            "text/plain": [
              "   latitude  longitude  minimum_nights  ...  Private_room  Entire_home/apt    y\n",
              "0  40.71239  -73.95271               4  ...             1                0   65\n",
              "1  40.69600  -73.91303               4  ...             1                0   57\n",
              "2  40.62707  -74.02817               3  ...             0                0  225\n",
              "3  40.77910  -73.98565               1  ...             0                1  175\n",
              "4  40.75777  -73.93509               1  ...             1                0  125\n",
              "\n",
              "[5 rows x 10 columns]"
            ]
          },
          "metadata": {
            "tags": []
          },
          "execution_count": 19
        }
      ]
    },
    {
      "cell_type": "code",
      "metadata": {
        "id": "Is2oRg1ceVrL"
      },
      "source": [
        "coordinates_complessivo = [Point(xy) for xy in zip(df_complessivo.longitude,df_complessivo.latitude)]\n",
        "df_complessivo=geopandas.GeoDataFrame(df_complessivo, geometry=coordinates_complessivo,crs={'init':'epsg:4326'})\n",
        "df_complessivo.head()"
      ],
      "execution_count": null,
      "outputs": []
    },
    {
      "cell_type": "code",
      "metadata": {
        "id": "HViMiLFkXSHw",
        "outputId": "9310832e-035a-4bd8-fe32-38f37cb7c85a",
        "colab": {
          "base_uri": "https://localhost:8080/",
          "height": 35
        }
      },
      "source": [
        "boroughs = geopandas.read_file(geopandas.datasets.get_path(\"nybb\"))"
      ],
      "execution_count": 37,
      "outputs": [
        {
          "output_type": "execute_result",
          "data": {
            "text/plain": [
              "pandas.core.series.Series"
            ]
          },
          "metadata": {
            "tags": []
          },
          "execution_count": 37
        }
      ]
    },
    {
      "cell_type": "code",
      "metadata": {
        "id": "YBnYgSQ9U-N-",
        "outputId": "81f4b7d3-a340-4fbe-8432-7195d4201886",
        "colab": {
          "base_uri": "https://localhost:8080/",
          "height": 610
        }
      },
      "source": [
        "fig, ax = plt.subplots(figsize = (10,10))\n",
        "boroughs_locations = geopandas.tools.geocode(boroughs.BoroName.to_list())\n",
        "boroughs.to_crs(\"EPSG:4326\").plot(ax=ax, color=\"white\", edgecolor=\"black\")\n",
        "boroughs_locations.plot(ax=ax, color=\"red\",markersize = 100)\n",
        "df_complessivo['geometry'].plot(ax=ax, color=\"blue\",markersize = 0.2)\n"
      ],
      "execution_count": 54,
      "outputs": [
        {
          "output_type": "execute_result",
          "data": {
            "text/plain": [
              "<matplotlib.axes._subplots.AxesSubplot at 0x7efcf4d75048>"
            ]
          },
          "metadata": {
            "tags": []
          },
          "execution_count": 54
        },
        {
          "output_type": "display_data",
          "data": {
            "image/png": "[encoded data removed]",
            "text/plain": [
              "<Figure size 720x720 with 1 Axes>"
            ]
          },
          "metadata": {
            "tags": [],
            "needs_background": "light"
          }
        }
      ]
    },
    {
      "cell_type": "markdown",
      "metadata": {
        "id": "sK-1r0Ezp6ip"
      },
      "source": [
        "* Nota\n",
        "\n",
        "> Osserviamo graficamente che la maggior parte delle abitazioni sono a Manhattan e Brooklyn \n",
        "\n",
        "\n",
        "* Svolgimento \n",
        "\n",
        "> Per associare un punto al proprio distretto possiamo calcolare le distanze tra il punto e i 5 distretti e considerare il distretto con distanza più piccola. "
      ]
    },
    {
      "cell_type": "code",
      "metadata": {
        "id": "wuNqGE4bW0XV"
      },
      "source": [
        "df_complessivo['(lat,lon)']=df_complessivo[['latitude','longitude']].apply(lambda x: tuple(x), axis=1)\n"
      ],
      "execution_count": 55,
      "outputs": []
    },
    {
      "cell_type": "code",
      "metadata": {
        "id": "3CCUYUqWhMsr"
      },
      "source": [
        "def extract_coords(row):\n",
        "  return (tuple((row.y,row.x)))\n",
        " \n",
        "boroughs_locations['(lat,lon)']= boroughs_locations['geometry'].apply(extract_coords)"
      ],
      "execution_count": null,
      "outputs": []
    },
    {
      "cell_type": "code",
      "metadata": {
        "id": "TIyHWfBaRYqI"
      },
      "source": [
        "def distance(row):\n",
        "  districts = {'staten island':0,'queens':1, 'brooklyn': 2, 'manhattan':3, 'bronx': 4} \n",
        "  min_dist = 10000000 \n",
        "  min_district=''\n",
        "  for district in districts:\n",
        "    dist = geopy.distance.geodesic(row,boroughs_locations['(lat,lon)'].iloc[districts[district]]).kilometers\n",
        "    if dist <= min_dist : \n",
        "      min_dist = dist\n",
        "      min_district = districts[district]\n",
        "  return min_district\n",
        "\n",
        "df_complessivo['district']= df_complessivo['(lat,lon)'].apply(distance)\n",
        "\n"
      ],
      "execution_count": 57,
      "outputs": []
    },
    {
      "cell_type": "markdown",
      "metadata": {
        "id": "J_Ta-OvCDsP3"
      },
      "source": [
        "> Troviamo confermata la numerosità delle abitazioni distribuite nei quartieri di New York con quanto osservato graficamente.\n"
      ]
    },
    {
      "cell_type": "code",
      "metadata": {
        "id": "lM-c2qrq-GR_",
        "outputId": "4a2cf360-6be7-4da3-f1a5-10b4ec01dbd3",
        "colab": {
          "base_uri": "https://localhost:8080/",
          "height": 295
        }
      },
      "source": [
        "plt.bar(['staten island','queens', 'brooklyn', 'manhattan', 'bronx'],list(df_complessivo.groupby('district').size()))\n",
        "plt.xlabel('district')\n",
        "plt.ylabel('nb houses')\n",
        "plt.title('Houses per district')\n",
        "plt.show()"
      ],
      "execution_count": 59,
      "outputs": [
        {
          "output_type": "display_data",
          "data": {
            "image/png": "[encoded data removed]",
            "text/plain": [
              "<Figure size 432x288 with 1 Axes>"
            ]
          },
          "metadata": {
            "tags": [],
            "needs_background": "light"
          }
        }
      ]
    },
    {
      "cell_type": "code",
      "metadata": {
        "id": "Sy3pMEeao3ta"
      },
      "source": [
        "df_complessivo2 = df_complessivo[['district', 'minimum_nights', 'number_of_reviews',\n",
        "       'reviews_per_month', 'calculated_host_listings_count',\n",
        "       'availability_365', 'Private_room', 'Entire_home/apt', 'y']]\n",
        "df_complessivo2 = df_complessivo2[df_complessivo2['y']!=0]\n",
        "\n",
        "from sklearn.model_selection import train_test_split\n",
        "x_train, x_test, y_train, y_test = train_test_split(df_complessivo2.iloc[:,:-1], df_complessivo2.iloc[:,-1], test_size=0.20, random_state=42)"
      ],
      "execution_count": 60,
      "outputs": []
    },
    {
      "cell_type": "code",
      "metadata": {
        "id": "JdqjHjykAAuO",
        "outputId": "10d4b521-a778-4bcd-d7bc-417b62627916",
        "colab": {
          "base_uri": "https://localhost:8080/",
          "height": 198
        }
      },
      "source": [
        "x_train.head()"
      ],
      "execution_count": 61,
      "outputs": [
        {
          "output_type": "execute_result",
          "data": {
            "text/html": [
              "<div>\n",
              "<style scoped>\n",
              "    .dataframe tbody tr th:only-of-type {\n",
              "        vertical-align: middle;\n",
              "    }\n",
              "\n",
              "    .dataframe tbody tr th {\n",
              "        vertical-align: top;\n",
              "    }\n",
              "\n",
              "    .dataframe thead th {\n",
              "        text-align: right;\n",
              "    }\n",
              "</style>\n",
              "<table border=\"1\" class=\"dataframe\">\n",
              "  <thead>\n",
              "    <tr style=\"text-align: right;\">\n",
              "      <th></th>\n",
              "      <th>district</th>\n",
              "      <th>minimum_nights</th>\n",
              "      <th>number_of_reviews</th>\n",
              "      <th>reviews_per_month</th>\n",
              "      <th>calculated_host_listings_count</th>\n",
              "      <th>availability_365</th>\n",
              "      <th>Private_room</th>\n",
              "      <th>Entire_home/apt</th>\n",
              "    </tr>\n",
              "  </thead>\n",
              "  <tbody>\n",
              "    <tr>\n",
              "      <th>22394</th>\n",
              "      <td>0</td>\n",
              "      <td>30</td>\n",
              "      <td>25</td>\n",
              "      <td>0.36</td>\n",
              "      <td>2</td>\n",
              "      <td>188</td>\n",
              "      <td>0</td>\n",
              "      <td>1</td>\n",
              "    </tr>\n",
              "    <tr>\n",
              "      <th>27282</th>\n",
              "      <td>1</td>\n",
              "      <td>4</td>\n",
              "      <td>44</td>\n",
              "      <td>2.33</td>\n",
              "      <td>2</td>\n",
              "      <td>39</td>\n",
              "      <td>0</td>\n",
              "      <td>1</td>\n",
              "    </tr>\n",
              "    <tr>\n",
              "      <th>20717</th>\n",
              "      <td>2</td>\n",
              "      <td>1</td>\n",
              "      <td>3</td>\n",
              "      <td>0.16</td>\n",
              "      <td>1</td>\n",
              "      <td>4</td>\n",
              "      <td>1</td>\n",
              "      <td>0</td>\n",
              "    </tr>\n",
              "    <tr>\n",
              "      <th>7338</th>\n",
              "      <td>3</td>\n",
              "      <td>3</td>\n",
              "      <td>42</td>\n",
              "      <td>0.99</td>\n",
              "      <td>1</td>\n",
              "      <td>3</td>\n",
              "      <td>1</td>\n",
              "      <td>0</td>\n",
              "    </tr>\n",
              "    <tr>\n",
              "      <th>5028</th>\n",
              "      <td>2</td>\n",
              "      <td>2</td>\n",
              "      <td>0</td>\n",
              "      <td>0.00</td>\n",
              "      <td>1</td>\n",
              "      <td>5</td>\n",
              "      <td>0</td>\n",
              "      <td>1</td>\n",
              "    </tr>\n",
              "  </tbody>\n",
              "</table>\n",
              "</div>"
            ],
            "text/plain": [
              "       district  minimum_nights  ...  Private_room  Entire_home/apt\n",
              "22394         0              30  ...             0                1\n",
              "27282         1               4  ...             0                1\n",
              "20717         2               1  ...             1                0\n",
              "7338          3               3  ...             1                0\n",
              "5028          2               2  ...             0                1\n",
              "\n",
              "[5 rows x 8 columns]"
            ]
          },
          "metadata": {
            "tags": []
          },
          "execution_count": 61
        }
      ]
    },
    {
      "cell_type": "markdown",
      "metadata": {
        "id": "39_TVrKh66n1"
      },
      "source": [
        "## Building deep learning algorithm"
      ]
    },
    {
      "cell_type": "markdown",
      "metadata": {
        "id": "-1fI2VYdOm7P"
      },
      "source": [
        ""
      ]
    },
    {
      "cell_type": "code",
      "metadata": {
        "id": "VuHegYOv7FHk"
      },
      "source": [
        "df_to_split=\n",
        "epochs=30\n",
        "batch=64\n",
        "lr=0.001\n",
        "u1=20\n",
        "u2=10\n",
        "alpha_leakyrelu = 0.6\n",
        "train=True\n",
        "x_train, x_test, y_train, y_test = train_test_split(df_to_split.iloc[:,:-1], df_to_split.iloc[:,-1], test_size=0.20, random_state=42)\n",
        "model = Sequential()\n",
        "weights_initialization_1 = keras.initializers.RandomUniform(minval=-0.05, maxval=0.05, seed=None)\n",
        "bias_initialization_1 = keras.initializers.RandomUniform(minval=-0.05, maxval=0.05, seed=None)\n",
        "weights_initialization_2 = keras.initializers.RandomUniform(minval=-0.05, maxval=0.05, seed=None)\n",
        "bias_initialization_2 = keras.initializers.RandomUniform(minval=-0.05, maxval=0.05, seed=None)\n",
        "f=keras.layers.LeakyReLU(alpha=alpha_leakyrelu)\n",
        "model.add(Dense(units = u1 , input_dim=8,activation='relu',kernel_initializer = weights_initialization,bias_initializer=bias_initialization_1))\n",
        "model.add(Dense(units = u2 ,activation=f,kernel_initializer = weights_initialization_2,bias_initializer=bias_initialization_2))\n",
        "model.add(Dense(units = 1,activation = f))\n",
        "opt= keras.optimizers.Adam(learning_rate=lr)\n",
        "model.compile(loss='mean_squared_error', optimizer=opt, metrics=[keras.metrics.RootMeanSquaredError()])\n",
        "model.fit(x_train, y_train, epochs=epochs,validation_data=(x_test,y_test),batch_size = batch )"
      ],
      "execution_count": 206,
      "outputs": []
    },
    {
      "cell_type": "code",
      "metadata": {
        "id": "sQW5Kk925I_e"
      },
      "source": [
        "fig = plt.plot(figsize=(5,5))\n",
        "plt.title('Training and Test Plot')\n",
        "plt.plot(modello.history['root_mean_squared_error'],label='training')\n",
        "plt.plot(modello.history['val_root_mean_squared_error'],label='test')\n",
        "plt.legend()\n",
        "plt.show()"
      ],
      "execution_count": 168,
      "outputs": []
    },
    {
      "cell_type": "code",
      "metadata": {
        "id": "Oc-46TmvIln4"
      },
      "source": [
        "a = model.predict(x_test)\n",
        "predicted = pd.DataFrame(a)\n",
        "actual = pd.DataFrame(y_test)\n",
        "test = pd.DataFrame({'actual':y_test.to_list(),'predicted':predicted[0].to_list()})\n",
        "test\n"
      ],
      "execution_count": 186,
      "outputs": []
    },
    {
      "cell_type": "code",
      "metadata": {
        "id": "95YQxTaU8TuB",
        "outputId": "675ec777-04ef-47e8-de84-4fb67a4ef094",
        "colab": {
          "base_uri": "https://localhost:8080/",
          "height": 407
        }
      },
      "source": [
        "predicted = pd.DataFrame(a)\n",
        "actual = pd.DataFrame(y_test)\n",
        "test = pd.DataFrame({'actual':y_test.to_list(),'predicted':predicted[0].to_list()})\n",
        "test"
      ],
      "execution_count": 77,
      "outputs": [
        {
          "output_type": "execute_result",
          "data": {
            "text/html": [
              "<div>\n",
              "<style scoped>\n",
              "    .dataframe tbody tr th:only-of-type {\n",
              "        vertical-align: middle;\n",
              "    }\n",
              "\n",
              "    .dataframe tbody tr th {\n",
              "        vertical-align: top;\n",
              "    }\n",
              "\n",
              "    .dataframe thead th {\n",
              "        text-align: right;\n",
              "    }\n",
              "</style>\n",
              "<table border=\"1\" class=\"dataframe\">\n",
              "  <thead>\n",
              "    <tr style=\"text-align: right;\">\n",
              "      <th></th>\n",
              "      <th>actual</th>\n",
              "      <th>predicted</th>\n",
              "    </tr>\n",
              "  </thead>\n",
              "  <tbody>\n",
              "    <tr>\n",
              "      <th>0</th>\n",
              "      <td>163</td>\n",
              "      <td>168.632751</td>\n",
              "    </tr>\n",
              "    <tr>\n",
              "      <th>1</th>\n",
              "      <td>175</td>\n",
              "      <td>231.432800</td>\n",
              "    </tr>\n",
              "    <tr>\n",
              "      <th>2</th>\n",
              "      <td>200</td>\n",
              "      <td>169.601166</td>\n",
              "    </tr>\n",
              "    <tr>\n",
              "      <th>3</th>\n",
              "      <td>65</td>\n",
              "      <td>94.393730</td>\n",
              "    </tr>\n",
              "    <tr>\n",
              "      <th>4</th>\n",
              "      <td>81</td>\n",
              "      <td>111.994987</td>\n",
              "    </tr>\n",
              "    <tr>\n",
              "      <th>...</th>\n",
              "      <td>...</td>\n",
              "      <td>...</td>\n",
              "    </tr>\n",
              "    <tr>\n",
              "      <th>6771</th>\n",
              "      <td>277</td>\n",
              "      <td>176.929932</td>\n",
              "    </tr>\n",
              "    <tr>\n",
              "      <th>6772</th>\n",
              "      <td>67</td>\n",
              "      <td>88.870689</td>\n",
              "    </tr>\n",
              "    <tr>\n",
              "      <th>6773</th>\n",
              "      <td>45</td>\n",
              "      <td>92.548752</td>\n",
              "    </tr>\n",
              "    <tr>\n",
              "      <th>6774</th>\n",
              "      <td>40</td>\n",
              "      <td>104.635620</td>\n",
              "    </tr>\n",
              "    <tr>\n",
              "      <th>6775</th>\n",
              "      <td>320</td>\n",
              "      <td>230.654083</td>\n",
              "    </tr>\n",
              "  </tbody>\n",
              "</table>\n",
              "<p>6776 rows × 2 columns</p>\n",
              "</div>"
            ],
            "text/plain": [
              "      actual   predicted\n",
              "0        163  168.632751\n",
              "1        175  231.432800\n",
              "2        200  169.601166\n",
              "3         65   94.393730\n",
              "4         81  111.994987\n",
              "...      ...         ...\n",
              "6771     277  176.929932\n",
              "6772      67   88.870689\n",
              "6773      45   92.548752\n",
              "6774      40  104.635620\n",
              "6775     320  230.654083\n",
              "\n",
              "[6776 rows x 2 columns]"
            ]
          },
          "metadata": {
            "tags": []
          },
          "execution_count": 77
        }
      ]
    },
    {
      "cell_type": "code",
      "metadata": {
        "id": "w9_F8MpcSMbu",
        "outputId": "441eea3e-338b-45c4-b7fd-1b4a0294e71a",
        "colab": {
          "base_uri": "https://localhost:8080/",
          "height": 272
        }
      },
      "source": [
        "model.summary()"
      ],
      "execution_count": 78,
      "outputs": [
        {
          "output_type": "stream",
          "text": [
            "Model: \"sequential_7\"\n",
            "_________________________________________________________________\n",
            "Layer (type)                 Output Shape              Param #   \n",
            "=================================================================\n",
            "dense_10 (Dense)             (None, 20)                180       \n",
            "_________________________________________________________________\n",
            "dense_11 (Dense)             (None, 10)                210       \n",
            "_________________________________________________________________\n",
            "dense_12 (Dense)             (None, 1)                 11        \n",
            "=================================================================\n",
            "Total params: 401\n",
            "Trainable params: 401\n",
            "Non-trainable params: 0\n",
            "_________________________________________________________________\n"
          ],
          "name": "stdout"
        }
      ]
    },
    {
      "cell_type": "code",
      "metadata": {
        "id": "0PExfICUI7ht"
      },
      "source": [
        "#districts = pd.DataFrame({'district':['staten island','queens', 'brooklyn','manhattan', 'bronx'],'code':[0,1,2,3,4]})\n",
        "#districts \n",
        "#new = pd.merge(training_set,districts,how='left',left_on='district',right_on = 'code')\n",
        "#plt.figure(figsize=(10,6))\n",
        "#sns.scatterplot(new.longitude,airbnb.latitude,hue=airbnb.neighbourhood_group)\n",
        "#plt.ioff()"
      ],
      "execution_count": null,
      "outputs": []
    },
    {
      "cell_type": "code",
      "metadata": {
        "id": "_UNYaCRkTZMq"
      },
      "source": [
        "#fig, ax = plt.subplots(figsize=(7,7))  \n",
        "#sns.heatmap(round(training_set_2.corr(),3),annot=True, cmap=\"YlGnBu\",ax=ax)"
      ],
      "execution_count": null,
      "outputs": []
    },
    {
      "cell_type": "markdown",
      "metadata": {
        "id": "CzBFV1DPRfJ4"
      },
      "source": [
        "## Dataframe standardizzato\n",
        "Standardizzo sia il `training set` che il `test set`\n",
        "\n",
        "Dato gli attributi $(X,Y)$ e le osservazioni $(x,y)$ segue che :\n",
        "\\\n",
        "\\\n",
        "$$\n",
        "x_{standard} = \\frac{x-\\mu_X}{\\sigma_X} \n",
        "$$\n",
        "\\\n",
        "\\\n",
        "$$\n",
        "y_{standard} = \\frac{y-\\mu_Y}{\\sigma_Y} \n",
        "$$\n",
        "\n",
        "Successivamente dal `test set` ottengo la previsione $\\hat{y}$ che dovrà essere opportunemente trasformata \n",
        "\\\n",
        "\\\n",
        "$$\n",
        "\\hat{y} = \\sigma_Y \\ \\hat{y}_{standard} + \\mu_Y\n",
        "$$"
      ]
    },
    {
      "cell_type": "code",
      "metadata": {
        "id": "j9lcfjxVTcJ-",
        "outputId": "623075e3-9a31-41f7-80d9-eb6b93957ad3",
        "colab": {
          "base_uri": "https://localhost:8080/",
          "height": 756
        }
      },
      "source": [
        "#fig, ax = plt.subplots(figsize=(10,10))  \n",
        "#sns.heatmap(round(df_complessivo2.corr(),3),annot=True, cmap=\"YlGnBu\",ax=ax)"
      ],
      "execution_count": 625,
      "outputs": [
        {
          "output_type": "execute_result",
          "data": {
            "text/plain": [
              "<matplotlib.axes._subplots.AxesSubplot at 0x7efcadbb1a58>"
            ]
          },
          "metadata": {
            "tags": []
          },
          "execution_count": 625
        },
        {
          "output_type": "display_data",
          "data": {
            "image/png": "[encoded data removed]",
            "text/plain": [
              "<Figure size 720x720 with 2 Axes>"
            ]
          },
          "metadata": {
            "tags": [],
            "needs_background": "light"
          }
        }
      ]
    },
    {
      "cell_type": "code",
      "metadata": {
        "id": "j2jcnSGcReXp"
      },
      "source": [
        "def standardizzazione(x):\n",
        "  diffmu =  x-numpy.mean(x)\n",
        "  sd = math.sqrt(numpy.var(x))\n",
        "  return diffmu/sd\n",
        "\n",
        "df_complessivo_standard = df_complessivo2.apply(standardizzazione,axis=0)\n"
      ],
      "execution_count": 228,
      "outputs": []
    },
    {
      "cell_type": "code",
      "metadata": {
        "id": "tOqfcjXlkF_o",
        "outputId": "9302dd18-159a-4378-de22-c2df54243b47",
        "colab": {
          "base_uri": "https://localhost:8080/",
          "height": 90
        }
      },
      "source": [
        "df_complessivo2.columns"
      ],
      "execution_count": 643,
      "outputs": [
        {
          "output_type": "execute_result",
          "data": {
            "text/plain": [
              "Index(['district', 'minimum_nights', 'number_of_reviews', 'reviews_per_month',\n",
              "       'calculated_host_listings_count', 'availability_365', 'Private_room',\n",
              "       'Entire_home/apt', 'y'],\n",
              "      dtype='object')"
            ]
          },
          "metadata": {
            "tags": []
          },
          "execution_count": 643
        }
      ]
    },
    {
      "cell_type": "code",
      "metadata": {
        "id": "k7GmTMT9jG5n"
      },
      "source": [
        "df_complessivo_standard[['minimum_nights', 'number_of_reviews', 'reviews_per_month',\n",
        "       'calculated_host_listings_count', 'availability_365', 'Private_room',\n",
        "       'Entire_home/apt', 'y']])"
      ],
      "execution_count": null,
      "outputs": []
    },
    {
      "cell_type": "code",
      "metadata": {
        "id": "DxpTNWyM6ANG",
        "outputId": "8cd57e58-3989-40a9-ceaa-50a1146e214b",
        "colab": {
          "base_uri": "https://localhost:8080/",
          "height": 1000
        }
      },
      "source": [
        "def decay(init_lr,decay_rate,epoch):\n",
        "  return init_lr / (1+decay_rate*epoch)\n",
        "n=50\n",
        "init_lr =.3\n",
        "decay_rate = .015\n",
        "l=[(round(decay(init_lr,decay_rate,i),4))for i in range(0,n+1)]\n",
        "e =[i for i in range(0,n+1)]\n",
        "pd.DataFrame({'learning_rate':l})"
      ],
      "execution_count": 1267,
      "outputs": [
        {
          "output_type": "execute_result",
          "data": {
            "text/html": [
              "<div>\n",
              "<style scoped>\n",
              "    .dataframe tbody tr th:only-of-type {\n",
              "        vertical-align: middle;\n",
              "    }\n",
              "\n",
              "    .dataframe tbody tr th {\n",
              "        vertical-align: top;\n",
              "    }\n",
              "\n",
              "    .dataframe thead th {\n",
              "        text-align: right;\n",
              "    }\n",
              "</style>\n",
              "<table border=\"1\" class=\"dataframe\">\n",
              "  <thead>\n",
              "    <tr style=\"text-align: right;\">\n",
              "      <th></th>\n",
              "      <th>learning_rate</th>\n",
              "    </tr>\n",
              "  </thead>\n",
              "  <tbody>\n",
              "    <tr>\n",
              "      <th>0</th>\n",
              "      <td>0.3000</td>\n",
              "    </tr>\n",
              "    <tr>\n",
              "      <th>1</th>\n",
              "      <td>0.2956</td>\n",
              "    </tr>\n",
              "    <tr>\n",
              "      <th>2</th>\n",
              "      <td>0.2913</td>\n",
              "    </tr>\n",
              "    <tr>\n",
              "      <th>3</th>\n",
              "      <td>0.2871</td>\n",
              "    </tr>\n",
              "    <tr>\n",
              "      <th>4</th>\n",
              "      <td>0.2830</td>\n",
              "    </tr>\n",
              "    <tr>\n",
              "      <th>5</th>\n",
              "      <td>0.2791</td>\n",
              "    </tr>\n",
              "    <tr>\n",
              "      <th>6</th>\n",
              "      <td>0.2752</td>\n",
              "    </tr>\n",
              "    <tr>\n",
              "      <th>7</th>\n",
              "      <td>0.2715</td>\n",
              "    </tr>\n",
              "    <tr>\n",
              "      <th>8</th>\n",
              "      <td>0.2679</td>\n",
              "    </tr>\n",
              "    <tr>\n",
              "      <th>9</th>\n",
              "      <td>0.2643</td>\n",
              "    </tr>\n",
              "    <tr>\n",
              "      <th>10</th>\n",
              "      <td>0.2609</td>\n",
              "    </tr>\n",
              "    <tr>\n",
              "      <th>11</th>\n",
              "      <td>0.2575</td>\n",
              "    </tr>\n",
              "    <tr>\n",
              "      <th>12</th>\n",
              "      <td>0.2542</td>\n",
              "    </tr>\n",
              "    <tr>\n",
              "      <th>13</th>\n",
              "      <td>0.2510</td>\n",
              "    </tr>\n",
              "    <tr>\n",
              "      <th>14</th>\n",
              "      <td>0.2479</td>\n",
              "    </tr>\n",
              "    <tr>\n",
              "      <th>15</th>\n",
              "      <td>0.2449</td>\n",
              "    </tr>\n",
              "    <tr>\n",
              "      <th>16</th>\n",
              "      <td>0.2419</td>\n",
              "    </tr>\n",
              "    <tr>\n",
              "      <th>17</th>\n",
              "      <td>0.2390</td>\n",
              "    </tr>\n",
              "    <tr>\n",
              "      <th>18</th>\n",
              "      <td>0.2362</td>\n",
              "    </tr>\n",
              "    <tr>\n",
              "      <th>19</th>\n",
              "      <td>0.2335</td>\n",
              "    </tr>\n",
              "    <tr>\n",
              "      <th>20</th>\n",
              "      <td>0.2308</td>\n",
              "    </tr>\n",
              "    <tr>\n",
              "      <th>21</th>\n",
              "      <td>0.2281</td>\n",
              "    </tr>\n",
              "    <tr>\n",
              "      <th>22</th>\n",
              "      <td>0.2256</td>\n",
              "    </tr>\n",
              "    <tr>\n",
              "      <th>23</th>\n",
              "      <td>0.2230</td>\n",
              "    </tr>\n",
              "    <tr>\n",
              "      <th>24</th>\n",
              "      <td>0.2206</td>\n",
              "    </tr>\n",
              "    <tr>\n",
              "      <th>25</th>\n",
              "      <td>0.2182</td>\n",
              "    </tr>\n",
              "    <tr>\n",
              "      <th>26</th>\n",
              "      <td>0.2158</td>\n",
              "    </tr>\n",
              "    <tr>\n",
              "      <th>27</th>\n",
              "      <td>0.2135</td>\n",
              "    </tr>\n",
              "    <tr>\n",
              "      <th>28</th>\n",
              "      <td>0.2113</td>\n",
              "    </tr>\n",
              "    <tr>\n",
              "      <th>29</th>\n",
              "      <td>0.2091</td>\n",
              "    </tr>\n",
              "    <tr>\n",
              "      <th>30</th>\n",
              "      <td>0.2069</td>\n",
              "    </tr>\n",
              "    <tr>\n",
              "      <th>31</th>\n",
              "      <td>0.2048</td>\n",
              "    </tr>\n",
              "    <tr>\n",
              "      <th>32</th>\n",
              "      <td>0.2027</td>\n",
              "    </tr>\n",
              "    <tr>\n",
              "      <th>33</th>\n",
              "      <td>0.2007</td>\n",
              "    </tr>\n",
              "    <tr>\n",
              "      <th>34</th>\n",
              "      <td>0.1987</td>\n",
              "    </tr>\n",
              "    <tr>\n",
              "      <th>35</th>\n",
              "      <td>0.1967</td>\n",
              "    </tr>\n",
              "    <tr>\n",
              "      <th>36</th>\n",
              "      <td>0.1948</td>\n",
              "    </tr>\n",
              "    <tr>\n",
              "      <th>37</th>\n",
              "      <td>0.1929</td>\n",
              "    </tr>\n",
              "    <tr>\n",
              "      <th>38</th>\n",
              "      <td>0.1911</td>\n",
              "    </tr>\n",
              "    <tr>\n",
              "      <th>39</th>\n",
              "      <td>0.1893</td>\n",
              "    </tr>\n",
              "    <tr>\n",
              "      <th>40</th>\n",
              "      <td>0.1875</td>\n",
              "    </tr>\n",
              "    <tr>\n",
              "      <th>41</th>\n",
              "      <td>0.1858</td>\n",
              "    </tr>\n",
              "    <tr>\n",
              "      <th>42</th>\n",
              "      <td>0.1840</td>\n",
              "    </tr>\n",
              "    <tr>\n",
              "      <th>43</th>\n",
              "      <td>0.1824</td>\n",
              "    </tr>\n",
              "    <tr>\n",
              "      <th>44</th>\n",
              "      <td>0.1807</td>\n",
              "    </tr>\n",
              "    <tr>\n",
              "      <th>45</th>\n",
              "      <td>0.1791</td>\n",
              "    </tr>\n",
              "    <tr>\n",
              "      <th>46</th>\n",
              "      <td>0.1775</td>\n",
              "    </tr>\n",
              "    <tr>\n",
              "      <th>47</th>\n",
              "      <td>0.1760</td>\n",
              "    </tr>\n",
              "    <tr>\n",
              "      <th>48</th>\n",
              "      <td>0.1744</td>\n",
              "    </tr>\n",
              "    <tr>\n",
              "      <th>49</th>\n",
              "      <td>0.1729</td>\n",
              "    </tr>\n",
              "    <tr>\n",
              "      <th>50</th>\n",
              "      <td>0.1714</td>\n",
              "    </tr>\n",
              "  </tbody>\n",
              "</table>\n",
              "</div>"
            ],
            "text/plain": [
              "    learning_rate\n",
              "0          0.3000\n",
              "1          0.2956\n",
              "2          0.2913\n",
              "3          0.2871\n",
              "4          0.2830\n",
              "5          0.2791\n",
              "6          0.2752\n",
              "7          0.2715\n",
              "8          0.2679\n",
              "9          0.2643\n",
              "10         0.2609\n",
              "11         0.2575\n",
              "12         0.2542\n",
              "13         0.2510\n",
              "14         0.2479\n",
              "15         0.2449\n",
              "16         0.2419\n",
              "17         0.2390\n",
              "18         0.2362\n",
              "19         0.2335\n",
              "20         0.2308\n",
              "21         0.2281\n",
              "22         0.2256\n",
              "23         0.2230\n",
              "24         0.2206\n",
              "25         0.2182\n",
              "26         0.2158\n",
              "27         0.2135\n",
              "28         0.2113\n",
              "29         0.2091\n",
              "30         0.2069\n",
              "31         0.2048\n",
              "32         0.2027\n",
              "33         0.2007\n",
              "34         0.1987\n",
              "35         0.1967\n",
              "36         0.1948\n",
              "37         0.1929\n",
              "38         0.1911\n",
              "39         0.1893\n",
              "40         0.1875\n",
              "41         0.1858\n",
              "42         0.1840\n",
              "43         0.1824\n",
              "44         0.1807\n",
              "45         0.1791\n",
              "46         0.1775\n",
              "47         0.1760\n",
              "48         0.1744\n",
              "49         0.1729\n",
              "50         0.1714"
            ]
          },
          "metadata": {
            "tags": []
          },
          "execution_count": 1267
        }
      ]
    },
    {
      "cell_type": "code",
      "metadata": {
        "id": "nGQ_icnVyFWr",
        "outputId": "3d02ba07-03db-4545-b9a6-eab1180f8184",
        "colab": {
          "base_uri": "https://localhost:8080/",
          "height": 577
        }
      },
      "source": [
        "df_to_split=df_complessivo_standard\n",
        "x_train, x_test, y_train, y_test = train_test_split(df_to_split.iloc[:,:-1], df_to_split.iloc[:,-1], test_size=0.05,random_state = 27102020)\n",
        "\n",
        "epochs=50\n",
        "batch=30\n",
        "init_lr=.3\n",
        "decay_rate = .015\n",
        "leakyRELU = keras.layers.LeakyReLU(alpha=0.01)\n",
        "leakyRELU_out = keras.layers.LeakyReLU(alpha=0.01)\n",
        "upper = 0.5\n",
        "lower = -0.5\n",
        "model = Sequential()\n",
        "bias_initialization_1 = 'zero'#keras.initializers.RandomUniform(minval=-1, maxval=1, seed=None)\n",
        "bias_initialization_2 =  'zero'#keras.initializers.RandomUniform(minval=-1, maxval=1, seed=None)\n",
        "\n",
        "\n",
        "model.add(Dense(units = 8 , \n",
        "                input_dim=8,\n",
        "                activation= leakyRELU,\n",
        "                kernel_initializer = keras.initializers.RandomUniform(minval=lower, maxval=upper, seed=None),\n",
        "                bias_initializer=keras.initializers.RandomUniform(minval=lower, maxval=upper, seed=None)))\n",
        "\n",
        "model.add(Dense(units = 128,\n",
        "                activation=leakyRELU,\n",
        "                kernel_initializer =  keras.initializers.RandomUniform(minval=lower, maxval=upper, seed=None),\n",
        "                bias_initializer=keras.initializers.RandomUniform(minval=lower, maxval=upper, seed=None)))\n",
        "\n",
        "model.add(Dense(units = 64,\n",
        "                activation=leakyRELU,\n",
        "                kernel_initializer =  keras.initializers.RandomUniform(minval=lower, maxval=upper, seed=None),\n",
        "                bias_initializer=keras.initializers.RandomUniform(minval=lower, maxval=upper, seed=None)))\n",
        "\n",
        "model.add(Dense(units = 1,\n",
        "                activation=leakyRELU_out ))\n",
        "\n",
        "\n",
        "\n",
        "opt = keras.optimizers.SGD(learning_rate=init_lr,decay=decay_rate,momentum=0.02,nesterov=True)\n",
        "model.compile(loss='mean_squared_error', optimizer=opt, metrics=[keras.metrics.RootMeanSquaredError()])\n",
        "modello = model.fit(x_train, y_train, epochs=epochs,validation_data=(x_test,y_test),batch_size = batch )"
      ],
      "execution_count": 1279,
      "outputs": [
        {
          "output_type": "stream",
          "text": [
            "Epoch 1/50\n",
            "1073/1073 [==============================] - 1s 1ms/step - loss: nan - root_mean_squared_error: nan - val_loss: nan - val_root_mean_squared_error: nan\n",
            "Epoch 2/50\n",
            "1073/1073 [==============================] - 1s 1ms/step - loss: nan - root_mean_squared_error: nan - val_loss: nan - val_root_mean_squared_error: nan\n",
            "Epoch 3/50\n",
            "1073/1073 [==============================] - 1s 1ms/step - loss: nan - root_mean_squared_error: nan - val_loss: nan - val_root_mean_squared_error: nan\n",
            "Epoch 4/50\n",
            "1073/1073 [==============================] - 1s 1ms/step - loss: nan - root_mean_squared_error: nan - val_loss: nan - val_root_mean_squared_error: nan\n",
            "Epoch 5/50\n",
            "1073/1073 [==============================] - 1s 1ms/step - loss: nan - root_mean_squared_error: nan - val_loss: nan - val_root_mean_squared_error: nan\n",
            "Epoch 6/50\n",
            "1041/1073 [============================>.] - ETA: 0s - loss: nan - root_mean_squared_error: nan"
          ],
          "name": "stdout"
        },
        {
          "output_type": "error",
          "ename": "KeyboardInterrupt",
          "evalue": "ignored",
          "traceback": [
            "\u001b[0;31m---------------------------------------------------------------------------\u001b[0m",
            "\u001b[0;31mKeyboardInterrupt\u001b[0m                         Traceback (most recent call last)",
            "\u001b[0;32m<ipython-input-1279-9a24a0690419>\u001b[0m in \u001b[0;36m<module>\u001b[0;34m()\u001b[0m\n\u001b[1;32m     38\u001b[0m \u001b[0mopt\u001b[0m \u001b[0;34m=\u001b[0m \u001b[0mkeras\u001b[0m\u001b[0;34m.\u001b[0m\u001b[0moptimizers\u001b[0m\u001b[0;34m.\u001b[0m\u001b[0mSGD\u001b[0m\u001b[0;34m(\u001b[0m\u001b[0mlearning_rate\u001b[0m\u001b[0;34m=\u001b[0m\u001b[0minit_lr\u001b[0m\u001b[0;34m,\u001b[0m\u001b[0mdecay\u001b[0m\u001b[0;34m=\u001b[0m\u001b[0mdecay_rate\u001b[0m\u001b[0;34m,\u001b[0m\u001b[0mmomentum\u001b[0m\u001b[0;34m=\u001b[0m\u001b[0;36m0.02\u001b[0m\u001b[0;34m,\u001b[0m\u001b[0mnesterov\u001b[0m\u001b[0;34m=\u001b[0m\u001b[0;32mTrue\u001b[0m\u001b[0;34m)\u001b[0m\u001b[0;34m\u001b[0m\u001b[0;34m\u001b[0m\u001b[0m\n\u001b[1;32m     39\u001b[0m \u001b[0mmodel\u001b[0m\u001b[0;34m.\u001b[0m\u001b[0mcompile\u001b[0m\u001b[0;34m(\u001b[0m\u001b[0mloss\u001b[0m\u001b[0;34m=\u001b[0m\u001b[0;34m'mean_squared_error'\u001b[0m\u001b[0;34m,\u001b[0m \u001b[0moptimizer\u001b[0m\u001b[0;34m=\u001b[0m\u001b[0mopt\u001b[0m\u001b[0;34m,\u001b[0m \u001b[0mmetrics\u001b[0m\u001b[0;34m=\u001b[0m\u001b[0;34m[\u001b[0m\u001b[0mkeras\u001b[0m\u001b[0;34m.\u001b[0m\u001b[0mmetrics\u001b[0m\u001b[0;34m.\u001b[0m\u001b[0mRootMeanSquaredError\u001b[0m\u001b[0;34m(\u001b[0m\u001b[0;34m)\u001b[0m\u001b[0;34m]\u001b[0m\u001b[0;34m)\u001b[0m\u001b[0;34m\u001b[0m\u001b[0;34m\u001b[0m\u001b[0m\n\u001b[0;32m---> 40\u001b[0;31m \u001b[0mmodello\u001b[0m \u001b[0;34m=\u001b[0m \u001b[0mmodel\u001b[0m\u001b[0;34m.\u001b[0m\u001b[0mfit\u001b[0m\u001b[0;34m(\u001b[0m\u001b[0mx_train\u001b[0m\u001b[0;34m,\u001b[0m \u001b[0my_train\u001b[0m\u001b[0;34m,\u001b[0m \u001b[0mepochs\u001b[0m\u001b[0;34m=\u001b[0m\u001b[0mepochs\u001b[0m\u001b[0;34m,\u001b[0m\u001b[0mvalidation_data\u001b[0m\u001b[0;34m=\u001b[0m\u001b[0;34m(\u001b[0m\u001b[0mx_test\u001b[0m\u001b[0;34m,\u001b[0m\u001b[0my_test\u001b[0m\u001b[0;34m)\u001b[0m\u001b[0;34m,\u001b[0m\u001b[0mbatch_size\u001b[0m \u001b[0;34m=\u001b[0m \u001b[0mbatch\u001b[0m \u001b[0;34m)\u001b[0m\u001b[0;34m\u001b[0m\u001b[0;34m\u001b[0m\u001b[0m\n\u001b[0m",
            "\u001b[0;32m/usr/local/lib/python3.6/dist-packages/tensorflow/python/keras/engine/training.py\u001b[0m in \u001b[0;36m_method_wrapper\u001b[0;34m(self, *args, **kwargs)\u001b[0m\n\u001b[1;32m    106\u001b[0m   \u001b[0;32mdef\u001b[0m \u001b[0m_method_wrapper\u001b[0m\u001b[0;34m(\u001b[0m\u001b[0mself\u001b[0m\u001b[0;34m,\u001b[0m \u001b[0;34m*\u001b[0m\u001b[0margs\u001b[0m\u001b[0;34m,\u001b[0m \u001b[0;34m**\u001b[0m\u001b[0mkwargs\u001b[0m\u001b[0;34m)\u001b[0m\u001b[0;34m:\u001b[0m\u001b[0;34m\u001b[0m\u001b[0;34m\u001b[0m\u001b[0m\n\u001b[1;32m    107\u001b[0m     \u001b[0;32mif\u001b[0m \u001b[0;32mnot\u001b[0m \u001b[0mself\u001b[0m\u001b[0;34m.\u001b[0m\u001b[0m_in_multi_worker_mode\u001b[0m\u001b[0;34m(\u001b[0m\u001b[0;34m)\u001b[0m\u001b[0;34m:\u001b[0m  \u001b[0;31m# pylint: disable=protected-access\u001b[0m\u001b[0;34m\u001b[0m\u001b[0;34m\u001b[0m\u001b[0m\n\u001b[0;32m--> 108\u001b[0;31m       \u001b[0;32mreturn\u001b[0m \u001b[0mmethod\u001b[0m\u001b[0;34m(\u001b[0m\u001b[0mself\u001b[0m\u001b[0;34m,\u001b[0m \u001b[0;34m*\u001b[0m\u001b[0margs\u001b[0m\u001b[0;34m,\u001b[0m \u001b[0;34m**\u001b[0m\u001b[0mkwargs\u001b[0m\u001b[0;34m)\u001b[0m\u001b[0;34m\u001b[0m\u001b[0;34m\u001b[0m\u001b[0m\n\u001b[0m\u001b[1;32m    109\u001b[0m \u001b[0;34m\u001b[0m\u001b[0m\n\u001b[1;32m    110\u001b[0m     \u001b[0;31m# Running inside `run_distribute_coordinator` already.\u001b[0m\u001b[0;34m\u001b[0m\u001b[0;34m\u001b[0m\u001b[0;34m\u001b[0m\u001b[0m\n",
            "\u001b[0;32m/usr/local/lib/python3.6/dist-packages/tensorflow/python/keras/engine/training.py\u001b[0m in \u001b[0;36mfit\u001b[0;34m(self, x, y, batch_size, epochs, verbose, callbacks, validation_split, validation_data, shuffle, class_weight, sample_weight, initial_epoch, steps_per_epoch, validation_steps, validation_batch_size, validation_freq, max_queue_size, workers, use_multiprocessing)\u001b[0m\n\u001b[1;32m   1096\u001b[0m                 batch_size=batch_size):\n\u001b[1;32m   1097\u001b[0m               \u001b[0mcallbacks\u001b[0m\u001b[0;34m.\u001b[0m\u001b[0mon_train_batch_begin\u001b[0m\u001b[0;34m(\u001b[0m\u001b[0mstep\u001b[0m\u001b[0;34m)\u001b[0m\u001b[0;34m\u001b[0m\u001b[0;34m\u001b[0m\u001b[0m\n\u001b[0;32m-> 1098\u001b[0;31m               \u001b[0mtmp_logs\u001b[0m \u001b[0;34m=\u001b[0m \u001b[0mtrain_function\u001b[0m\u001b[0;34m(\u001b[0m\u001b[0miterator\u001b[0m\u001b[0;34m)\u001b[0m\u001b[0;34m\u001b[0m\u001b[0;34m\u001b[0m\u001b[0m\n\u001b[0m\u001b[1;32m   1099\u001b[0m               \u001b[0;32mif\u001b[0m \u001b[0mdata_handler\u001b[0m\u001b[0;34m.\u001b[0m\u001b[0mshould_sync\u001b[0m\u001b[0;34m:\u001b[0m\u001b[0;34m\u001b[0m\u001b[0;34m\u001b[0m\u001b[0m\n\u001b[1;32m   1100\u001b[0m                 \u001b[0mcontext\u001b[0m\u001b[0;34m.\u001b[0m\u001b[0masync_wait\u001b[0m\u001b[0;34m(\u001b[0m\u001b[0;34m)\u001b[0m\u001b[0;34m\u001b[0m\u001b[0;34m\u001b[0m\u001b[0m\n",
            "\u001b[0;32m/usr/local/lib/python3.6/dist-packages/tensorflow/python/eager/def_function.py\u001b[0m in \u001b[0;36m__call__\u001b[0;34m(self, *args, **kwds)\u001b[0m\n\u001b[1;32m    778\u001b[0m       \u001b[0;32melse\u001b[0m\u001b[0;34m:\u001b[0m\u001b[0;34m\u001b[0m\u001b[0;34m\u001b[0m\u001b[0m\n\u001b[1;32m    779\u001b[0m         \u001b[0mcompiler\u001b[0m \u001b[0;34m=\u001b[0m \u001b[0;34m\"nonXla\"\u001b[0m\u001b[0;34m\u001b[0m\u001b[0;34m\u001b[0m\u001b[0m\n\u001b[0;32m--> 780\u001b[0;31m         \u001b[0mresult\u001b[0m \u001b[0;34m=\u001b[0m \u001b[0mself\u001b[0m\u001b[0;34m.\u001b[0m\u001b[0m_call\u001b[0m\u001b[0;34m(\u001b[0m\u001b[0;34m*\u001b[0m\u001b[0margs\u001b[0m\u001b[0;34m,\u001b[0m \u001b[0;34m**\u001b[0m\u001b[0mkwds\u001b[0m\u001b[0;34m)\u001b[0m\u001b[0;34m\u001b[0m\u001b[0;34m\u001b[0m\u001b[0m\n\u001b[0m\u001b[1;32m    781\u001b[0m \u001b[0;34m\u001b[0m\u001b[0m\n\u001b[1;32m    782\u001b[0m       \u001b[0mnew_tracing_count\u001b[0m \u001b[0;34m=\u001b[0m \u001b[0mself\u001b[0m\u001b[0;34m.\u001b[0m\u001b[0m_get_tracing_count\u001b[0m\u001b[0;34m(\u001b[0m\u001b[0;34m)\u001b[0m\u001b[0;34m\u001b[0m\u001b[0;34m\u001b[0m\u001b[0m\n",
            "\u001b[0;32m/usr/local/lib/python3.6/dist-packages/tensorflow/python/eager/def_function.py\u001b[0m in \u001b[0;36m_call\u001b[0;34m(self, *args, **kwds)\u001b[0m\n\u001b[1;32m    805\u001b[0m       \u001b[0;31m# In this case we have created variables on the first call, so we run the\u001b[0m\u001b[0;34m\u001b[0m\u001b[0;34m\u001b[0m\u001b[0;34m\u001b[0m\u001b[0m\n\u001b[1;32m    806\u001b[0m       \u001b[0;31m# defunned version which is guaranteed to never create variables.\u001b[0m\u001b[0;34m\u001b[0m\u001b[0;34m\u001b[0m\u001b[0;34m\u001b[0m\u001b[0m\n\u001b[0;32m--> 807\u001b[0;31m       \u001b[0;32mreturn\u001b[0m \u001b[0mself\u001b[0m\u001b[0;34m.\u001b[0m\u001b[0m_stateless_fn\u001b[0m\u001b[0;34m(\u001b[0m\u001b[0;34m*\u001b[0m\u001b[0margs\u001b[0m\u001b[0;34m,\u001b[0m \u001b[0;34m**\u001b[0m\u001b[0mkwds\u001b[0m\u001b[0;34m)\u001b[0m  \u001b[0;31m# pylint: disable=not-callable\u001b[0m\u001b[0;34m\u001b[0m\u001b[0;34m\u001b[0m\u001b[0m\n\u001b[0m\u001b[1;32m    808\u001b[0m     \u001b[0;32melif\u001b[0m \u001b[0mself\u001b[0m\u001b[0;34m.\u001b[0m\u001b[0m_stateful_fn\u001b[0m \u001b[0;32mis\u001b[0m \u001b[0;32mnot\u001b[0m \u001b[0;32mNone\u001b[0m\u001b[0;34m:\u001b[0m\u001b[0;34m\u001b[0m\u001b[0;34m\u001b[0m\u001b[0m\n\u001b[1;32m    809\u001b[0m       \u001b[0;31m# Release the lock early so that multiple threads can perform the call\u001b[0m\u001b[0;34m\u001b[0m\u001b[0;34m\u001b[0m\u001b[0;34m\u001b[0m\u001b[0m\n",
            "\u001b[0;32m/usr/local/lib/python3.6/dist-packages/tensorflow/python/eager/function.py\u001b[0m in \u001b[0;36m__call__\u001b[0;34m(self, *args, **kwargs)\u001b[0m\n\u001b[1;32m   2827\u001b[0m     \u001b[0;32mwith\u001b[0m \u001b[0mself\u001b[0m\u001b[0;34m.\u001b[0m\u001b[0m_lock\u001b[0m\u001b[0;34m:\u001b[0m\u001b[0;34m\u001b[0m\u001b[0;34m\u001b[0m\u001b[0m\n\u001b[1;32m   2828\u001b[0m       \u001b[0mgraph_function\u001b[0m\u001b[0;34m,\u001b[0m \u001b[0margs\u001b[0m\u001b[0;34m,\u001b[0m \u001b[0mkwargs\u001b[0m \u001b[0;34m=\u001b[0m \u001b[0mself\u001b[0m\u001b[0;34m.\u001b[0m\u001b[0m_maybe_define_function\u001b[0m\u001b[0;34m(\u001b[0m\u001b[0margs\u001b[0m\u001b[0;34m,\u001b[0m \u001b[0mkwargs\u001b[0m\u001b[0;34m)\u001b[0m\u001b[0;34m\u001b[0m\u001b[0;34m\u001b[0m\u001b[0m\n\u001b[0;32m-> 2829\u001b[0;31m     \u001b[0;32mreturn\u001b[0m \u001b[0mgraph_function\u001b[0m\u001b[0;34m.\u001b[0m\u001b[0m_filtered_call\u001b[0m\u001b[0;34m(\u001b[0m\u001b[0margs\u001b[0m\u001b[0;34m,\u001b[0m \u001b[0mkwargs\u001b[0m\u001b[0;34m)\u001b[0m  \u001b[0;31m# pylint: disable=protected-access\u001b[0m\u001b[0;34m\u001b[0m\u001b[0;34m\u001b[0m\u001b[0m\n\u001b[0m\u001b[1;32m   2830\u001b[0m \u001b[0;34m\u001b[0m\u001b[0m\n\u001b[1;32m   2831\u001b[0m   \u001b[0;34m@\u001b[0m\u001b[0mproperty\u001b[0m\u001b[0;34m\u001b[0m\u001b[0;34m\u001b[0m\u001b[0m\n",
            "\u001b[0;32m/usr/local/lib/python3.6/dist-packages/tensorflow/python/eager/function.py\u001b[0m in \u001b[0;36m_filtered_call\u001b[0;34m(self, args, kwargs, cancellation_manager)\u001b[0m\n\u001b[1;32m   1846\u001b[0m                            resource_variable_ops.BaseResourceVariable))],\n\u001b[1;32m   1847\u001b[0m         \u001b[0mcaptured_inputs\u001b[0m\u001b[0;34m=\u001b[0m\u001b[0mself\u001b[0m\u001b[0;34m.\u001b[0m\u001b[0mcaptured_inputs\u001b[0m\u001b[0;34m,\u001b[0m\u001b[0;34m\u001b[0m\u001b[0;34m\u001b[0m\u001b[0m\n\u001b[0;32m-> 1848\u001b[0;31m         cancellation_manager=cancellation_manager)\n\u001b[0m\u001b[1;32m   1849\u001b[0m \u001b[0;34m\u001b[0m\u001b[0m\n\u001b[1;32m   1850\u001b[0m   \u001b[0;32mdef\u001b[0m \u001b[0m_call_flat\u001b[0m\u001b[0;34m(\u001b[0m\u001b[0mself\u001b[0m\u001b[0;34m,\u001b[0m \u001b[0margs\u001b[0m\u001b[0;34m,\u001b[0m \u001b[0mcaptured_inputs\u001b[0m\u001b[0;34m,\u001b[0m \u001b[0mcancellation_manager\u001b[0m\u001b[0;34m=\u001b[0m\u001b[0;32mNone\u001b[0m\u001b[0;34m)\u001b[0m\u001b[0;34m:\u001b[0m\u001b[0;34m\u001b[0m\u001b[0;34m\u001b[0m\u001b[0m\n",
            "\u001b[0;32m/usr/local/lib/python3.6/dist-packages/tensorflow/python/eager/function.py\u001b[0m in \u001b[0;36m_call_flat\u001b[0;34m(self, args, captured_inputs, cancellation_manager)\u001b[0m\n\u001b[1;32m   1922\u001b[0m       \u001b[0;31m# No tape is watching; skip to running the function.\u001b[0m\u001b[0;34m\u001b[0m\u001b[0;34m\u001b[0m\u001b[0;34m\u001b[0m\u001b[0m\n\u001b[1;32m   1923\u001b[0m       return self._build_call_outputs(self._inference_function.call(\n\u001b[0;32m-> 1924\u001b[0;31m           ctx, args, cancellation_manager=cancellation_manager))\n\u001b[0m\u001b[1;32m   1925\u001b[0m     forward_backward = self._select_forward_and_backward_functions(\n\u001b[1;32m   1926\u001b[0m         \u001b[0margs\u001b[0m\u001b[0;34m,\u001b[0m\u001b[0;34m\u001b[0m\u001b[0;34m\u001b[0m\u001b[0m\n",
            "\u001b[0;32m/usr/local/lib/python3.6/dist-packages/tensorflow/python/eager/function.py\u001b[0m in \u001b[0;36mcall\u001b[0;34m(self, ctx, args, cancellation_manager)\u001b[0m\n\u001b[1;32m    548\u001b[0m               \u001b[0minputs\u001b[0m\u001b[0;34m=\u001b[0m\u001b[0margs\u001b[0m\u001b[0;34m,\u001b[0m\u001b[0;34m\u001b[0m\u001b[0;34m\u001b[0m\u001b[0m\n\u001b[1;32m    549\u001b[0m               \u001b[0mattrs\u001b[0m\u001b[0;34m=\u001b[0m\u001b[0mattrs\u001b[0m\u001b[0;34m,\u001b[0m\u001b[0;34m\u001b[0m\u001b[0;34m\u001b[0m\u001b[0m\n\u001b[0;32m--> 550\u001b[0;31m               ctx=ctx)\n\u001b[0m\u001b[1;32m    551\u001b[0m         \u001b[0;32melse\u001b[0m\u001b[0;34m:\u001b[0m\u001b[0;34m\u001b[0m\u001b[0;34m\u001b[0m\u001b[0m\n\u001b[1;32m    552\u001b[0m           outputs = execute.execute_with_cancellation(\n",
            "\u001b[0;32m/usr/local/lib/python3.6/dist-packages/tensorflow/python/eager/execute.py\u001b[0m in \u001b[0;36mquick_execute\u001b[0;34m(op_name, num_outputs, inputs, attrs, ctx, name)\u001b[0m\n\u001b[1;32m     58\u001b[0m     \u001b[0mctx\u001b[0m\u001b[0;34m.\u001b[0m\u001b[0mensure_initialized\u001b[0m\u001b[0;34m(\u001b[0m\u001b[0;34m)\u001b[0m\u001b[0;34m\u001b[0m\u001b[0;34m\u001b[0m\u001b[0m\n\u001b[1;32m     59\u001b[0m     tensors = pywrap_tfe.TFE_Py_Execute(ctx._handle, device_name, op_name,\n\u001b[0;32m---> 60\u001b[0;31m                                         inputs, attrs, num_outputs)\n\u001b[0m\u001b[1;32m     61\u001b[0m   \u001b[0;32mexcept\u001b[0m \u001b[0mcore\u001b[0m\u001b[0;34m.\u001b[0m\u001b[0m_NotOkStatusException\u001b[0m \u001b[0;32mas\u001b[0m \u001b[0me\u001b[0m\u001b[0;34m:\u001b[0m\u001b[0;34m\u001b[0m\u001b[0;34m\u001b[0m\u001b[0m\n\u001b[1;32m     62\u001b[0m     \u001b[0;32mif\u001b[0m \u001b[0mname\u001b[0m \u001b[0;32mis\u001b[0m \u001b[0;32mnot\u001b[0m \u001b[0;32mNone\u001b[0m\u001b[0;34m:\u001b[0m\u001b[0;34m\u001b[0m\u001b[0;34m\u001b[0m\u001b[0m\n",
            "\u001b[0;31mKeyboardInterrupt\u001b[0m: "
          ]
        }
      ]
    },
    {
      "cell_type": "code",
      "metadata": {
        "id": "S3hA0OxqXxTs",
        "outputId": "f18cfb87-0861-4356-ef7f-e88a30393fa4",
        "colab": {
          "base_uri": "https://localhost:8080/",
          "height": 198
        }
      },
      "source": [
        "df_complessivo2.head()"
      ],
      "execution_count": 1202,
      "outputs": [
        {
          "output_type": "execute_result",
          "data": {
            "text/html": [
              "<div>\n",
              "<style scoped>\n",
              "    .dataframe tbody tr th:only-of-type {\n",
              "        vertical-align: middle;\n",
              "    }\n",
              "\n",
              "    .dataframe tbody tr th {\n",
              "        vertical-align: top;\n",
              "    }\n",
              "\n",
              "    .dataframe thead th {\n",
              "        text-align: right;\n",
              "    }\n",
              "</style>\n",
              "<table border=\"1\" class=\"dataframe\">\n",
              "  <thead>\n",
              "    <tr style=\"text-align: right;\">\n",
              "      <th></th>\n",
              "      <th>district</th>\n",
              "      <th>minimum_nights</th>\n",
              "      <th>number_of_reviews</th>\n",
              "      <th>reviews_per_month</th>\n",
              "      <th>calculated_host_listings_count</th>\n",
              "      <th>availability_365</th>\n",
              "      <th>Private_room</th>\n",
              "      <th>Entire_home/apt</th>\n",
              "      <th>y</th>\n",
              "    </tr>\n",
              "  </thead>\n",
              "  <tbody>\n",
              "    <tr>\n",
              "      <th>0</th>\n",
              "      <td>2</td>\n",
              "      <td>4</td>\n",
              "      <td>2</td>\n",
              "      <td>0.19</td>\n",
              "      <td>1</td>\n",
              "      <td>0</td>\n",
              "      <td>1</td>\n",
              "      <td>0</td>\n",
              "      <td>65</td>\n",
              "    </tr>\n",
              "    <tr>\n",
              "      <th>1</th>\n",
              "      <td>2</td>\n",
              "      <td>4</td>\n",
              "      <td>17</td>\n",
              "      <td>0.66</td>\n",
              "      <td>2</td>\n",
              "      <td>307</td>\n",
              "      <td>1</td>\n",
              "      <td>0</td>\n",
              "      <td>57</td>\n",
              "    </tr>\n",
              "    <tr>\n",
              "      <th>2</th>\n",
              "      <td>0</td>\n",
              "      <td>3</td>\n",
              "      <td>1</td>\n",
              "      <td>0.04</td>\n",
              "      <td>1</td>\n",
              "      <td>87</td>\n",
              "      <td>0</td>\n",
              "      <td>0</td>\n",
              "      <td>225</td>\n",
              "    </tr>\n",
              "    <tr>\n",
              "      <th>3</th>\n",
              "      <td>3</td>\n",
              "      <td>1</td>\n",
              "      <td>4</td>\n",
              "      <td>0.08</td>\n",
              "      <td>1</td>\n",
              "      <td>0</td>\n",
              "      <td>0</td>\n",
              "      <td>1</td>\n",
              "      <td>175</td>\n",
              "    </tr>\n",
              "    <tr>\n",
              "      <th>4</th>\n",
              "      <td>3</td>\n",
              "      <td>1</td>\n",
              "      <td>0</td>\n",
              "      <td>0.00</td>\n",
              "      <td>1</td>\n",
              "      <td>358</td>\n",
              "      <td>1</td>\n",
              "      <td>0</td>\n",
              "      <td>125</td>\n",
              "    </tr>\n",
              "  </tbody>\n",
              "</table>\n",
              "</div>"
            ],
            "text/plain": [
              "   district  minimum_nights  ...  Entire_home/apt    y\n",
              "0         2               4  ...                0   65\n",
              "1         2               4  ...                0   57\n",
              "2         0               3  ...                0  225\n",
              "3         3               1  ...                1  175\n",
              "4         3               1  ...                0  125\n",
              "\n",
              "[5 rows x 9 columns]"
            ]
          },
          "metadata": {
            "tags": []
          },
          "execution_count": 1202
        }
      ]
    },
    {
      "cell_type": "code",
      "metadata": {
        "id": "6dd-1njUXkIh",
        "outputId": "644b7a04-adbc-4d17-9e01-7e109df67dcb",
        "colab": {
          "base_uri": "https://localhost:8080/",
          "height": 218
        }
      },
      "source": [
        "df_complessivo_standard.head()"
      ],
      "execution_count": 1191,
      "outputs": [
        {
          "output_type": "execute_result",
          "data": {
            "text/html": [
              "<div>\n",
              "<style scoped>\n",
              "    .dataframe tbody tr th:only-of-type {\n",
              "        vertical-align: middle;\n",
              "    }\n",
              "\n",
              "    .dataframe tbody tr th {\n",
              "        vertical-align: top;\n",
              "    }\n",
              "\n",
              "    .dataframe thead th {\n",
              "        text-align: right;\n",
              "    }\n",
              "</style>\n",
              "<table border=\"1\" class=\"dataframe\">\n",
              "  <thead>\n",
              "    <tr style=\"text-align: right;\">\n",
              "      <th></th>\n",
              "      <th>district</th>\n",
              "      <th>minimum_nights</th>\n",
              "      <th>number_of_reviews</th>\n",
              "      <th>reviews_per_month</th>\n",
              "      <th>calculated_host_listings_count</th>\n",
              "      <th>availability_365</th>\n",
              "      <th>Private_room</th>\n",
              "      <th>Entire_home/apt</th>\n",
              "      <th>y</th>\n",
              "    </tr>\n",
              "  </thead>\n",
              "  <tbody>\n",
              "    <tr>\n",
              "      <th>0</th>\n",
              "      <td>-0.456212</td>\n",
              "      <td>-0.153653</td>\n",
              "      <td>-0.479503</td>\n",
              "      <td>-0.562213</td>\n",
              "      <td>-0.186312</td>\n",
              "      <td>-0.858294</td>\n",
              "      <td>1.092072</td>\n",
              "      <td>-1.041232</td>\n",
              "      <td>-0.355823</td>\n",
              "    </tr>\n",
              "    <tr>\n",
              "      <th>1</th>\n",
              "      <td>-0.456212</td>\n",
              "      <td>-0.153653</td>\n",
              "      <td>-0.143243</td>\n",
              "      <td>-0.270353</td>\n",
              "      <td>-0.155778</td>\n",
              "      <td>1.473741</td>\n",
              "      <td>1.092072</td>\n",
              "      <td>-1.041232</td>\n",
              "      <td>-0.387936</td>\n",
              "    </tr>\n",
              "    <tr>\n",
              "      <th>2</th>\n",
              "      <td>-2.921263</td>\n",
              "      <td>-0.203070</td>\n",
              "      <td>-0.501921</td>\n",
              "      <td>-0.655359</td>\n",
              "      <td>-0.186312</td>\n",
              "      <td>-0.197424</td>\n",
              "      <td>-0.915690</td>\n",
              "      <td>-1.041232</td>\n",
              "      <td>0.286445</td>\n",
              "    </tr>\n",
              "    <tr>\n",
              "      <th>3</th>\n",
              "      <td>0.776314</td>\n",
              "      <td>-0.301904</td>\n",
              "      <td>-0.434669</td>\n",
              "      <td>-0.630520</td>\n",
              "      <td>-0.186312</td>\n",
              "      <td>-0.858294</td>\n",
              "      <td>-0.915690</td>\n",
              "      <td>0.960401</td>\n",
              "      <td>0.085736</td>\n",
              "    </tr>\n",
              "    <tr>\n",
              "      <th>4</th>\n",
              "      <td>0.776314</td>\n",
              "      <td>-0.301904</td>\n",
              "      <td>-0.524338</td>\n",
              "      <td>-0.680198</td>\n",
              "      <td>-0.186312</td>\n",
              "      <td>1.861148</td>\n",
              "      <td>1.092072</td>\n",
              "      <td>-1.041232</td>\n",
              "      <td>-0.114973</td>\n",
              "    </tr>\n",
              "  </tbody>\n",
              "</table>\n",
              "</div>"
            ],
            "text/plain": [
              "   district  minimum_nights  ...  Entire_home/apt         y\n",
              "0 -0.456212       -0.153653  ...        -1.041232 -0.355823\n",
              "1 -0.456212       -0.153653  ...        -1.041232 -0.387936\n",
              "2 -2.921263       -0.203070  ...        -1.041232  0.286445\n",
              "3  0.776314       -0.301904  ...         0.960401  0.085736\n",
              "4  0.776314       -0.301904  ...        -1.041232 -0.114973\n",
              "\n",
              "[5 rows x 9 columns]"
            ]
          },
          "metadata": {
            "tags": []
          },
          "execution_count": 1191
        }
      ]
    },
    {
      "cell_type": "code",
      "metadata": {
        "id": "SlyTOsOUXkEh"
      },
      "source": [
        ""
      ],
      "execution_count": null,
      "outputs": []
    },
    {
      "cell_type": "code",
      "metadata": {
        "id": "OaGBJ2pNXj91"
      },
      "source": [
        ""
      ],
      "execution_count": null,
      "outputs": []
    },
    {
      "cell_type": "code",
      "metadata": {
        "id": "3O-pZWEuReUx",
        "outputId": "6b608544-9920-4bdd-d2b0-f385ec3f7ae0",
        "colab": {
          "base_uri": "https://localhost:8080/",
          "height": 299
        }
      },
      "source": [
        "fig = plt.plot(figsize=(5,5))\n",
        "plt.title('Training Plot')\n",
        "plt.plot(modello.history['root_mean_squared_error'],label='training')\n",
        "#plt.plot(modello.history['val_root_mean_squared_error'],label='test')\n",
        "plt.legend()\n",
        "plt.show()\n",
        "print(modello.history['root_mean_squared_error'][-1])"
      ],
      "execution_count": 1269,
      "outputs": [
        {
          "output_type": "display_data",
          "data": {
            "image/png": "[encoded data removed]",
            "text/plain": [
              "<Figure size 432x288 with 1 Axes>"
            ]
          },
          "metadata": {
            "tags": [],
            "needs_background": "light"
          }
        },
        {
          "output_type": "stream",
          "text": [
            "0.9304078817367554\n"
          ],
          "name": "stdout"
        }
      ]
    },
    {
      "cell_type": "code",
      "metadata": {
        "id": "OiECTmdHKj-z",
        "outputId": "11a43c9a-6cd3-4378-f34e-ee463d46efb3",
        "colab": {
          "base_uri": "https://localhost:8080/",
          "height": 299
        }
      },
      "source": [
        "fig = plt.plot(figsize=(5,5))\n",
        "plt.title('Test Plot')\n",
        "#plt.plot(modello.history['root_mean_squared_error'],label='training')\n",
        "plt.plot(modello.history['val_root_mean_squared_error'],label='test',color='orange')\n",
        "plt.legend()\n",
        "plt.show()\n",
        "print(modello.history['val_root_mean_squared_error'][-1])"
      ],
      "execution_count": 1270,
      "outputs": [
        {
          "output_type": "display_data",
          "data": {
            "image/png": "[encoded data removed]",
            "text/plain": [
              "<Figure size 432x288 with 1 Axes>"
            ]
          },
          "metadata": {
            "tags": [],
            "needs_background": "light"
          }
        },
        {
          "output_type": "stream",
          "text": [
            "1.3611809015274048\n"
          ],
          "name": "stdout"
        }
      ]
    },
    {
      "cell_type": "code",
      "metadata": {
        "id": "ughUaCXlrODD",
        "outputId": "13700cb9-1d5b-42b1-cbb8-dcad14a46042",
        "colab": {
          "base_uri": "https://localhost:8080/",
          "height": 425
        }
      },
      "source": [
        "a = model.predict(x_test)\n",
        "a=[i[0] for i in a.tolist()]\n",
        "mediaY= numpy.mean(df_complessivo2.y)\n",
        "stdY = numpy.std(df_complessivo2.y)\n",
        "predicted_scaled = pd.DataFrame(a)\n",
        "actual = pd.DataFrame(y_test)\n",
        "test = pd.DataFrame({'actual_scaled':y_test.to_list(),'predicted_scaled':a})\n",
        "test['predicted']=test['predicted_scaled'].apply(lambda x : (x*stdY)+mediaY)\n",
        "test['actual']=test['actual_scaled'].apply(lambda x : (x*stdY)+mediaY)\n",
        "test['error']=abs(test.predicted-test.actual)\n",
        "print(test.error.mean())\n",
        "test"
      ],
      "execution_count": 1271,
      "outputs": [
        {
          "output_type": "stream",
          "text": [
            "85.81156977642772\n"
          ],
          "name": "stdout"
        },
        {
          "output_type": "execute_result",
          "data": {
            "text/html": [
              "<div>\n",
              "<style scoped>\n",
              "    .dataframe tbody tr th:only-of-type {\n",
              "        vertical-align: middle;\n",
              "    }\n",
              "\n",
              "    .dataframe tbody tr th {\n",
              "        vertical-align: top;\n",
              "    }\n",
              "\n",
              "    .dataframe thead th {\n",
              "        text-align: right;\n",
              "    }\n",
              "</style>\n",
              "<table border=\"1\" class=\"dataframe\">\n",
              "  <thead>\n",
              "    <tr style=\"text-align: right;\">\n",
              "      <th></th>\n",
              "      <th>actual_scaled</th>\n",
              "      <th>predicted_scaled</th>\n",
              "      <th>predicted</th>\n",
              "      <th>actual</th>\n",
              "      <th>error</th>\n",
              "    </tr>\n",
              "  </thead>\n",
              "  <tbody>\n",
              "    <tr>\n",
              "      <th>0</th>\n",
              "      <td>1.386328</td>\n",
              "      <td>-0.222052</td>\n",
              "      <td>98.324765</td>\n",
              "      <td>499.0</td>\n",
              "      <td>400.675235</td>\n",
              "    </tr>\n",
              "    <tr>\n",
              "      <th>1</th>\n",
              "      <td>-0.315681</td>\n",
              "      <td>0.220288</td>\n",
              "      <td>208.519231</td>\n",
              "      <td>75.0</td>\n",
              "      <td>133.519231</td>\n",
              "    </tr>\n",
              "    <tr>\n",
              "      <th>2</th>\n",
              "      <td>-0.311667</td>\n",
              "      <td>-0.408443</td>\n",
              "      <td>51.891447</td>\n",
              "      <td>76.0</td>\n",
              "      <td>24.108553</td>\n",
              "    </tr>\n",
              "    <tr>\n",
              "      <th>3</th>\n",
              "      <td>0.145949</td>\n",
              "      <td>0.530407</td>\n",
              "      <td>285.775130</td>\n",
              "      <td>190.0</td>\n",
              "      <td>95.775130</td>\n",
              "    </tr>\n",
              "    <tr>\n",
              "      <th>4</th>\n",
              "      <td>-0.135043</td>\n",
              "      <td>0.135409</td>\n",
              "      <td>187.374271</td>\n",
              "      <td>120.0</td>\n",
              "      <td>67.374271</td>\n",
              "    </tr>\n",
              "    <tr>\n",
              "      <th>...</th>\n",
              "      <td>...</td>\n",
              "      <td>...</td>\n",
              "      <td>...</td>\n",
              "      <td>...</td>\n",
              "      <td>...</td>\n",
              "    </tr>\n",
              "    <tr>\n",
              "      <th>1689</th>\n",
              "      <td>-0.315681</td>\n",
              "      <td>-0.048493</td>\n",
              "      <td>141.561296</td>\n",
              "      <td>75.0</td>\n",
              "      <td>66.561296</td>\n",
              "    </tr>\n",
              "    <tr>\n",
              "      <th>1690</th>\n",
              "      <td>0.459054</td>\n",
              "      <td>0.505471</td>\n",
              "      <td>279.563182</td>\n",
              "      <td>268.0</td>\n",
              "      <td>11.563182</td>\n",
              "    </tr>\n",
              "    <tr>\n",
              "      <th>1691</th>\n",
              "      <td>1.390343</td>\n",
              "      <td>0.851822</td>\n",
              "      <td>365.845201</td>\n",
              "      <td>500.0</td>\n",
              "      <td>134.154799</td>\n",
              "    </tr>\n",
              "    <tr>\n",
              "      <th>1692</th>\n",
              "      <td>0.166020</td>\n",
              "      <td>0.289152</td>\n",
              "      <td>225.674439</td>\n",
              "      <td>195.0</td>\n",
              "      <td>30.674439</td>\n",
              "    </tr>\n",
              "    <tr>\n",
              "      <th>1693</th>\n",
              "      <td>-0.456177</td>\n",
              "      <td>-0.248812</td>\n",
              "      <td>91.658318</td>\n",
              "      <td>40.0</td>\n",
              "      <td>51.658318</td>\n",
              "    </tr>\n",
              "  </tbody>\n",
              "</table>\n",
              "<p>1694 rows × 5 columns</p>\n",
              "</div>"
            ],
            "text/plain": [
              "      actual_scaled  predicted_scaled   predicted  actual       error\n",
              "0          1.386328         -0.222052   98.324765   499.0  400.675235\n",
              "1         -0.315681          0.220288  208.519231    75.0  133.519231\n",
              "2         -0.311667         -0.408443   51.891447    76.0   24.108553\n",
              "3          0.145949          0.530407  285.775130   190.0   95.775130\n",
              "4         -0.135043          0.135409  187.374271   120.0   67.374271\n",
              "...             ...               ...         ...     ...         ...\n",
              "1689      -0.315681         -0.048493  141.561296    75.0   66.561296\n",
              "1690       0.459054          0.505471  279.563182   268.0   11.563182\n",
              "1691       1.390343          0.851822  365.845201   500.0  134.154799\n",
              "1692       0.166020          0.289152  225.674439   195.0   30.674439\n",
              "1693      -0.456177         -0.248812   91.658318    40.0   51.658318\n",
              "\n",
              "[1694 rows x 5 columns]"
            ]
          },
          "metadata": {
            "tags": []
          },
          "execution_count": 1271
        }
      ]
    },
    {
      "cell_type": "code",
      "metadata": {
        "id": "SV0TgmONdDK4",
        "outputId": "ecd87619-a047-43af-8fe4-e9f6265d1f2c",
        "colab": {
          "base_uri": "https://localhost:8080/",
          "height": 648
        }
      },
      "source": [
        "test.iloc[320:340]"
      ],
      "execution_count": 1272,
      "outputs": [
        {
          "output_type": "execute_result",
          "data": {
            "text/html": [
              "<div>\n",
              "<style scoped>\n",
              "    .dataframe tbody tr th:only-of-type {\n",
              "        vertical-align: middle;\n",
              "    }\n",
              "\n",
              "    .dataframe tbody tr th {\n",
              "        vertical-align: top;\n",
              "    }\n",
              "\n",
              "    .dataframe thead th {\n",
              "        text-align: right;\n",
              "    }\n",
              "</style>\n",
              "<table border=\"1\" class=\"dataframe\">\n",
              "  <thead>\n",
              "    <tr style=\"text-align: right;\">\n",
              "      <th></th>\n",
              "      <th>actual_scaled</th>\n",
              "      <th>predicted_scaled</th>\n",
              "      <th>predicted</th>\n",
              "      <th>actual</th>\n",
              "      <th>error</th>\n",
              "    </tr>\n",
              "  </thead>\n",
              "  <tbody>\n",
              "    <tr>\n",
              "      <th>320</th>\n",
              "      <td>-0.315681</td>\n",
              "      <td>-0.284189</td>\n",
              "      <td>82.845208</td>\n",
              "      <td>75.0</td>\n",
              "      <td>7.845208</td>\n",
              "    </tr>\n",
              "    <tr>\n",
              "      <th>321</th>\n",
              "      <td>1.189634</td>\n",
              "      <td>-0.022615</td>\n",
              "      <td>148.007904</td>\n",
              "      <td>450.0</td>\n",
              "      <td>301.992096</td>\n",
              "    </tr>\n",
              "    <tr>\n",
              "      <th>322</th>\n",
              "      <td>-0.094902</td>\n",
              "      <td>-0.238986</td>\n",
              "      <td>94.106230</td>\n",
              "      <td>130.0</td>\n",
              "      <td>35.893770</td>\n",
              "    </tr>\n",
              "    <tr>\n",
              "      <th>323</th>\n",
              "      <td>-0.395965</td>\n",
              "      <td>-0.239905</td>\n",
              "      <td>93.877073</td>\n",
              "      <td>55.0</td>\n",
              "      <td>38.877073</td>\n",
              "    </tr>\n",
              "    <tr>\n",
              "      <th>324</th>\n",
              "      <td>-0.456177</td>\n",
              "      <td>-0.269266</td>\n",
              "      <td>86.562779</td>\n",
              "      <td>40.0</td>\n",
              "      <td>46.562779</td>\n",
              "    </tr>\n",
              "    <tr>\n",
              "      <th>325</th>\n",
              "      <td>0.944769</td>\n",
              "      <td>-0.009094</td>\n",
              "      <td>151.376087</td>\n",
              "      <td>389.0</td>\n",
              "      <td>237.623913</td>\n",
              "    </tr>\n",
              "    <tr>\n",
              "      <th>326</th>\n",
              "      <td>-0.355823</td>\n",
              "      <td>-0.299699</td>\n",
              "      <td>78.981542</td>\n",
              "      <td>65.0</td>\n",
              "      <td>13.981542</td>\n",
              "    </tr>\n",
              "    <tr>\n",
              "      <th>327</th>\n",
              "      <td>-0.420050</td>\n",
              "      <td>-0.276803</td>\n",
              "      <td>84.685337</td>\n",
              "      <td>49.0</td>\n",
              "      <td>35.685337</td>\n",
              "    </tr>\n",
              "    <tr>\n",
              "      <th>328</th>\n",
              "      <td>-0.219341</td>\n",
              "      <td>-0.248084</td>\n",
              "      <td>91.839752</td>\n",
              "      <td>99.0</td>\n",
              "      <td>7.160248</td>\n",
              "    </tr>\n",
              "    <tr>\n",
              "      <th>329</th>\n",
              "      <td>-0.235398</td>\n",
              "      <td>0.491533</td>\n",
              "      <td>276.091072</td>\n",
              "      <td>95.0</td>\n",
              "      <td>181.091072</td>\n",
              "    </tr>\n",
              "    <tr>\n",
              "      <th>330</th>\n",
              "      <td>-0.436107</td>\n",
              "      <td>-0.284683</td>\n",
              "      <td>82.722218</td>\n",
              "      <td>45.0</td>\n",
              "      <td>37.722218</td>\n",
              "    </tr>\n",
              "    <tr>\n",
              "      <th>331</th>\n",
              "      <td>-0.359837</td>\n",
              "      <td>0.132877</td>\n",
              "      <td>186.743646</td>\n",
              "      <td>64.0</td>\n",
              "      <td>122.743646</td>\n",
              "    </tr>\n",
              "    <tr>\n",
              "      <th>332</th>\n",
              "      <td>-0.014618</td>\n",
              "      <td>0.220288</td>\n",
              "      <td>208.519231</td>\n",
              "      <td>150.0</td>\n",
              "      <td>58.519231</td>\n",
              "    </tr>\n",
              "    <tr>\n",
              "      <th>333</th>\n",
              "      <td>-0.335752</td>\n",
              "      <td>0.179193</td>\n",
              "      <td>198.281779</td>\n",
              "      <td>70.0</td>\n",
              "      <td>128.281779</td>\n",
              "    </tr>\n",
              "    <tr>\n",
              "      <th>334</th>\n",
              "      <td>0.262360</td>\n",
              "      <td>0.145497</td>\n",
              "      <td>189.887569</td>\n",
              "      <td>219.0</td>\n",
              "      <td>29.112431</td>\n",
              "    </tr>\n",
              "    <tr>\n",
              "      <th>335</th>\n",
              "      <td>0.182076</td>\n",
              "      <td>0.335365</td>\n",
              "      <td>237.186910</td>\n",
              "      <td>199.0</td>\n",
              "      <td>38.186910</td>\n",
              "    </tr>\n",
              "    <tr>\n",
              "      <th>336</th>\n",
              "      <td>-0.215327</td>\n",
              "      <td>0.468041</td>\n",
              "      <td>270.238808</td>\n",
              "      <td>100.0</td>\n",
              "      <td>170.238808</td>\n",
              "    </tr>\n",
              "    <tr>\n",
              "      <th>337</th>\n",
              "      <td>-0.375894</td>\n",
              "      <td>-0.272830</td>\n",
              "      <td>85.674925</td>\n",
              "      <td>60.0</td>\n",
              "      <td>25.674925</td>\n",
              "    </tr>\n",
              "    <tr>\n",
              "      <th>338</th>\n",
              "      <td>-0.416036</td>\n",
              "      <td>0.191893</td>\n",
              "      <td>201.445406</td>\n",
              "      <td>50.0</td>\n",
              "      <td>151.445406</td>\n",
              "    </tr>\n",
              "    <tr>\n",
              "      <th>339</th>\n",
              "      <td>0.105807</td>\n",
              "      <td>0.262250</td>\n",
              "      <td>218.972704</td>\n",
              "      <td>180.0</td>\n",
              "      <td>38.972704</td>\n",
              "    </tr>\n",
              "  </tbody>\n",
              "</table>\n",
              "</div>"
            ],
            "text/plain": [
              "     actual_scaled  predicted_scaled   predicted  actual       error\n",
              "320      -0.315681         -0.284189   82.845208    75.0    7.845208\n",
              "321       1.189634         -0.022615  148.007904   450.0  301.992096\n",
              "322      -0.094902         -0.238986   94.106230   130.0   35.893770\n",
              "323      -0.395965         -0.239905   93.877073    55.0   38.877073\n",
              "324      -0.456177         -0.269266   86.562779    40.0   46.562779\n",
              "325       0.944769         -0.009094  151.376087   389.0  237.623913\n",
              "326      -0.355823         -0.299699   78.981542    65.0   13.981542\n",
              "327      -0.420050         -0.276803   84.685337    49.0   35.685337\n",
              "328      -0.219341         -0.248084   91.839752    99.0    7.160248\n",
              "329      -0.235398          0.491533  276.091072    95.0  181.091072\n",
              "330      -0.436107         -0.284683   82.722218    45.0   37.722218\n",
              "331      -0.359837          0.132877  186.743646    64.0  122.743646\n",
              "332      -0.014618          0.220288  208.519231   150.0   58.519231\n",
              "333      -0.335752          0.179193  198.281779    70.0  128.281779\n",
              "334       0.262360          0.145497  189.887569   219.0   29.112431\n",
              "335       0.182076          0.335365  237.186910   199.0   38.186910\n",
              "336      -0.215327          0.468041  270.238808   100.0  170.238808\n",
              "337      -0.375894         -0.272830   85.674925    60.0   25.674925\n",
              "338      -0.416036          0.191893  201.445406    50.0  151.445406\n",
              "339       0.105807          0.262250  218.972704   180.0   38.972704"
            ]
          },
          "metadata": {
            "tags": []
          },
          "execution_count": 1272
        }
      ]
    },
    {
      "cell_type": "code",
      "metadata": {
        "id": "3x04fH5tWRqe"
      },
      "source": [
        "model.weights()"
      ],
      "execution_count": null,
      "outputs": []
    },
    {
      "cell_type": "code",
      "metadata": {
        "id": "_RJ5X41GReom",
        "outputId": "b8c9d365-ec3a-486f-e9a3-e4ac7a91f202",
        "colab": {
          "base_uri": "https://localhost:8080/",
          "height": 272
        }
      },
      "source": [
        "model.summary()"
      ],
      "execution_count": 950,
      "outputs": [
        {
          "output_type": "stream",
          "text": [
            "Model: \"sequential_223\"\n",
            "_________________________________________________________________\n",
            "Layer (type)                 Output Shape              Param #   \n",
            "=================================================================\n",
            "dense_699 (Dense)            (None, 8)                 72        \n",
            "_________________________________________________________________\n",
            "dense_700 (Dense)            (None, 64)                576       \n",
            "_________________________________________________________________\n",
            "dense_701 (Dense)            (None, 1)                 65        \n",
            "=================================================================\n",
            "Total params: 713\n",
            "Trainable params: 713\n",
            "Non-trainable params: 0\n",
            "_________________________________________________________________\n"
          ],
          "name": "stdout"
        }
      ]
    }
  ]
}