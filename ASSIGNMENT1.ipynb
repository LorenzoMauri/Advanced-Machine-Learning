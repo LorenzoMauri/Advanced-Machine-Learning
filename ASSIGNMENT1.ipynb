{
  "nbformat": 4,
  "nbformat_minor": 0,
  "metadata": {
    "colab": {
      "name": "ASSIGNMENT1.ipynb",
      "provenance": [],
      "collapsed_sections": [],
      "mount_file_id": "1OVH3rfFvHaRjpIPPqVQiNZWTeuiPvLPb",
      "authorship_tag": "ABX9TyOwcjDAIe/jW8up3ZwkFirJ"
    },
    "kernelspec": {
      "name": "python3",
      "display_name": "Python 3"
    }
  },
  "cells": [
    {
      "cell_type": "markdown",
      "metadata": {
        "id": "SXWcAORceq8r"
      },
      "source": [
        "#**Assignment 1**"
      ]
    },
    {
      "cell_type": "markdown",
      "metadata": {
        "id": "HDYg7lOmemmt"
      },
      "source": [
        "## Import libraries \n",
        "\n"
      ]
    },
    {
      "cell_type": "code",
      "metadata": {
        "id": "ySKvALBjSUJs"
      },
      "source": [
        "import os \n",
        "import pandas as pd\n",
        "import seaborn as sns\n",
        "import matplotlib.pyplot as plt\n",
        "import geopandas\n",
        "import math\n",
        "import numpy\n",
        "import shapely\n",
        "import geopy.distance\n",
        "from shapely.geometry import Point,Polygon"
      ],
      "execution_count": null,
      "outputs": []
    },
    {
      "cell_type": "markdown",
      "metadata": {
        "id": "xXhDsDmdee5M"
      },
      "source": [
        "## Import data from Google Drive\n"
      ]
    },
    {
      "cell_type": "code",
      "metadata": {
        "id": "swKy8epCRGQu"
      },
      "source": [
        "os.chdir('/content/drive/My Drive/Advanced Machine Learning /assignment1/data')\n",
        "x_train=pd.read_csv('X_train.csv').iloc[:, 1:]\n",
        "y_train=pd.read_csv('y_train.csv').iloc[:, 1:]\n",
        "x_test=pd.read_csv('X_test.csv').iloc[:, 1:]\n",
        "\n",
        "training_set = x_train.copy()\n",
        "training_set['price']=y_train\n",
        "\n",
        "test_set = x_test.copy()\n",
        "\n"
      ],
      "execution_count": null,
      "outputs": []
    },
    {
      "cell_type": "markdown",
      "metadata": {
        "id": "nn8JM1oK26A-"
      },
      "source": [
        "## Exploratory analysis"
      ]
    },
    {
      "cell_type": "code",
      "metadata": {
        "id": "asyMT16QTQFy",
        "outputId": "82b60769-a21c-4c95-9dad-f5585e0410ef",
        "colab": {
          "base_uri": "https://localhost:8080/",
          "height": 236
        }
      },
      "source": [
        "print(training_set.shape)\n",
        "training_set.head()"
      ],
      "execution_count": null,
      "outputs": [
        {
          "output_type": "stream",
          "text": [
            "(33884, 10)\n"
          ],
          "name": "stdout"
        },
        {
          "output_type": "execute_result",
          "data": {
            "text/html": [
              "<div>\n",
              "<style scoped>\n",
              "    .dataframe tbody tr th:only-of-type {\n",
              "        vertical-align: middle;\n",
              "    }\n",
              "\n",
              "    .dataframe tbody tr th {\n",
              "        vertical-align: top;\n",
              "    }\n",
              "\n",
              "    .dataframe thead th {\n",
              "        text-align: right;\n",
              "    }\n",
              "</style>\n",
              "<table border=\"1\" class=\"dataframe\">\n",
              "  <thead>\n",
              "    <tr style=\"text-align: right;\">\n",
              "      <th></th>\n",
              "      <th>latitude</th>\n",
              "      <th>longitude</th>\n",
              "      <th>minimum_nights</th>\n",
              "      <th>number_of_reviews</th>\n",
              "      <th>reviews_per_month</th>\n",
              "      <th>calculated_host_listings_count</th>\n",
              "      <th>availability_365</th>\n",
              "      <th>Private_room</th>\n",
              "      <th>Entire_home/apt</th>\n",
              "      <th>price</th>\n",
              "    </tr>\n",
              "  </thead>\n",
              "  <tbody>\n",
              "    <tr>\n",
              "      <th>0</th>\n",
              "      <td>40.71239</td>\n",
              "      <td>-73.95271</td>\n",
              "      <td>4</td>\n",
              "      <td>2</td>\n",
              "      <td>0.19</td>\n",
              "      <td>1</td>\n",
              "      <td>0</td>\n",
              "      <td>1</td>\n",
              "      <td>0</td>\n",
              "      <td>65</td>\n",
              "    </tr>\n",
              "    <tr>\n",
              "      <th>1</th>\n",
              "      <td>40696.00000</td>\n",
              "      <td>-73.91303</td>\n",
              "      <td>4</td>\n",
              "      <td>17</td>\n",
              "      <td>0.66</td>\n",
              "      <td>2</td>\n",
              "      <td>307</td>\n",
              "      <td>1</td>\n",
              "      <td>0</td>\n",
              "      <td>57</td>\n",
              "    </tr>\n",
              "    <tr>\n",
              "      <th>2</th>\n",
              "      <td>40.62707</td>\n",
              "      <td>-74.02817</td>\n",
              "      <td>3</td>\n",
              "      <td>1</td>\n",
              "      <td>0.04</td>\n",
              "      <td>1</td>\n",
              "      <td>87</td>\n",
              "      <td>0</td>\n",
              "      <td>0</td>\n",
              "      <td>225</td>\n",
              "    </tr>\n",
              "    <tr>\n",
              "      <th>3</th>\n",
              "      <td>40.77910</td>\n",
              "      <td>-73.98565</td>\n",
              "      <td>1</td>\n",
              "      <td>4</td>\n",
              "      <td>0.08</td>\n",
              "      <td>1</td>\n",
              "      <td>0</td>\n",
              "      <td>0</td>\n",
              "      <td>1</td>\n",
              "      <td>175</td>\n",
              "    </tr>\n",
              "    <tr>\n",
              "      <th>4</th>\n",
              "      <td>40.75777</td>\n",
              "      <td>-73.93509</td>\n",
              "      <td>1</td>\n",
              "      <td>0</td>\n",
              "      <td>0.00</td>\n",
              "      <td>1</td>\n",
              "      <td>358</td>\n",
              "      <td>1</td>\n",
              "      <td>0</td>\n",
              "      <td>125</td>\n",
              "    </tr>\n",
              "  </tbody>\n",
              "</table>\n",
              "</div>"
            ],
            "text/plain": [
              "      latitude  longitude  minimum_nights  ...  Private_room  Entire_home/apt  price\n",
              "0     40.71239  -73.95271               4  ...             1                0     65\n",
              "1  40696.00000  -73.91303               4  ...             1                0     57\n",
              "2     40.62707  -74.02817               3  ...             0                0    225\n",
              "3     40.77910  -73.98565               1  ...             0                1    175\n",
              "4     40.75777  -73.93509               1  ...             1                0    125\n",
              "\n",
              "[5 rows x 10 columns]"
            ]
          },
          "metadata": {
            "tags": []
          },
          "execution_count": 282
        }
      ]
    },
    {
      "cell_type": "code",
      "metadata": {
        "id": "o4YLgt3H0Kpq",
        "outputId": "c3e7b577-96f6-406b-cd7b-1bc176bd33e6",
        "colab": {
          "base_uri": "https://localhost:8080/",
          "height": 236
        }
      },
      "source": [
        "print(test_set.shape)\n",
        "test_set.head()"
      ],
      "execution_count": null,
      "outputs": [
        {
          "output_type": "stream",
          "text": [
            "(3765, 9)\n"
          ],
          "name": "stdout"
        },
        {
          "output_type": "execute_result",
          "data": {
            "text/html": [
              "<div>\n",
              "<style scoped>\n",
              "    .dataframe tbody tr th:only-of-type {\n",
              "        vertical-align: middle;\n",
              "    }\n",
              "\n",
              "    .dataframe tbody tr th {\n",
              "        vertical-align: top;\n",
              "    }\n",
              "\n",
              "    .dataframe thead th {\n",
              "        text-align: right;\n",
              "    }\n",
              "</style>\n",
              "<table border=\"1\" class=\"dataframe\">\n",
              "  <thead>\n",
              "    <tr style=\"text-align: right;\">\n",
              "      <th></th>\n",
              "      <th>latitude</th>\n",
              "      <th>longitude</th>\n",
              "      <th>minimum_nights</th>\n",
              "      <th>number_of_reviews</th>\n",
              "      <th>reviews_per_month</th>\n",
              "      <th>calculated_host_listings_count</th>\n",
              "      <th>availability_365</th>\n",
              "      <th>Private_room</th>\n",
              "      <th>Entire_home/apt</th>\n",
              "    </tr>\n",
              "  </thead>\n",
              "  <tbody>\n",
              "    <tr>\n",
              "      <th>0</th>\n",
              "      <td>40.68579</td>\n",
              "      <td>-73.97455</td>\n",
              "      <td>2</td>\n",
              "      <td>4</td>\n",
              "      <td>0.17</td>\n",
              "      <td>1</td>\n",
              "      <td>0</td>\n",
              "      <td>0</td>\n",
              "      <td>1</td>\n",
              "    </tr>\n",
              "    <tr>\n",
              "      <th>1</th>\n",
              "      <td>40.67085</td>\n",
              "      <td>-73.92316</td>\n",
              "      <td>1</td>\n",
              "      <td>9</td>\n",
              "      <td>0.61</td>\n",
              "      <td>1</td>\n",
              "      <td>0</td>\n",
              "      <td>1</td>\n",
              "      <td>0</td>\n",
              "    </tr>\n",
              "    <tr>\n",
              "      <th>2</th>\n",
              "      <td>40.68817</td>\n",
              "      <td>-73.91523</td>\n",
              "      <td>2</td>\n",
              "      <td>31</td>\n",
              "      <td>1.35</td>\n",
              "      <td>5</td>\n",
              "      <td>0</td>\n",
              "      <td>1</td>\n",
              "      <td>0</td>\n",
              "    </tr>\n",
              "    <tr>\n",
              "      <th>3</th>\n",
              "      <td>40.67201</td>\n",
              "      <td>-73.86944</td>\n",
              "      <td>3</td>\n",
              "      <td>0</td>\n",
              "      <td>0.00</td>\n",
              "      <td>2</td>\n",
              "      <td>363</td>\n",
              "      <td>1</td>\n",
              "      <td>0</td>\n",
              "    </tr>\n",
              "    <tr>\n",
              "      <th>4</th>\n",
              "      <td>40.68696</td>\n",
              "      <td>-73.92905</td>\n",
              "      <td>1</td>\n",
              "      <td>7</td>\n",
              "      <td>0.19</td>\n",
              "      <td>1</td>\n",
              "      <td>0</td>\n",
              "      <td>1</td>\n",
              "      <td>0</td>\n",
              "    </tr>\n",
              "  </tbody>\n",
              "</table>\n",
              "</div>"
            ],
            "text/plain": [
              "   latitude  longitude  ...  Private_room  Entire_home/apt\n",
              "0  40.68579  -73.97455  ...             0                1\n",
              "1  40.67085  -73.92316  ...             1                0\n",
              "2  40.68817  -73.91523  ...             1                0\n",
              "3  40.67201  -73.86944  ...             1                0\n",
              "4  40.68696  -73.92905  ...             1                0\n",
              "\n",
              "[5 rows x 9 columns]"
            ]
          },
          "metadata": {
            "tags": []
          },
          "execution_count": 283
        }
      ]
    },
    {
      "cell_type": "code",
      "metadata": {
        "id": "sg8RwVdrz2zl",
        "outputId": "5944146c-46f4-4c8d-ee98-a08a11edff26",
        "colab": {
          "base_uri": "https://localhost:8080/",
          "height": 427
        }
      },
      "source": [
        "training_set"
      ],
      "execution_count": null,
      "outputs": [
        {
          "output_type": "execute_result",
          "data": {
            "text/html": [
              "<div>\n",
              "<style scoped>\n",
              "    .dataframe tbody tr th:only-of-type {\n",
              "        vertical-align: middle;\n",
              "    }\n",
              "\n",
              "    .dataframe tbody tr th {\n",
              "        vertical-align: top;\n",
              "    }\n",
              "\n",
              "    .dataframe thead th {\n",
              "        text-align: right;\n",
              "    }\n",
              "</style>\n",
              "<table border=\"1\" class=\"dataframe\">\n",
              "  <thead>\n",
              "    <tr style=\"text-align: right;\">\n",
              "      <th></th>\n",
              "      <th>latitude</th>\n",
              "      <th>longitude</th>\n",
              "      <th>minimum_nights</th>\n",
              "      <th>number_of_reviews</th>\n",
              "      <th>reviews_per_month</th>\n",
              "      <th>calculated_host_listings_count</th>\n",
              "      <th>availability_365</th>\n",
              "      <th>Private_room</th>\n",
              "      <th>Entire_home/apt</th>\n",
              "      <th>price</th>\n",
              "    </tr>\n",
              "  </thead>\n",
              "  <tbody>\n",
              "    <tr>\n",
              "      <th>0</th>\n",
              "      <td>40.71239</td>\n",
              "      <td>-73.95271</td>\n",
              "      <td>4</td>\n",
              "      <td>2</td>\n",
              "      <td>0.19</td>\n",
              "      <td>1</td>\n",
              "      <td>0</td>\n",
              "      <td>1</td>\n",
              "      <td>0</td>\n",
              "      <td>65</td>\n",
              "    </tr>\n",
              "    <tr>\n",
              "      <th>1</th>\n",
              "      <td>40696.00000</td>\n",
              "      <td>-73.91303</td>\n",
              "      <td>4</td>\n",
              "      <td>17</td>\n",
              "      <td>0.66</td>\n",
              "      <td>2</td>\n",
              "      <td>307</td>\n",
              "      <td>1</td>\n",
              "      <td>0</td>\n",
              "      <td>57</td>\n",
              "    </tr>\n",
              "    <tr>\n",
              "      <th>2</th>\n",
              "      <td>40.62707</td>\n",
              "      <td>-74.02817</td>\n",
              "      <td>3</td>\n",
              "      <td>1</td>\n",
              "      <td>0.04</td>\n",
              "      <td>1</td>\n",
              "      <td>87</td>\n",
              "      <td>0</td>\n",
              "      <td>0</td>\n",
              "      <td>225</td>\n",
              "    </tr>\n",
              "    <tr>\n",
              "      <th>3</th>\n",
              "      <td>40.77910</td>\n",
              "      <td>-73.98565</td>\n",
              "      <td>1</td>\n",
              "      <td>4</td>\n",
              "      <td>0.08</td>\n",
              "      <td>1</td>\n",
              "      <td>0</td>\n",
              "      <td>0</td>\n",
              "      <td>1</td>\n",
              "      <td>175</td>\n",
              "    </tr>\n",
              "    <tr>\n",
              "      <th>4</th>\n",
              "      <td>40.75777</td>\n",
              "      <td>-73.93509</td>\n",
              "      <td>1</td>\n",
              "      <td>0</td>\n",
              "      <td>0.00</td>\n",
              "      <td>1</td>\n",
              "      <td>358</td>\n",
              "      <td>1</td>\n",
              "      <td>0</td>\n",
              "      <td>125</td>\n",
              "    </tr>\n",
              "    <tr>\n",
              "      <th>...</th>\n",
              "      <td>...</td>\n",
              "      <td>...</td>\n",
              "      <td>...</td>\n",
              "      <td>...</td>\n",
              "      <td>...</td>\n",
              "      <td>...</td>\n",
              "      <td>...</td>\n",
              "      <td>...</td>\n",
              "      <td>...</td>\n",
              "      <td>...</td>\n",
              "    </tr>\n",
              "    <tr>\n",
              "      <th>33879</th>\n",
              "      <td>40.71187</td>\n",
              "      <td>-73.95864</td>\n",
              "      <td>1</td>\n",
              "      <td>0</td>\n",
              "      <td>0.00</td>\n",
              "      <td>2</td>\n",
              "      <td>0</td>\n",
              "      <td>1</td>\n",
              "      <td>0</td>\n",
              "      <td>150</td>\n",
              "    </tr>\n",
              "    <tr>\n",
              "      <th>33880</th>\n",
              "      <td>40.74123</td>\n",
              "      <td>-73.90152</td>\n",
              "      <td>30</td>\n",
              "      <td>0</td>\n",
              "      <td>0.00</td>\n",
              "      <td>103</td>\n",
              "      <td>247</td>\n",
              "      <td>1</td>\n",
              "      <td>0</td>\n",
              "      <td>59</td>\n",
              "    </tr>\n",
              "    <tr>\n",
              "      <th>33881</th>\n",
              "      <td>40.73375</td>\n",
              "      <td>-73.95570</td>\n",
              "      <td>2</td>\n",
              "      <td>3</td>\n",
              "      <td>0.23</td>\n",
              "      <td>1</td>\n",
              "      <td>0</td>\n",
              "      <td>1</td>\n",
              "      <td>0</td>\n",
              "      <td>60</td>\n",
              "    </tr>\n",
              "    <tr>\n",
              "      <th>33882</th>\n",
              "      <td>40.73660</td>\n",
              "      <td>-73.92358</td>\n",
              "      <td>30</td>\n",
              "      <td>1</td>\n",
              "      <td>0.19</td>\n",
              "      <td>103</td>\n",
              "      <td>252</td>\n",
              "      <td>1</td>\n",
              "      <td>0</td>\n",
              "      <td>39</td>\n",
              "    </tr>\n",
              "    <tr>\n",
              "      <th>33883</th>\n",
              "      <td>40.67191</td>\n",
              "      <td>-73.95265</td>\n",
              "      <td>5</td>\n",
              "      <td>1</td>\n",
              "      <td>0.02</td>\n",
              "      <td>1</td>\n",
              "      <td>0</td>\n",
              "      <td>0</td>\n",
              "      <td>1</td>\n",
              "      <td>115</td>\n",
              "    </tr>\n",
              "  </tbody>\n",
              "</table>\n",
              "<p>33884 rows × 10 columns</p>\n",
              "</div>"
            ],
            "text/plain": [
              "          latitude  longitude  ...  Entire_home/apt  price\n",
              "0         40.71239  -73.95271  ...                0     65\n",
              "1      40696.00000  -73.91303  ...                0     57\n",
              "2         40.62707  -74.02817  ...                0    225\n",
              "3         40.77910  -73.98565  ...                1    175\n",
              "4         40.75777  -73.93509  ...                0    125\n",
              "...            ...        ...  ...              ...    ...\n",
              "33879     40.71187  -73.95864  ...                0    150\n",
              "33880     40.74123  -73.90152  ...                0     59\n",
              "33881     40.73375  -73.95570  ...                0     60\n",
              "33882     40.73660  -73.92358  ...                0     39\n",
              "33883     40.67191  -73.95265  ...                1    115\n",
              "\n",
              "[33884 rows x 10 columns]"
            ]
          },
          "metadata": {
            "tags": []
          },
          "execution_count": 284
        }
      ]
    },
    {
      "cell_type": "markdown",
      "metadata": {
        "id": "LPW0-xGh2jo4"
      },
      "source": [
        "* checking columns types "
      ]
    },
    {
      "cell_type": "code",
      "metadata": {
        "id": "XSJY1LHZcTNO",
        "outputId": "54a63fd6-81de-4e67-9dbb-29157b603d6f",
        "colab": {
          "base_uri": "https://localhost:8080/",
          "height": 217
        }
      },
      "source": [
        "training_set.dtype"
      ],
      "execution_count": null,
      "outputs": [
        {
          "output_type": "execute_result",
          "data": {
            "text/plain": [
              "latitude                          float64\n",
              "longitude                         float64\n",
              "minimum_nights                      int64\n",
              "number_of_reviews                   int64\n",
              "reviews_per_month                 float64\n",
              "calculated_host_listings_count      int64\n",
              "availability_365                    int64\n",
              "Private_room                        int64\n",
              "Entire_home/apt                     int64\n",
              "price                               int64\n",
              "dtype: object"
            ]
          },
          "metadata": {
            "tags": []
          },
          "execution_count": 285
        }
      ]
    },
    {
      "cell_type": "code",
      "metadata": {
        "id": "7UoYuCfNeUKB",
        "outputId": "8a663247-fb22-4d6d-eb19-36cd66ea12f7",
        "colab": {
          "base_uri": "https://localhost:8080/",
          "height": 199
        }
      },
      "source": [
        "test_set.dtypes"
      ],
      "execution_count": null,
      "outputs": [
        {
          "output_type": "execute_result",
          "data": {
            "text/plain": [
              "latitude                          float64\n",
              "longitude                         float64\n",
              "minimum_nights                      int64\n",
              "number_of_reviews                   int64\n",
              "reviews_per_month                 float64\n",
              "calculated_host_listings_count      int64\n",
              "availability_365                    int64\n",
              "Private_room                        int64\n",
              "Entire_home/apt                     int64\n",
              "dtype: object"
            ]
          },
          "metadata": {
            "tags": []
          },
          "execution_count": 286
        }
      ]
    },
    {
      "cell_type": "markdown",
      "metadata": {
        "id": "8SG0x_6N2frP"
      },
      "source": [
        "* checking missing values "
      ]
    },
    {
      "cell_type": "code",
      "metadata": {
        "id": "8wxcujyw2dot",
        "outputId": "5a718215-fcb5-4a1e-a970-e5c3a8ff6d77",
        "colab": {
          "base_uri": "https://localhost:8080/",
          "height": 217
        }
      },
      "source": [
        "training_set.isnull().sum()"
      ],
      "execution_count": null,
      "outputs": [
        {
          "output_type": "execute_result",
          "data": {
            "text/plain": [
              "latitude                          0\n",
              "longitude                         0\n",
              "minimum_nights                    0\n",
              "number_of_reviews                 0\n",
              "reviews_per_month                 0\n",
              "calculated_host_listings_count    0\n",
              "availability_365                  0\n",
              "Private_room                      0\n",
              "Entire_home/apt                   0\n",
              "price                             0\n",
              "dtype: int64"
            ]
          },
          "metadata": {
            "tags": []
          },
          "execution_count": 287
        }
      ]
    },
    {
      "cell_type": "code",
      "metadata": {
        "id": "BErRYnrXeVT8",
        "outputId": "d2acde6d-e70a-4567-d992-92e92c15a3f9",
        "colab": {
          "base_uri": "https://localhost:8080/",
          "height": 199
        }
      },
      "source": [
        "test_set.isnull().sum()"
      ],
      "execution_count": null,
      "outputs": [
        {
          "output_type": "execute_result",
          "data": {
            "text/plain": [
              "latitude                          0\n",
              "longitude                         0\n",
              "minimum_nights                    0\n",
              "number_of_reviews                 0\n",
              "reviews_per_month                 0\n",
              "calculated_host_listings_count    0\n",
              "availability_365                  0\n",
              "Private_room                      0\n",
              "Entire_home/apt                   0\n",
              "dtype: int64"
            ]
          },
          "metadata": {
            "tags": []
          },
          "execution_count": 288
        }
      ]
    },
    {
      "cell_type": "code",
      "metadata": {
        "id": "Rnz6Hr2zDcTq",
        "outputId": "eeb144dd-22ce-4143-f055-399c29d111e1",
        "colab": {
          "base_uri": "https://localhost:8080/",
          "height": 308
        }
      },
      "source": [
        "training_set.describe()"
      ],
      "execution_count": null,
      "outputs": [
        {
          "output_type": "execute_result",
          "data": {
            "text/html": [
              "<div>\n",
              "<style scoped>\n",
              "    .dataframe tbody tr th:only-of-type {\n",
              "        vertical-align: middle;\n",
              "    }\n",
              "\n",
              "    .dataframe tbody tr th {\n",
              "        vertical-align: top;\n",
              "    }\n",
              "\n",
              "    .dataframe thead th {\n",
              "        text-align: right;\n",
              "    }\n",
              "</style>\n",
              "<table border=\"1\" class=\"dataframe\">\n",
              "  <thead>\n",
              "    <tr style=\"text-align: right;\">\n",
              "      <th></th>\n",
              "      <th>latitude</th>\n",
              "      <th>longitude</th>\n",
              "      <th>minimum_nights</th>\n",
              "      <th>number_of_reviews</th>\n",
              "      <th>reviews_per_month</th>\n",
              "      <th>calculated_host_listings_count</th>\n",
              "      <th>availability_365</th>\n",
              "      <th>Private_room</th>\n",
              "      <th>Entire_home/apt</th>\n",
              "      <th>price</th>\n",
              "    </tr>\n",
              "  </thead>\n",
              "  <tbody>\n",
              "    <tr>\n",
              "      <th>count</th>\n",
              "      <td>33884.000000</td>\n",
              "      <td>33884.000000</td>\n",
              "      <td>33884.000000</td>\n",
              "      <td>33884.000000</td>\n",
              "      <td>33884.000000</td>\n",
              "      <td>33884.000000</td>\n",
              "      <td>33884.000000</td>\n",
              "      <td>33884.000000</td>\n",
              "      <td>33884.000000</td>\n",
              "      <td>33884.000000</td>\n",
              "    </tr>\n",
              "    <tr>\n",
              "      <th>mean</th>\n",
              "      <td>393.742123</td>\n",
              "      <td>-767.324528</td>\n",
              "      <td>7.109904</td>\n",
              "      <td>23.391778</td>\n",
              "      <td>1.095455</td>\n",
              "      <td>7.101080</td>\n",
              "      <td>112.995839</td>\n",
              "      <td>0.456085</td>\n",
              "      <td>0.520127</td>\n",
              "      <td>153.605389</td>\n",
              "    </tr>\n",
              "    <tr>\n",
              "      <th>std</th>\n",
              "      <td>3773.366411</td>\n",
              "      <td>7123.758128</td>\n",
              "      <td>20.234836</td>\n",
              "      <td>44.608022</td>\n",
              "      <td>1.610452</td>\n",
              "      <td>32.746915</td>\n",
              "      <td>131.641035</td>\n",
              "      <td>0.498075</td>\n",
              "      <td>0.499602</td>\n",
              "      <td>249.102710</td>\n",
              "    </tr>\n",
              "    <tr>\n",
              "      <th>min</th>\n",
              "      <td>40.499790</td>\n",
              "      <td>-74142.000000</td>\n",
              "      <td>1.000000</td>\n",
              "      <td>0.000000</td>\n",
              "      <td>0.000000</td>\n",
              "      <td>1.000000</td>\n",
              "      <td>0.000000</td>\n",
              "      <td>0.000000</td>\n",
              "      <td>0.000000</td>\n",
              "      <td>0.000000</td>\n",
              "    </tr>\n",
              "    <tr>\n",
              "      <th>25%</th>\n",
              "      <td>40.690427</td>\n",
              "      <td>-73.983503</td>\n",
              "      <td>1.000000</td>\n",
              "      <td>1.000000</td>\n",
              "      <td>0.040000</td>\n",
              "      <td>1.000000</td>\n",
              "      <td>0.000000</td>\n",
              "      <td>0.000000</td>\n",
              "      <td>0.000000</td>\n",
              "      <td>69.000000</td>\n",
              "    </tr>\n",
              "    <tr>\n",
              "      <th>50%</th>\n",
              "      <td>40.723645</td>\n",
              "      <td>-73.956025</td>\n",
              "      <td>3.000000</td>\n",
              "      <td>5.000000</td>\n",
              "      <td>0.370000</td>\n",
              "      <td>1.000000</td>\n",
              "      <td>45.000000</td>\n",
              "      <td>0.000000</td>\n",
              "      <td>1.000000</td>\n",
              "      <td>106.000000</td>\n",
              "    </tr>\n",
              "    <tr>\n",
              "      <th>75%</th>\n",
              "      <td>40.763910</td>\n",
              "      <td>-73.937005</td>\n",
              "      <td>5.000000</td>\n",
              "      <td>24.000000</td>\n",
              "      <td>1.590000</td>\n",
              "      <td>2.000000</td>\n",
              "      <td>227.000000</td>\n",
              "      <td>1.000000</td>\n",
              "      <td>1.000000</td>\n",
              "      <td>175.000000</td>\n",
              "    </tr>\n",
              "    <tr>\n",
              "      <th>max</th>\n",
              "      <td>40894.000000</td>\n",
              "      <td>-73.712990</td>\n",
              "      <td>1000.000000</td>\n",
              "      <td>629.000000</td>\n",
              "      <td>58.500000</td>\n",
              "      <td>327.000000</td>\n",
              "      <td>365.000000</td>\n",
              "      <td>1.000000</td>\n",
              "      <td>1.000000</td>\n",
              "      <td>10000.000000</td>\n",
              "    </tr>\n",
              "  </tbody>\n",
              "</table>\n",
              "</div>"
            ],
            "text/plain": [
              "           latitude     longitude  ...  Entire_home/apt         price\n",
              "count  33884.000000  33884.000000  ...     33884.000000  33884.000000\n",
              "mean     393.742123   -767.324528  ...         0.520127    153.605389\n",
              "std     3773.366411   7123.758128  ...         0.499602    249.102710\n",
              "min       40.499790 -74142.000000  ...         0.000000      0.000000\n",
              "25%       40.690427    -73.983503  ...         0.000000     69.000000\n",
              "50%       40.723645    -73.956025  ...         1.000000    106.000000\n",
              "75%       40.763910    -73.937005  ...         1.000000    175.000000\n",
              "max    40894.000000    -73.712990  ...         1.000000  10000.000000\n",
              "\n",
              "[8 rows x 10 columns]"
            ]
          },
          "metadata": {
            "tags": []
          },
          "execution_count": 289
        }
      ]
    },
    {
      "cell_type": "code",
      "metadata": {
        "id": "UJlVwo_-eVf_",
        "outputId": "486aa50b-04f1-40ed-e37f-c4f7fa16fc8c",
        "colab": {
          "base_uri": "https://localhost:8080/",
          "height": 72
        }
      },
      "source": [
        "training_set[['latitude','longitude']].min()"
      ],
      "execution_count": null,
      "outputs": [
        {
          "output_type": "execute_result",
          "data": {
            "text/plain": [
              "latitude        40.49979\n",
              "longitude   -74142.00000\n",
              "dtype: float64"
            ]
          },
          "metadata": {
            "tags": []
          },
          "execution_count": 290
        }
      ]
    },
    {
      "cell_type": "code",
      "metadata": {
        "id": "d7eM4WaJDY7u",
        "outputId": "0c1645ef-41cf-46cb-c46f-ace7af0bc906",
        "colab": {
          "base_uri": "https://localhost:8080/",
          "height": 72
        }
      },
      "source": [
        "training_set[['latitude','longitude']].max()"
      ],
      "execution_count": null,
      "outputs": [
        {
          "output_type": "execute_result",
          "data": {
            "text/plain": [
              "latitude     40894.00000\n",
              "longitude      -73.71299\n",
              "dtype: float64"
            ]
          },
          "metadata": {
            "tags": []
          },
          "execution_count": 291
        }
      ]
    },
    {
      "cell_type": "markdown",
      "metadata": {
        "id": "SjpURfqy8h1y"
      },
      "source": [
        "* anomaly detection \n",
        "\n",
        "Dalle descrittive fornite da pandas notiamo subito alcune criticità:\n",
        "\n",
        "> `latitudine` e `longitudine` :\n",
        ">>le coordinate che identificano New York City sono (40.730610,-73.935242) pertanto le coordinate delle altre abitazioni non potranno discostarsi molto da quei valori. Osserviamo che il valore massimo per la è `latitudine` 40894.0 mentre il valore minimo per la `longitudine` è -74142.0 . \n",
        "**Soluzione proposta** : una più accurata analisi ci fa notare che il separatore virgola è erroneamente spostato di 3 cifre : basterà quindi dividere tutti i valori errati per 1000.\n",
        "\n",
        "> `price` : \n",
        ">> alcune abitazioni hanno prezzo nullo. **Soluzione proposta** : In questo caso non ha senso mantenere l'osservazione nel dataframe, perciò decidiamo di rimuoverla.\n",
        "\n"
      ]
    },
    {
      "cell_type": "code",
      "metadata": {
        "id": "Zm55e6vVeVaF"
      },
      "source": [
        "def unbias(row):\n",
        "  if abs(row) > 1000 :\n",
        "    return row/1000.0\n",
        "  else : return row\n",
        "\n",
        "training_set['latitude']=training_set['latitude'].apply(unbias)\n",
        "training_set['longitude']=training_set['longitude'].apply(unbias)\n"
      ],
      "execution_count": null,
      "outputs": []
    },
    {
      "cell_type": "code",
      "metadata": {
        "id": "GjKAbVh98W8x"
      },
      "source": [
        "training_set = training_set[training_set['price'] != 0]"
      ],
      "execution_count": null,
      "outputs": []
    },
    {
      "cell_type": "code",
      "metadata": {
        "id": "Is2oRg1ceVrL",
        "outputId": "4a891822-f3b8-4c42-cda1-1620e716b704",
        "colab": {
          "base_uri": "https://localhost:8080/",
          "height": 255
        }
      },
      "source": [
        "coordinates = [Point(xy) for xy in zip(training_set.longitude,training_set.latitude)]\n",
        "training_set_new=geopandas.GeoDataFrame(training_set, geometry=coordinates,crs={'init':'epsg:4326'})\n",
        "training_set_new[['latitude','longitude','geometry']].head()"
      ],
      "execution_count": null,
      "outputs": [
        {
          "output_type": "stream",
          "text": [
            "/usr/local/lib/python3.6/dist-packages/pyproj/crs/crs.py:53: FutureWarning: '+init=<authority>:<code>' syntax is deprecated. '<authority>:<code>' is the preferred initialization method. When making the change, be mindful of axis order changes: https://pyproj4.github.io/pyproj/stable/gotchas.html#axis-order-changes-in-proj-6\n",
            "  return _prepare_from_string(\" \".join(pjargs))\n"
          ],
          "name": "stderr"
        },
        {
          "output_type": "execute_result",
          "data": {
            "text/html": [
              "<div>\n",
              "<style scoped>\n",
              "    .dataframe tbody tr th:only-of-type {\n",
              "        vertical-align: middle;\n",
              "    }\n",
              "\n",
              "    .dataframe tbody tr th {\n",
              "        vertical-align: top;\n",
              "    }\n",
              "\n",
              "    .dataframe thead th {\n",
              "        text-align: right;\n",
              "    }\n",
              "</style>\n",
              "<table border=\"1\" class=\"dataframe\">\n",
              "  <thead>\n",
              "    <tr style=\"text-align: right;\">\n",
              "      <th></th>\n",
              "      <th>latitude</th>\n",
              "      <th>longitude</th>\n",
              "      <th>geometry</th>\n",
              "    </tr>\n",
              "  </thead>\n",
              "  <tbody>\n",
              "    <tr>\n",
              "      <th>0</th>\n",
              "      <td>40.71239</td>\n",
              "      <td>-73.95271</td>\n",
              "      <td>POINT (-73.95271 40.71239)</td>\n",
              "    </tr>\n",
              "    <tr>\n",
              "      <th>1</th>\n",
              "      <td>40.69600</td>\n",
              "      <td>-73.91303</td>\n",
              "      <td>POINT (-73.91303 40.69600)</td>\n",
              "    </tr>\n",
              "    <tr>\n",
              "      <th>2</th>\n",
              "      <td>40.62707</td>\n",
              "      <td>-74.02817</td>\n",
              "      <td>POINT (-74.02817 40.62707)</td>\n",
              "    </tr>\n",
              "    <tr>\n",
              "      <th>3</th>\n",
              "      <td>40.77910</td>\n",
              "      <td>-73.98565</td>\n",
              "      <td>POINT (-73.98565 40.77910)</td>\n",
              "    </tr>\n",
              "    <tr>\n",
              "      <th>4</th>\n",
              "      <td>40.75777</td>\n",
              "      <td>-73.93509</td>\n",
              "      <td>POINT (-73.93509 40.75777)</td>\n",
              "    </tr>\n",
              "  </tbody>\n",
              "</table>\n",
              "</div>"
            ],
            "text/plain": [
              "   latitude  longitude                    geometry\n",
              "0  40.71239  -73.95271  POINT (-73.95271 40.71239)\n",
              "1  40.69600  -73.91303  POINT (-73.91303 40.69600)\n",
              "2  40.62707  -74.02817  POINT (-74.02817 40.62707)\n",
              "3  40.77910  -73.98565  POINT (-73.98565 40.77910)\n",
              "4  40.75777  -73.93509  POINT (-73.93509 40.75777)"
            ]
          },
          "metadata": {
            "tags": []
          },
          "execution_count": 302
        }
      ]
    },
    {
      "cell_type": "code",
      "metadata": {
        "id": "HViMiLFkXSHw",
        "outputId": "6765e3d6-b7f0-4b19-976c-9a93501b598c",
        "colab": {
          "base_uri": "https://localhost:8080/",
          "height": 610
        }
      },
      "source": [
        "fig, ax = plt.subplots(figsize = (10,10))\n",
        "boroughs = geopandas.read_file(geopandas.datasets.get_path(\"nybb\"))\n",
        "boroughs_locations = geopandas.tools.geocode(boroughs.BoroName.to_list())\n",
        "boroughs.to_crs(\"EPSG:4326\").plot(ax=ax, color=\"white\", edgecolor=\"black\")\n",
        "boroughs_locations.plot(ax=ax, color=\"red\",markersize = 100)\n",
        "training_set_new['geometry'].plot(ax=ax, color=\"blue\",markersize = 0.2)\n"
      ],
      "execution_count": null,
      "outputs": [
        {
          "output_type": "execute_result",
          "data": {
            "text/plain": [
              "<matplotlib.axes._subplots.AxesSubplot at 0x7f016b3212b0>"
            ]
          },
          "metadata": {
            "tags": []
          },
          "execution_count": 72
        },
        {
          "output_type": "display_data",
          "data": {
            "image/png": "[encoded data removed]",
            "text/plain": [
              "<Figure size 720x720 with 1 Axes>"
            ]
          },
          "metadata": {
            "tags": [],
            "needs_background": "light"
          }
        }
      ]
    },
    {
      "cell_type": "markdown",
      "metadata": {
        "id": "sK-1r0Ezp6ip"
      },
      "source": [
        "* Nota\n",
        "\n",
        "> Osserviamo graficamente che la maggior parte delle abitazioni sono a Manhattan e Brooklyn \n",
        "\n",
        "\n",
        "* Svolgimento \n",
        "\n",
        "> Per associare un punto al proprio distretto possiamo calcolare le distanze tra il punto e i 5 distretti e considerare il distretto con distanza più piccola. "
      ]
    },
    {
      "cell_type": "code",
      "metadata": {
        "id": "wuNqGE4bW0XV",
        "outputId": "2cce0341-9155-41d8-a30c-b3b8f3510419",
        "colab": {
          "base_uri": "https://localhost:8080/",
          "height": 198
        }
      },
      "source": [
        "training_set_new['(lat,lon)']=training_set_new[['latitude','longitude']].apply(lambda x: tuple(x), axis=1)\n",
        "training_set_new[['latitude','longitude','(lat,lon)']].head()"
      ],
      "execution_count": null,
      "outputs": [
        {
          "output_type": "execute_result",
          "data": {
            "text/html": [
              "<div>\n",
              "<style scoped>\n",
              "    .dataframe tbody tr th:only-of-type {\n",
              "        vertical-align: middle;\n",
              "    }\n",
              "\n",
              "    .dataframe tbody tr th {\n",
              "        vertical-align: top;\n",
              "    }\n",
              "\n",
              "    .dataframe thead th {\n",
              "        text-align: right;\n",
              "    }\n",
              "</style>\n",
              "<table border=\"1\" class=\"dataframe\">\n",
              "  <thead>\n",
              "    <tr style=\"text-align: right;\">\n",
              "      <th></th>\n",
              "      <th>latitude</th>\n",
              "      <th>longitude</th>\n",
              "      <th>(lat,lon)</th>\n",
              "    </tr>\n",
              "  </thead>\n",
              "  <tbody>\n",
              "    <tr>\n",
              "      <th>0</th>\n",
              "      <td>40.71239</td>\n",
              "      <td>-73.95271</td>\n",
              "      <td>(40.71239, -73.95271)</td>\n",
              "    </tr>\n",
              "    <tr>\n",
              "      <th>1</th>\n",
              "      <td>40.69600</td>\n",
              "      <td>-73.91303</td>\n",
              "      <td>(40.696, -73.91303)</td>\n",
              "    </tr>\n",
              "    <tr>\n",
              "      <th>2</th>\n",
              "      <td>40.62707</td>\n",
              "      <td>-74.02817</td>\n",
              "      <td>(40.62707, -74.02816999999997)</td>\n",
              "    </tr>\n",
              "    <tr>\n",
              "      <th>3</th>\n",
              "      <td>40.77910</td>\n",
              "      <td>-73.98565</td>\n",
              "      <td>(40.7791, -73.98565)</td>\n",
              "    </tr>\n",
              "    <tr>\n",
              "      <th>4</th>\n",
              "      <td>40.75777</td>\n",
              "      <td>-73.93509</td>\n",
              "      <td>(40.75777, -73.93509)</td>\n",
              "    </tr>\n",
              "  </tbody>\n",
              "</table>\n",
              "</div>"
            ],
            "text/plain": [
              "   latitude  longitude                       (lat,lon)\n",
              "0  40.71239  -73.95271           (40.71239, -73.95271)\n",
              "1  40.69600  -73.91303             (40.696, -73.91303)\n",
              "2  40.62707  -74.02817  (40.62707, -74.02816999999997)\n",
              "3  40.77910  -73.98565            (40.7791, -73.98565)\n",
              "4  40.75777  -73.93509           (40.75777, -73.93509)"
            ]
          },
          "metadata": {
            "tags": []
          },
          "execution_count": 303
        }
      ]
    },
    {
      "cell_type": "code",
      "metadata": {
        "id": "3CCUYUqWhMsr",
        "outputId": "a44d5e07-034f-41f3-893f-26d3e9749cd0",
        "colab": {
          "base_uri": "https://localhost:8080/",
          "height": 285
        }
      },
      "source": [
        "def extract_coords(row):\n",
        "  return (tuple((row.y,row.x)))\n",
        " \n",
        "boroughs_locations['(lat,lon)']= boroughs_locations['geometry'].apply(extract_coords)\n",
        "boroughs_locations[['geometry','address','(lat,lon)']].head()"
      ],
      "execution_count": null,
      "outputs": [
        {
          "output_type": "execute_result",
          "data": {
            "text/html": [
              "<div>\n",
              "<style scoped>\n",
              "    .dataframe tbody tr th:only-of-type {\n",
              "        vertical-align: middle;\n",
              "    }\n",
              "\n",
              "    .dataframe tbody tr th {\n",
              "        vertical-align: top;\n",
              "    }\n",
              "\n",
              "    .dataframe thead th {\n",
              "        text-align: right;\n",
              "    }\n",
              "</style>\n",
              "<table border=\"1\" class=\"dataframe\">\n",
              "  <thead>\n",
              "    <tr style=\"text-align: right;\">\n",
              "      <th></th>\n",
              "      <th>geometry</th>\n",
              "      <th>address</th>\n",
              "      <th>(lat,lon)</th>\n",
              "    </tr>\n",
              "  </thead>\n",
              "  <tbody>\n",
              "    <tr>\n",
              "      <th>0</th>\n",
              "      <td>POINT (-74.07620 40.64350)</td>\n",
              "      <td>Staten Island, NY, United States</td>\n",
              "      <td>(40.6434974670665, -74.0762023925121)</td>\n",
              "    </tr>\n",
              "    <tr>\n",
              "      <th>1</th>\n",
              "      <td>POINT (-73.81730 40.75978)</td>\n",
              "      <td>Queens County, United States</td>\n",
              "      <td>(40.7597770690667, -73.8172988891209)</td>\n",
              "    </tr>\n",
              "    <tr>\n",
              "      <th>2</th>\n",
              "      <td>POINT (-73.99100 40.69253)</td>\n",
              "      <td>Brooklyn, NY, United States</td>\n",
              "      <td>(40.6925277709666, -73.9909973144121)</td>\n",
              "    </tr>\n",
              "    <tr>\n",
              "      <th>3</th>\n",
              "      <td>POINT (-73.96943 40.78303)</td>\n",
              "      <td>Manhattan, New York, United States</td>\n",
              "      <td>(40.7830276489668, -73.9694290161121)</td>\n",
              "    </tr>\n",
              "    <tr>\n",
              "      <th>4</th>\n",
              "      <td>POINT (-73.92027 40.82615)</td>\n",
              "      <td>Bronx County, United States</td>\n",
              "      <td>(40.8261528015668, -73.9202651977121)</td>\n",
              "    </tr>\n",
              "  </tbody>\n",
              "</table>\n",
              "</div>"
            ],
            "text/plain": [
              "                     geometry  ...                              (lat,lon)\n",
              "0  POINT (-74.07620 40.64350)  ...  (40.6434974670665, -74.0762023925121)\n",
              "1  POINT (-73.81730 40.75978)  ...  (40.7597770690667, -73.8172988891209)\n",
              "2  POINT (-73.99100 40.69253)  ...  (40.6925277709666, -73.9909973144121)\n",
              "3  POINT (-73.96943 40.78303)  ...  (40.7830276489668, -73.9694290161121)\n",
              "4  POINT (-73.92027 40.82615)  ...  (40.8261528015668, -73.9202651977121)\n",
              "\n",
              "[5 rows x 3 columns]"
            ]
          },
          "metadata": {
            "tags": []
          },
          "execution_count": 304
        }
      ]
    },
    {
      "cell_type": "code",
      "metadata": {
        "id": "TIyHWfBaRYqI"
      },
      "source": [
        "def distance(row):\n",
        "  districts = {'staten island':0,'queens':1, 'brooklyn': 2, 'manhattan':3, 'bronx': 4} \n",
        "  min_dist = 10000000 \n",
        "  min_district=''\n",
        "  for district in districts:\n",
        "    dist = geopy.distance.geodesic(row,boroughs_locations['(lat,lon)'].iloc[districts[district]]).kilometers\n",
        "    if dist <= min_dist : \n",
        "      min_dist = dist\n",
        "      min_district = districts[district]\n",
        "  return min_district\n",
        "\n",
        "training_set_new['district']= training_set_new['(lat,lon)'].apply(distance)\n",
        "\n"
      ],
      "execution_count": null,
      "outputs": []
    },
    {
      "cell_type": "code",
      "metadata": {
        "id": "wDKsZf144v5q",
        "outputId": "23a74b00-67b0-4143-daf9-5d40687dc5e4",
        "colab": {
          "base_uri": "https://localhost:8080/",
          "height": 218
        }
      },
      "source": [
        "training_set_2=training_set_new[['district','minimum_nights', 'number_of_reviews',\n",
        "       'reviews_per_month', 'calculated_host_listings_count',\n",
        "       'availability_365', 'Private_room', 'Entire_home/apt', 'price']]\n",
        "training_set_2.head()"
      ],
      "execution_count": null,
      "outputs": [
        {
          "output_type": "execute_result",
          "data": {
            "text/html": [
              "<div>\n",
              "<style scoped>\n",
              "    .dataframe tbody tr th:only-of-type {\n",
              "        vertical-align: middle;\n",
              "    }\n",
              "\n",
              "    .dataframe tbody tr th {\n",
              "        vertical-align: top;\n",
              "    }\n",
              "\n",
              "    .dataframe thead th {\n",
              "        text-align: right;\n",
              "    }\n",
              "</style>\n",
              "<table border=\"1\" class=\"dataframe\">\n",
              "  <thead>\n",
              "    <tr style=\"text-align: right;\">\n",
              "      <th></th>\n",
              "      <th>district</th>\n",
              "      <th>minimum_nights</th>\n",
              "      <th>number_of_reviews</th>\n",
              "      <th>reviews_per_month</th>\n",
              "      <th>calculated_host_listings_count</th>\n",
              "      <th>availability_365</th>\n",
              "      <th>Private_room</th>\n",
              "      <th>Entire_home/apt</th>\n",
              "      <th>price</th>\n",
              "    </tr>\n",
              "  </thead>\n",
              "  <tbody>\n",
              "    <tr>\n",
              "      <th>0</th>\n",
              "      <td>2</td>\n",
              "      <td>4</td>\n",
              "      <td>2</td>\n",
              "      <td>0.19</td>\n",
              "      <td>1</td>\n",
              "      <td>0</td>\n",
              "      <td>1</td>\n",
              "      <td>0</td>\n",
              "      <td>65</td>\n",
              "    </tr>\n",
              "    <tr>\n",
              "      <th>1</th>\n",
              "      <td>2</td>\n",
              "      <td>4</td>\n",
              "      <td>17</td>\n",
              "      <td>0.66</td>\n",
              "      <td>2</td>\n",
              "      <td>307</td>\n",
              "      <td>1</td>\n",
              "      <td>0</td>\n",
              "      <td>57</td>\n",
              "    </tr>\n",
              "    <tr>\n",
              "      <th>2</th>\n",
              "      <td>0</td>\n",
              "      <td>3</td>\n",
              "      <td>1</td>\n",
              "      <td>0.04</td>\n",
              "      <td>1</td>\n",
              "      <td>87</td>\n",
              "      <td>0</td>\n",
              "      <td>0</td>\n",
              "      <td>225</td>\n",
              "    </tr>\n",
              "    <tr>\n",
              "      <th>3</th>\n",
              "      <td>3</td>\n",
              "      <td>1</td>\n",
              "      <td>4</td>\n",
              "      <td>0.08</td>\n",
              "      <td>1</td>\n",
              "      <td>0</td>\n",
              "      <td>0</td>\n",
              "      <td>1</td>\n",
              "      <td>175</td>\n",
              "    </tr>\n",
              "    <tr>\n",
              "      <th>4</th>\n",
              "      <td>3</td>\n",
              "      <td>1</td>\n",
              "      <td>0</td>\n",
              "      <td>0.00</td>\n",
              "      <td>1</td>\n",
              "      <td>358</td>\n",
              "      <td>1</td>\n",
              "      <td>0</td>\n",
              "      <td>125</td>\n",
              "    </tr>\n",
              "  </tbody>\n",
              "</table>\n",
              "</div>"
            ],
            "text/plain": [
              "   district  minimum_nights  ...  Entire_home/apt  price\n",
              "0         2               4  ...                0     65\n",
              "1         2               4  ...                0     57\n",
              "2         0               3  ...                0    225\n",
              "3         3               1  ...                1    175\n",
              "4         3               1  ...                0    125\n",
              "\n",
              "[5 rows x 9 columns]"
            ]
          },
          "metadata": {
            "tags": []
          },
          "execution_count": 310
        }
      ]
    },
    {
      "cell_type": "markdown",
      "metadata": {
        "id": "J_Ta-OvCDsP3"
      },
      "source": [
        "> Troviamo confermata la numerosità delle abitazioni distribuite nei quartieri di New York con quanto osservato graficamente.\n"
      ]
    },
    {
      "cell_type": "code",
      "metadata": {
        "id": "lM-c2qrq-GR_",
        "outputId": "3fe07b05-f35c-4899-eaa9-7ee2d2b7f4f2",
        "colab": {
          "base_uri": "https://localhost:8080/",
          "height": 295
        }
      },
      "source": [
        "plt.bar(['staten island','queens', 'brooklyn', 'manhattan', 'bronx'],list(training_set_2.groupby('district').size()))\n",
        "plt.xlabel('district')\n",
        "plt.ylabel('nb houses')\n",
        "plt.title('Houses per district')\n",
        "plt.show()"
      ],
      "execution_count": null,
      "outputs": [
        {
          "output_type": "display_data",
          "data": {
            "image/png": "[encoded data removed]",
            "text/plain": [
              "<Figure size 432x288 with 1 Axes>"
            ]
          },
          "metadata": {
            "tags": [],
            "needs_background": "light"
          }
        }
      ]
    },
    {
      "cell_type": "markdown",
      "metadata": {
        "id": "CK-YSbqneXl1"
      },
      "source": [
        "## correlazioni \n",
        "\n",
        "\n",
        "\n",
        "\n"
      ]
    },
    {
      "cell_type": "code",
      "metadata": {
        "id": "_UNYaCRkTZMq"
      },
      "source": [
        "#fig, ax = plt.subplots(figsize=(7,7))  \n",
        "#sns.heatmap(round(training_set.corr(),3),annot=True, cmap=\"YlGnBu\",ax=ax)"
      ],
      "execution_count": null,
      "outputs": []
    }
  ]
}