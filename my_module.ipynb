{
  "nbformat": 4,
  "nbformat_minor": 0,
  "metadata": {
    "colab": {
      "name": "my_module.ipynb",
      "provenance": [],
      "collapsed_sections": []
    },
    "kernelspec": {
      "name": "python3",
      "display_name": "Python 3"
    }
  },
  "cells": [
    {
      "cell_type": "code",
      "metadata": {
        "id": "QrIIXKD3fsVt"
      },
      "source": [
        "def f():\r\n",
        "  print( 'ciaooooooooo')\r\n",
        "\r\n",
        "def new():\r\n",
        "  f\"{f()} ciaoooo\"\r\n",
        "  print('new')"
      ],
      "execution_count": null,
      "outputs": []
    }
  ]
}